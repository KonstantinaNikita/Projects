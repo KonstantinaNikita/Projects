{
 "cells": [
  {
   "cell_type": "code",
   "execution_count": 1,
   "id": "63d0fe44-9dc2-49a8-83f4-2207446d6e9a",
   "metadata": {},
   "outputs": [],
   "source": [
    "import pandas as pd\n",
    "import numpy as np \n",
    "import matplotlib.pyplot as plt\n",
    "import seaborn as sn\n",
    "import sklearn\n",
    "from sklearn.neural_network import MLPClassifier\n",
    "from sklearn.neural_network import MLPRegressor\n",
    "\n",
    "# Import necessary modules\n",
    "from sklearn.model_selection import train_test_split\n",
    "from sklearn.metrics import mean_squared_error\n",
    "from math import sqrt\n",
    "from sklearn.metrics import r2_score"
   ]
  },
  {
   "cell_type": "markdown",
   "id": "05442198-07e3-464f-83e3-995d82f4e22e",
   "metadata": {},
   "source": [
    "The variables are: \n",
    "\n",
    "<ul>\n",
    "    <li>ID: Customer ID </li>\n",
    "    <li>Age: Customer's age in completed years </li>  \n",
    "    <li>Experience: #years of professional experience </li>\n",
    "    <li>Income: Annual income of the customer (000) </li>\n",
    "    <li>ZIPCode: Home Address ZIP code </li>\n",
    "    <li>Family: Family size of the customer </li>\n",
    "    <li>CCAvg: Avg. spending on credit cards per month (000) </li>\n",
    "    <li>Education: Education Level. 1: Undergrad; 2: Graduate; 3: Advanced/Professional </li>\n",
    "    <li>Mortgage: Value of house mortgage if any. (000) </li>\n",
    "    <li>Personal Loan: Did this customer accept the personal loan offered? </li>\n",
    "    <li>Securities Account: Does the customer have a securities account with the bank? </li>\n",
    "    <li>CD Account: Does the customer have a certificate of deposit (CD) account with the bank? </li>\n",
    "    <li>Online: Does the customer use internet banking facilities? </li>\n",
    "    <li>CreditCard: Does the customer use a credit card issued by UniversalBank? </li>\n",
    "</ul>\n"
   ]
  },
  {
   "cell_type": "code",
   "execution_count": 4,
   "id": "033e26bb-90c3-4105-a6e4-cbec715808a5",
   "metadata": {},
   "outputs": [
    {
     "name": "stdout",
     "output_type": "stream",
     "text": [
      "(5000, 13)\n"
     ]
    },
    {
     "data": {
      "text/html": [
       "<div>\n",
       "<style scoped>\n",
       "    .dataframe tbody tr th:only-of-type {\n",
       "        vertical-align: middle;\n",
       "    }\n",
       "\n",
       "    .dataframe tbody tr th {\n",
       "        vertical-align: top;\n",
       "    }\n",
       "\n",
       "    .dataframe thead th {\n",
       "        text-align: right;\n",
       "    }\n",
       "</style>\n",
       "<table border=\"1\" class=\"dataframe\">\n",
       "  <thead>\n",
       "    <tr style=\"text-align: right;\">\n",
       "      <th></th>\n",
       "      <th>Age</th>\n",
       "      <th>Experience</th>\n",
       "      <th>Income</th>\n",
       "      <th>ZIP Code</th>\n",
       "      <th>Family</th>\n",
       "      <th>CCAvg</th>\n",
       "      <th>Education</th>\n",
       "      <th>Mortgage</th>\n",
       "      <th>Personal Loan</th>\n",
       "      <th>Securities Account</th>\n",
       "      <th>CD Account</th>\n",
       "      <th>Online</th>\n",
       "      <th>CreditCard</th>\n",
       "    </tr>\n",
       "  </thead>\n",
       "  <tbody>\n",
       "    <tr>\n",
       "      <th>0</th>\n",
       "      <td>25</td>\n",
       "      <td>1</td>\n",
       "      <td>49</td>\n",
       "      <td>91107</td>\n",
       "      <td>4</td>\n",
       "      <td>1.6</td>\n",
       "      <td>1</td>\n",
       "      <td>0</td>\n",
       "      <td>0</td>\n",
       "      <td>1</td>\n",
       "      <td>0</td>\n",
       "      <td>0</td>\n",
       "      <td>0</td>\n",
       "    </tr>\n",
       "    <tr>\n",
       "      <th>1</th>\n",
       "      <td>45</td>\n",
       "      <td>19</td>\n",
       "      <td>34</td>\n",
       "      <td>90089</td>\n",
       "      <td>3</td>\n",
       "      <td>1.5</td>\n",
       "      <td>1</td>\n",
       "      <td>0</td>\n",
       "      <td>0</td>\n",
       "      <td>1</td>\n",
       "      <td>0</td>\n",
       "      <td>0</td>\n",
       "      <td>0</td>\n",
       "    </tr>\n",
       "    <tr>\n",
       "      <th>2</th>\n",
       "      <td>39</td>\n",
       "      <td>15</td>\n",
       "      <td>11</td>\n",
       "      <td>94720</td>\n",
       "      <td>1</td>\n",
       "      <td>1.0</td>\n",
       "      <td>1</td>\n",
       "      <td>0</td>\n",
       "      <td>0</td>\n",
       "      <td>0</td>\n",
       "      <td>0</td>\n",
       "      <td>0</td>\n",
       "      <td>0</td>\n",
       "    </tr>\n",
       "    <tr>\n",
       "      <th>3</th>\n",
       "      <td>35</td>\n",
       "      <td>9</td>\n",
       "      <td>100</td>\n",
       "      <td>94112</td>\n",
       "      <td>1</td>\n",
       "      <td>2.7</td>\n",
       "      <td>2</td>\n",
       "      <td>0</td>\n",
       "      <td>0</td>\n",
       "      <td>0</td>\n",
       "      <td>0</td>\n",
       "      <td>0</td>\n",
       "      <td>0</td>\n",
       "    </tr>\n",
       "    <tr>\n",
       "      <th>4</th>\n",
       "      <td>35</td>\n",
       "      <td>8</td>\n",
       "      <td>45</td>\n",
       "      <td>91330</td>\n",
       "      <td>4</td>\n",
       "      <td>1.0</td>\n",
       "      <td>2</td>\n",
       "      <td>0</td>\n",
       "      <td>0</td>\n",
       "      <td>0</td>\n",
       "      <td>0</td>\n",
       "      <td>0</td>\n",
       "      <td>1</td>\n",
       "    </tr>\n",
       "  </tbody>\n",
       "</table>\n",
       "</div>"
      ],
      "text/plain": [
       "   Age  Experience  Income  ZIP Code  Family  CCAvg  Education  Mortgage  \\\n",
       "0   25           1      49     91107       4    1.6          1         0   \n",
       "1   45          19      34     90089       3    1.5          1         0   \n",
       "2   39          15      11     94720       1    1.0          1         0   \n",
       "3   35           9     100     94112       1    2.7          2         0   \n",
       "4   35           8      45     91330       4    1.0          2         0   \n",
       "\n",
       "   Personal Loan  Securities Account  CD Account  Online  CreditCard  \n",
       "0              0                   1           0       0           0  \n",
       "1              0                   1           0       0           0  \n",
       "2              0                   0           0       0           0  \n",
       "3              0                   0           0       0           0  \n",
       "4              0                   0           0       0           1  "
      ]
     },
     "execution_count": 4,
     "metadata": {},
     "output_type": "execute_result"
    }
   ],
   "source": [
    "df=pd.read_excel(\"Personal_loan.xlsx\", \"Data\")\n",
    "print(df.shape)\n",
    "df[0:5]"
   ]
  },
  {
   "cell_type": "code",
   "execution_count": 5,
   "id": "2c3b169d-3bd6-45c6-b4ea-a58c5b8d5224",
   "metadata": {},
   "outputs": [],
   "source": [
    "target_column = ['Personal Loan']\n",
    "y = df[target_column].values\n",
    "independent=['Age', \"Income\",\"Family\",\"Education\",\"CreditCard\"]\n",
    "x = df[independent].values\n",
    "X_train, X_test, y_train, y_test = train_test_split(x, y, test_size=0.30, random_state=40)"
   ]
  },
  {
   "cell_type": "code",
   "execution_count": 7,
   "id": "a93765f4-bae1-4006-a4f3-4b27c82c56b3",
   "metadata": {},
   "outputs": [],
   "source": [
    "from sklearn.preprocessing import StandardScaler\n",
    "scaler = StandardScaler() \n",
    "scaler.fit(X_train)\n",
    "X_train = scaler.transform(X_train)\n",
    "X_test = scaler.transform(X_test)"
   ]
  },
  {
   "cell_type": "code",
   "execution_count": 8,
   "id": "9f053172-d5d7-489c-b3f3-cc27d0050bc2",
   "metadata": {},
   "outputs": [
    {
     "name": "stderr",
     "output_type": "stream",
     "text": [
      "C:\\Users\\kwnst\\AppData\\Local\\Programs\\Python\\Python310\\lib\\site-packages\\sklearn\\neural_network\\_multilayer_perceptron.py:1109: DataConversionWarning: A column-vector y was passed when a 1d array was expected. Please change the shape of y to (n_samples, ), for example using ravel().\n",
      "  y = column_or_1d(y, warn=True)\n"
     ]
    },
    {
     "name": "stdout",
     "output_type": "stream",
     "text": [
      "Best parameters found:\n",
      "{'activation': 'tanh', 'alpha': 0.05, 'hidden_layer_sizes': (10, 20, 20), 'learning_rate': 'adaptive', 'solver': 'adam'}\n"
     ]
    }
   ],
   "source": [
    "from sklearn.model_selection import GridSearchCV\n",
    "parameter_space = {\n",
    "    'hidden_layer_sizes': [(5,),(10,),(20,), (5,10),(10,10),(5,10,20),(10,10,20),(10,20,20)],     # different structures\n",
    "    'activation': ['tanh', 'relu'],  # different activations\n",
    "    'solver': ['lbfgs','sgd', 'adam'],      # different solvers\n",
    "    'alpha': [0.0001, 0.05],     # different regularizations\n",
    "    'learning_rate': ['constant','adaptive'],    # different learning rate settings\n",
    "}\n",
    "\n",
    "clf = GridSearchCV(MLPClassifier(max_iter=5000), parameter_space, cv=5,scoring='accuracy', n_jobs=-1)\n",
    "clf.fit(X_train,y_train)\n",
    "print(\"Best parameters found:\")\n",
    "print(clf.best_params_)"
   ]
  },
  {
   "cell_type": "code",
   "execution_count": 9,
   "id": "6c88099b-1bd7-4523-9d8e-a3501a3e8215",
   "metadata": {},
   "outputs": [
    {
     "name": "stdout",
     "output_type": "stream",
     "text": [
      "Results on the test set:\n",
      "              precision    recall  f1-score   support\n",
      "\n",
      "           0       0.99      1.00      0.99      3157\n",
      "           1       0.96      0.88      0.92       343\n",
      "\n",
      "    accuracy                           0.98      3500\n",
      "   macro avg       0.97      0.94      0.96      3500\n",
      "weighted avg       0.98      0.98      0.98      3500\n",
      "\n",
      "[[3144   13]\n",
      " [  40  303]]\n"
     ]
    }
   ],
   "source": [
    "predict_cv_train = clf.predict(X_train)\n",
    "predict_cv_test = clf.predict(X_test)\n",
    "\n",
    "from sklearn.metrics import classification_report\n",
    "from sklearn.metrics import confusion_matrix\n",
    "import itertools\n",
    "print('Results on the test set:')\n",
    "print(classification_report(y_train, predict_cv_train))\n",
    "print(confusion_matrix(y_train,predict_cv_train))"
   ]
  },
  {
   "cell_type": "code",
   "execution_count": null,
   "id": "6bf05d91-1468-4212-ae03-057c77da7913",
   "metadata": {},
   "outputs": [],
   "source": []
  }
 ],
 "metadata": {
  "kernelspec": {
   "display_name": "Python 3 (ipykernel)",
   "language": "python",
   "name": "python3"
  },
  "language_info": {
   "codemirror_mode": {
    "name": "ipython",
    "version": 3
   },
   "file_extension": ".py",
   "mimetype": "text/x-python",
   "name": "python",
   "nbconvert_exporter": "python",
   "pygments_lexer": "ipython3",
   "version": "3.10.0"
  }
 },
 "nbformat": 4,
 "nbformat_minor": 5
}
