{
 "cells": [
  {
   "cell_type": "code",
   "execution_count": 110,
   "id": "2e9f3ef4-c4ec-41df-be89-f65aea32747c",
   "metadata": {},
   "outputs": [
    {
     "name": "stdout",
     "output_type": "stream",
     "text": [
      "Requirement already satisfied: pandas in c:\\users\\kwnst\\appdata\\local\\programs\\python\\python310\\lib\\site-packages (1.3.5)\n",
      "Requirement already satisfied: numpy>=1.21.0 in c:\\users\\kwnst\\appdata\\local\\programs\\python\\python310\\lib\\site-packages (from pandas) (1.22.0)\n",
      "Requirement already satisfied: python-dateutil>=2.7.3 in c:\\users\\kwnst\\appdata\\local\\programs\\python\\python310\\lib\\site-packages (from pandas) (2.8.2)\n",
      "Requirement already satisfied: pytz>=2017.3 in c:\\users\\kwnst\\appdata\\local\\programs\\python\\python310\\lib\\site-packages (from pandas) (2021.3)\n",
      "Requirement already satisfied: six>=1.5 in c:\\users\\kwnst\\appdata\\local\\programs\\python\\python310\\lib\\site-packages (from python-dateutil>=2.7.3->pandas) (1.16.0)\n"
     ]
    },
    {
     "name": "stderr",
     "output_type": "stream",
     "text": [
      "WARNING: You are using pip version 21.2.3; however, version 23.2.1 is available.\n",
      "You should consider upgrading via the 'C:\\Users\\kwnst\\AppData\\Local\\Programs\\Python\\Python310\\python.exe -m pip install --upgrade pip' command.\n"
     ]
    },
    {
     "name": "stdout",
     "output_type": "stream",
     "text": [
      "Requirement already satisfied: numpy in c:\\users\\kwnst\\appdata\\local\\programs\\python\\python310\\lib\\site-packages (1.22.0)\n"
     ]
    },
    {
     "name": "stderr",
     "output_type": "stream",
     "text": [
      "WARNING: You are using pip version 21.2.3; however, version 23.2.1 is available.\n",
      "You should consider upgrading via the 'C:\\Users\\kwnst\\AppData\\Local\\Programs\\Python\\Python310\\python.exe -m pip install --upgrade pip' command.\n"
     ]
    },
    {
     "name": "stdout",
     "output_type": "stream",
     "text": [
      "Requirement already satisfied: matplotlib in c:\\users\\kwnst\\appdata\\local\\programs\\python\\python310\\lib\\site-packages (3.5.1)\n",
      "Requirement already satisfied: numpy>=1.17 in c:\\users\\kwnst\\appdata\\local\\programs\\python\\python310\\lib\\site-packages (from matplotlib) (1.22.0)\n",
      "Requirement already satisfied: kiwisolver>=1.0.1 in c:\\users\\kwnst\\appdata\\local\\programs\\python\\python310\\lib\\site-packages (from matplotlib) (1.3.2)\n",
      "Requirement already satisfied: fonttools>=4.22.0 in c:\\users\\kwnst\\appdata\\local\\programs\\python\\python310\\lib\\site-packages (from matplotlib) (4.28.5)\n",
      "Requirement already satisfied: cycler>=0.10 in c:\\users\\kwnst\\appdata\\local\\programs\\python\\python310\\lib\\site-packages (from matplotlib) (0.11.0)\n",
      "Requirement already satisfied: packaging>=20.0 in c:\\users\\kwnst\\appdata\\local\\programs\\python\\python310\\lib\\site-packages (from matplotlib) (21.3)\n",
      "Requirement already satisfied: python-dateutil>=2.7 in c:\\users\\kwnst\\appdata\\local\\programs\\python\\python310\\lib\\site-packages (from matplotlib) (2.8.2)\n",
      "Requirement already satisfied: pyparsing>=2.2.1 in c:\\users\\kwnst\\appdata\\local\\programs\\python\\python310\\lib\\site-packages (from matplotlib) (2.4.7)\n",
      "Requirement already satisfied: pillow>=6.2.0 in c:\\users\\kwnst\\appdata\\local\\programs\\python\\python310\\lib\\site-packages (from matplotlib) (9.0.0)\n",
      "Requirement already satisfied: six>=1.5 in c:\\users\\kwnst\\appdata\\local\\programs\\python\\python310\\lib\\site-packages (from python-dateutil>=2.7->matplotlib) (1.16.0)\n"
     ]
    },
    {
     "name": "stderr",
     "output_type": "stream",
     "text": [
      "WARNING: You are using pip version 21.2.3; however, version 23.2.1 is available.\n",
      "You should consider upgrading via the 'C:\\Users\\kwnst\\AppData\\Local\\Programs\\Python\\Python310\\python.exe -m pip install --upgrade pip' command.\n"
     ]
    },
    {
     "name": "stdout",
     "output_type": "stream",
     "text": [
      "Requirement already satisfied: statsmodels in c:\\users\\kwnst\\appdata\\local\\programs\\python\\python310\\lib\\site-packages (0.13.2)"
     ]
    },
    {
     "name": "stderr",
     "output_type": "stream",
     "text": [
      "WARNING: You are using pip version 21.2.3; however, version 23.2.1 is available.\n",
      "You should consider upgrading via the 'C:\\Users\\kwnst\\AppData\\Local\\Programs\\Python\\Python310\\python.exe -m pip install --upgrade pip' command.\n"
     ]
    },
    {
     "name": "stdout",
     "output_type": "stream",
     "text": [
      "\n",
      "Requirement already satisfied: packaging>=21.3 in c:\\users\\kwnst\\appdata\\local\\programs\\python\\python310\\lib\\site-packages (from statsmodels) (21.3)\n",
      "Requirement already satisfied: numpy>=1.17 in c:\\users\\kwnst\\appdata\\local\\programs\\python\\python310\\lib\\site-packages (from statsmodels) (1.22.0)\n",
      "Requirement already satisfied: patsy>=0.5.2 in c:\\users\\kwnst\\appdata\\local\\programs\\python\\python310\\lib\\site-packages (from statsmodels) (0.5.2)\n",
      "Requirement already satisfied: scipy>=1.3 in c:\\users\\kwnst\\appdata\\local\\programs\\python\\python310\\lib\\site-packages (from statsmodels) (1.8.0)\n",
      "Requirement already satisfied: pandas>=0.25 in c:\\users\\kwnst\\appdata\\local\\programs\\python\\python310\\lib\\site-packages (from statsmodels) (1.3.5)\n",
      "Requirement already satisfied: pyparsing!=3.0.5,>=2.0.2 in c:\\users\\kwnst\\appdata\\local\\programs\\python\\python310\\lib\\site-packages (from packaging>=21.3->statsmodels) (2.4.7)\n",
      "Requirement already satisfied: python-dateutil>=2.7.3 in c:\\users\\kwnst\\appdata\\local\\programs\\python\\python310\\lib\\site-packages (from pandas>=0.25->statsmodels) (2.8.2)\n",
      "Requirement already satisfied: pytz>=2017.3 in c:\\users\\kwnst\\appdata\\local\\programs\\python\\python310\\lib\\site-packages (from pandas>=0.25->statsmodels) (2021.3)\n",
      "Requirement already satisfied: six in c:\\users\\kwnst\\appdata\\local\\programs\\python\\python310\\lib\\site-packages (from patsy>=0.5.2->statsmodels) (1.16.0)\n",
      "Requirement already satisfied: linearmodels in c:\\users\\kwnst\\appdata\\local\\programs\\python\\python310\\lib\\site-packages (4.27)\n",
      "Requirement already satisfied: mypy-extensions>=0.4 in c:\\users\\kwnst\\appdata\\local\\programs\\python\\python310\\lib\\site-packages (from linearmodels) (0.4.3)\n",
      "Requirement already satisfied: numpy>=1.16 in c:\\users\\kwnst\\appdata\\local\\programs\\python\\python310\\lib\\site-packages (from linearmodels) (1.22.0)\n",
      "Requirement already satisfied: Cython>=0.29.21 in c:\\users\\kwnst\\appdata\\local\\programs\\python\\python310\\lib\\site-packages (from linearmodels) (0.29.30)\n",
      "Requirement already satisfied: formulaic~=0.3.2 in c:\\users\\kwnst\\appdata\\local\\programs\\python\\python310\\lib\\site-packages (from linearmodels) (0.3.4)\n",
      "Requirement already satisfied: setuptools-scm<7.0.0,>=6.4.2 in c:\\users\\kwnst\\appdata\\local\\programs\\python\\python310\\lib\\site-packages (from linearmodels) (6.4.2)\n",
      "Requirement already satisfied: pandas>=0.24 in c:\\users\\kwnst\\appdata\\local\\programs\\python\\python310\\lib\\site-packages (from linearmodels) (1.3.5)\n",
      "Requirement already satisfied: statsmodels>=0.11 in c:\\users\\kwnst\\appdata\\local\\programs\\python\\python310\\lib\\site-packages (from linearmodels) (0.13.2)\n",
      "Requirement already satisfied: pyhdfe>=0.1 in c:\\users\\kwnst\\appdata\\local\\programs\\python\\python310\\lib\\site-packages (from linearmodels) (0.1.0)\n",
      "Requirement already satisfied: scipy>=1.2 in c:\\users\\kwnst\\appdata\\local\\programs\\python\\python310\\lib\\site-packages (from linearmodels) (1.8.0)\n",
      "Requirement already satisfied: property-cached>=1.6.3 in c:\\users\\kwnst\\appdata\\local\\programs\\python\\python310\\lib\\site-packages (from linearmodels) (1.6.4)\n",
      "Requirement already satisfied: wrapt>=1.0 in c:\\users\\kwnst\\appdata\\local\\programs\\python\\python310\\lib\\site-packages (from formulaic~=0.3.2->linearmodels) (1.14.1)\n",
      "Requirement already satisfied: interface-meta<2.0.0,>=1.2.0 in c:\\users\\kwnst\\appdata\\local\\programs\\python\\python310\\lib\\site-packages (from formulaic~=0.3.2->linearmodels) (1.3.0)\n",
      "Requirement already satisfied: astor>=0.8 in c:\\users\\kwnst\\appdata\\local\\programs\\python\\python310\\lib\\site-packages (from formulaic~=0.3.2->linearmodels) (0.8.1)\n",
      "Requirement already satisfied: python-dateutil>=2.7.3 in c:\\users\\kwnst\\appdata\\local\\programs\\python\\python310\\lib\\site-packages (from pandas>=0.24->linearmodels) (2.8.2)\n",
      "Requirement already satisfied: pytz>=2017.3 in c:\\users\\kwnst\\appdata\\local\\programs\\python\\python310\\lib\\site-packages (from pandas>=0.24->linearmodels) (2021.3)\n",
      "Requirement already satisfied: six>=1.5 in c:\\users\\kwnst\\appdata\\local\\programs\\python\\python310\\lib\\site-packages (from python-dateutil>=2.7.3->pandas>=0.24->linearmodels) (1.16.0)\n",
      "Requirement already satisfied: setuptools in c:\\users\\kwnst\\appdata\\local\\programs\\python\\python310\\lib\\site-packages (from setuptools-scm<7.0.0,>=6.4.2->linearmodels) (57.4.0)\n",
      "Requirement already satisfied: packaging>=20.0 in c:\\users\\kwnst\\appdata\\local\\programs\\python\\python310\\lib\\site-packages (from setuptools-scm<7.0.0,>=6.4.2->linearmodels) (21.3)\n",
      "Requirement already satisfied: tomli>=1.0.0 in c:\\users\\kwnst\\appdata\\local\\programs\\python\\python310\\lib\\site-packages (from setuptools-scm<7.0.0,>=6.4.2->linearmodels) (2.0.1)\n",
      "Requirement already satisfied: pyparsing!=3.0.5,>=2.0.2 in c:\\users\\kwnst\\appdata\\local\\programs\\python\\python310\\lib\\site-packages (from packaging>=20.0->setuptools-scm<7.0.0,>=6.4.2->linearmodels) (2.4.7)\n",
      "Requirement already satisfied: patsy>=0.5.2 in c:\\users\\kwnst\\appdata\\local\\programs\\python\\python310\\lib\\site-packages (from statsmodels>=0.11->linearmodels) (0.5.2)\n"
     ]
    },
    {
     "name": "stderr",
     "output_type": "stream",
     "text": [
      "WARNING: You are using pip version 21.2.3; however, version 23.2.1 is available.\n",
      "You should consider upgrading via the 'C:\\Users\\kwnst\\AppData\\Local\\Programs\\Python\\Python310\\python.exe -m pip install --upgrade pip' command.\n"
     ]
    },
    {
     "name": "stdout",
     "output_type": "stream",
     "text": [
      "Requirement already satisfied: datetime in c:\\users\\kwnst\\appdata\\local\\programs\\python\\python310\\lib\\site-packages (4.5)\n",
      "Requirement already satisfied: zope.interface in c:\\users\\kwnst\\appdata\\local\\programs\\python\\python310\\lib\\site-packages (from datetime) (5.4.0)\n",
      "Requirement already satisfied: pytz in c:\\users\\kwnst\\appdata\\local\\programs\\python\\python310\\lib\\site-packages (from datetime) (2021.3)\n",
      "Requirement already satisfied: setuptools in c:\\users\\kwnst\\appdata\\local\\programs\\python\\python310\\lib\\site-packages (from zope.interface->datetime) (57.4.0)\n"
     ]
    },
    {
     "name": "stderr",
     "output_type": "stream",
     "text": [
      "WARNING: You are using pip version 21.2.3; however, version 23.2.1 is available.\n",
      "You should consider upgrading via the 'C:\\Users\\kwnst\\AppData\\Local\\Programs\\Python\\Python310\\python.exe -m pip install --upgrade pip' command.\n",
      "ERROR: Could not find a version that satisfies the requirement math (from versions: none)\n",
      "ERROR: No matching distribution found for math\n",
      "WARNING: You are using pip version 21.2.3; however, version 23.2.1 is available.\n",
      "You should consider upgrading via the 'C:\\Users\\kwnst\\AppData\\Local\\Programs\\Python\\Python310\\python.exe -m pip install --upgrade pip' command.\n"
     ]
    }
   ],
   "source": [
    "!pip install pandas\n",
    "!pip install numpy\n",
    "!pip install matplotlib\n",
    "!pip install statsmodels\n",
    "!pip install linearmodels\n",
    "!pip install datetime\n",
    "!pip install math"
   ]
  },
  {
   "cell_type": "code",
   "execution_count": 111,
   "id": "eeb062a2-84fb-49e4-a807-4fa8814e5510",
   "metadata": {},
   "outputs": [],
   "source": [
    "import pandas as pd\n",
    "import numpy as np\n",
    "import matplotlib.pyplot as plt\n",
    "import statsmodels.api as sm\n",
    "import statsmodels.formula.api as smf\n",
    "import statsmodels.stats.sandwich_covariance as sw\n",
    "import datetime as dt\n",
    "import math\n",
    "# pip install linearmodels   #uncomment to install, only the first time we run this script or if you get an error\n",
    "from linearmodels.panel import RandomEffects\n",
    "from linearmodels.panel import PooledOLS\n",
    "from linearmodels.panel import PanelOLS\n",
    "from scipy import optimize"
   ]
  },
  {
   "cell_type": "code",
   "execution_count": 112,
   "id": "5b1e83ff-3ee8-4614-99b6-ac964a462db0",
   "metadata": {},
   "outputs": [
    {
     "data": {
      "text/html": [
       "<div>\n",
       "<style scoped>\n",
       "    .dataframe tbody tr th:only-of-type {\n",
       "        vertical-align: middle;\n",
       "    }\n",
       "\n",
       "    .dataframe tbody tr th {\n",
       "        vertical-align: top;\n",
       "    }\n",
       "\n",
       "    .dataframe thead th {\n",
       "        text-align: right;\n",
       "    }\n",
       "</style>\n",
       "<table border=\"1\" class=\"dataframe\">\n",
       "  <thead>\n",
       "    <tr style=\"text-align: right;\">\n",
       "      <th></th>\n",
       "      <th>clientid</th>\n",
       "      <th>WeekDate</th>\n",
       "      <th>consumption</th>\n",
       "      <th>receivedHER</th>\n",
       "      <th>housesize</th>\n",
       "      <th>ClimateZone</th>\n",
       "    </tr>\n",
       "  </thead>\n",
       "  <tbody>\n",
       "    <tr>\n",
       "      <th>0</th>\n",
       "      <td>6</td>\n",
       "      <td>2020-12-07</td>\n",
       "      <td>380122.0</td>\n",
       "      <td>0</td>\n",
       "      <td>185</td>\n",
       "      <td>3</td>\n",
       "    </tr>\n",
       "    <tr>\n",
       "      <th>1</th>\n",
       "      <td>6</td>\n",
       "      <td>2020-12-14</td>\n",
       "      <td>355656.0</td>\n",
       "      <td>0</td>\n",
       "      <td>185</td>\n",
       "      <td>3</td>\n",
       "    </tr>\n",
       "    <tr>\n",
       "      <th>2</th>\n",
       "      <td>6</td>\n",
       "      <td>2020-12-21</td>\n",
       "      <td>368145.0</td>\n",
       "      <td>0</td>\n",
       "      <td>185</td>\n",
       "      <td>3</td>\n",
       "    </tr>\n",
       "    <tr>\n",
       "      <th>3</th>\n",
       "      <td>6</td>\n",
       "      <td>2020-12-28</td>\n",
       "      <td>381596.0</td>\n",
       "      <td>0</td>\n",
       "      <td>185</td>\n",
       "      <td>3</td>\n",
       "    </tr>\n",
       "    <tr>\n",
       "      <th>4</th>\n",
       "      <td>6</td>\n",
       "      <td>2021-01-04</td>\n",
       "      <td>464906.0</td>\n",
       "      <td>0</td>\n",
       "      <td>185</td>\n",
       "      <td>3</td>\n",
       "    </tr>\n",
       "    <tr>\n",
       "      <th>...</th>\n",
       "      <td>...</td>\n",
       "      <td>...</td>\n",
       "      <td>...</td>\n",
       "      <td>...</td>\n",
       "      <td>...</td>\n",
       "      <td>...</td>\n",
       "    </tr>\n",
       "    <tr>\n",
       "      <th>95</th>\n",
       "      <td>7</td>\n",
       "      <td>2021-05-03</td>\n",
       "      <td>233090.0</td>\n",
       "      <td>0</td>\n",
       "      <td>350</td>\n",
       "      <td>3</td>\n",
       "    </tr>\n",
       "    <tr>\n",
       "      <th>96</th>\n",
       "      <td>7</td>\n",
       "      <td>2021-05-10</td>\n",
       "      <td>232055.0</td>\n",
       "      <td>0</td>\n",
       "      <td>350</td>\n",
       "      <td>3</td>\n",
       "    </tr>\n",
       "    <tr>\n",
       "      <th>97</th>\n",
       "      <td>7</td>\n",
       "      <td>2021-05-17</td>\n",
       "      <td>231651.0</td>\n",
       "      <td>0</td>\n",
       "      <td>350</td>\n",
       "      <td>3</td>\n",
       "    </tr>\n",
       "    <tr>\n",
       "      <th>98</th>\n",
       "      <td>7</td>\n",
       "      <td>2021-05-24</td>\n",
       "      <td>199141.0</td>\n",
       "      <td>0</td>\n",
       "      <td>350</td>\n",
       "      <td>3</td>\n",
       "    </tr>\n",
       "    <tr>\n",
       "      <th>99</th>\n",
       "      <td>7</td>\n",
       "      <td>2021-05-31</td>\n",
       "      <td>191761.0</td>\n",
       "      <td>0</td>\n",
       "      <td>350</td>\n",
       "      <td>3</td>\n",
       "    </tr>\n",
       "  </tbody>\n",
       "</table>\n",
       "<p>100 rows × 6 columns</p>\n",
       "</div>"
      ],
      "text/plain": [
       "    clientid   WeekDate  consumption  receivedHER  housesize  ClimateZone\n",
       "0          6 2020-12-07     380122.0            0        185            3\n",
       "1          6 2020-12-14     355656.0            0        185            3\n",
       "2          6 2020-12-21     368145.0            0        185            3\n",
       "3          6 2020-12-28     381596.0            0        185            3\n",
       "4          6 2021-01-04     464906.0            0        185            3\n",
       "..       ...        ...          ...          ...        ...          ...\n",
       "95         7 2021-05-03     233090.0            0        350            3\n",
       "96         7 2021-05-10     232055.0            0        350            3\n",
       "97         7 2021-05-17     231651.0            0        350            3\n",
       "98         7 2021-05-24     199141.0            0        350            3\n",
       "99         7 2021-05-31     191761.0            0        350            3\n",
       "\n",
       "[100 rows x 6 columns]"
      ]
     },
     "execution_count": 112,
     "metadata": {},
     "output_type": "execute_result"
    }
   ],
   "source": [
    "df = pd.read_excel('Thesis_data.xlsx')\n",
    "df.head(100)\n",
    "# df.describe()\n",
    "# a = df[\"ClimateZone\"].unique()\n",
    "# print(a)"
   ]
  },
  {
   "cell_type": "code",
   "execution_count": 113,
   "id": "e97585af-57d3-486e-a3fa-fa500040a621",
   "metadata": {},
   "outputs": [
    {
     "name": "stdout",
     "output_type": "stream",
     "text": [
      "84083.37907201232\n"
     ]
    }
   ],
   "source": [
    "sem_data = np.std(df.consumption, ddof=1) / np.sqrt(np.size(df.consumption))\n",
    "print(sem_data)\n"
   ]
  },
  {
   "cell_type": "code",
   "execution_count": 88,
   "id": "c5f3218c-5956-4e9f-ac88-bcabc176d3ed",
   "metadata": {},
   "outputs": [
    {
     "name": "stdout",
     "output_type": "stream",
     "text": [
      "2712\n"
     ]
    }
   ],
   "source": [
    "c=0\n",
    "for i in df.consumption:\n",
    "    # print(i)\n",
    "    if np.isnan(i):\n",
    "        c=c+1\n",
    "print(c) "
   ]
  },
  {
   "cell_type": "code",
   "execution_count": 114,
   "id": "434dbaf4-9622-42ed-b047-b62ee71e8422",
   "metadata": {},
   "outputs": [
    {
     "name": "stdout",
     "output_type": "stream",
     "text": [
      "Requirement already satisfied: plotly_express in c:\\users\\kwnst\\appdata\\local\\programs\\python\\python310\\lib\\site-packages (0.4.1)\n",
      "Requirement already satisfied: plotly>=4.1.0 in c:\\users\\kwnst\\appdata\\local\\programs\\python\\python310\\lib\\site-packages (from plotly_express) (5.8.0)\n",
      "Requirement already satisfied: statsmodels>=0.9.0 in c:\\users\\kwnst\\appdata\\local\\programs\\python\\python310\\lib\\site-packages (from plotly_express) (0.13.2)\n",
      "Requirement already satisfied: patsy>=0.5 in c:\\users\\kwnst\\appdata\\local\\programs\\python\\python310\\lib\\site-packages (from plotly_express) (0.5.2)\n",
      "Requirement already satisfied: pandas>=0.20.0 in c:\\users\\kwnst\\appdata\\local\\programs\\python\\python310\\lib\\site-packages (from plotly_express) (1.3.5)\n",
      "Requirement already satisfied: numpy>=1.11 in c:\\users\\kwnst\\appdata\\local\\programs\\python\\python310\\lib\\site-packages (from plotly_express) (1.22.0)\n",
      "Requirement already satisfied: scipy>=0.18 in c:\\users\\kwnst\\appdata\\local\\programs\\python\\python310\\lib\\site-packages (from plotly_express) (1.8.0)\n",
      "Requirement already satisfied: python-dateutil>=2.7.3 in c:\\users\\kwnst\\appdata\\local\\programs\\python\\python310\\lib\\site-packages (from pandas>=0.20.0->plotly_express) (2.8.2)\n",
      "Requirement already satisfied: pytz>=2017.3 in c:\\users\\kwnst\\appdata\\local\\programs\\python\\python310\\lib\\site-packages (from pandas>=0.20.0->plotly_express) (2021.3)\n",
      "Requirement already satisfied: six in c:\\users\\kwnst\\appdata\\local\\programs\\python\\python310\\lib\\site-packages (from patsy>=0.5->plotly_express) (1.16.0)\n",
      "Requirement already satisfied: tenacity>=6.2.0 in c:\\users\\kwnst\\appdata\\local\\programs\\python\\python310\\lib\\site-packages (from plotly>=4.1.0->plotly_express) (8.0.1)\n",
      "Requirement already satisfied: packaging>=21.3 in c:\\users\\kwnst\\appdata\\local\\programs\\python\\python310\\lib\\site-packages (from statsmodels>=0.9.0->plotly_express) (21.3)\n",
      "Requirement already satisfied: pyparsing!=3.0.5,>=2.0.2 in c:\\users\\kwnst\\appdata\\local\\programs\\python\\python310\\lib\\site-packages (from packaging>=21.3->statsmodels>=0.9.0->plotly_express) (2.4.7)\n"
     ]
    },
    {
     "name": "stderr",
     "output_type": "stream",
     "text": [
      "WARNING: You are using pip version 21.2.3; however, version 23.2.1 is available.\n",
      "You should consider upgrading via the 'C:\\Users\\kwnst\\AppData\\Local\\Programs\\Python\\Python310\\python.exe -m pip install --upgrade pip' command.\n"
     ]
    }
   ],
   "source": [
    "!pip install plotly_express"
   ]
  },
  {
   "cell_type": "code",
   "execution_count": 90,
   "id": "7875c949-e5fa-4374-b2ac-3d5b75f77d5b",
   "metadata": {},
   "outputs": [
    {
     "name": "stderr",
     "output_type": "stream",
     "text": [
      "C:\\Users\\kwnst\\AppData\\Local\\Programs\\Python\\Python310\\lib\\site-packages\\pandas\\core\\arraylike.py:364: RuntimeWarning: divide by zero encountered in log\n",
      "  result = getattr(ufunc, method)(*inputs, **kwargs)\n",
      "C:\\Users\\kwnst\\AppData\\Local\\Programs\\Python\\Python310\\lib\\site-packages\\pandas\\core\\arraylike.py:364: RuntimeWarning: invalid value encountered in log\n",
      "  result = getattr(ufunc, method)(*inputs, **kwargs)\n"
     ]
    },
    {
     "data": {
      "image/png": "[encoded data removed]",
      "text/plain": [
       "<Figure size 480x480 with 1 Axes>"
      ]
     },
     "metadata": {
      "needs_background": "light"
     },
     "output_type": "display_data"
    }
   ],
   "source": [
    "df[\"consumption\"] = np.log(df[\"consumption\"])\n",
    "\n",
    "# rng = np.random.RandomState(0)\n",
    "# colors = rng.rand(100)\n",
    "# sizes = 10000 * rng.rand(100)\n",
    "# plt.scatter(df.WeekDate, df.consumption, alpha=0.3,cmap='viridis')\n",
    "# plt.colorbar();\n",
    "# plt.scatter(df.WeekDate, df.consumption, c =\"blue\")\n",
    " \n",
    "# # To show the plot\n",
    "# plt.show()\n",
    "plt.figure(figsize=(8, 8), dpi=60)\n",
    "plt.scatter(df['WeekDate'], df['consumption'], color='green')\n",
    "plt.title('Consumption based on time', fontsize=14)\n",
    "plt.xlabel('Week Date', fontsize=14)\n",
    "plt.ylabel('Consumption', fontsize=14)\n",
    "plt.grid(True)\n",
    "plt.show()"
   ]
  },
  {
   "cell_type": "code",
   "execution_count": 91,
   "id": "0bd325ae-0372-47ec-bd7a-686481a75e65",
   "metadata": {},
   "outputs": [
    {
     "data": {
      "text/plain": [
       "<AxesSubplot:title={'center':'Climate zones to which constumers belong'}, ylabel='clientid'>"
      ]
     },
     "execution_count": 91,
     "metadata": {},
     "output_type": "execute_result"
    },
    {
     "data": {
      "image/png": "[encoded data removed]",
      "text/plain": [
       "<Figure size 576x576 with 1 Axes>"
      ]
     },
     "metadata": {},
     "output_type": "display_data"
    }
   ],
   "source": [
    "explode = (0.05, 0.05, 0.05,0.05,0.05)\n",
    "df.groupby(['ClimateZone']).sum().plot(kind='pie', y='clientid', figsize = (8,8) , autopct='%1.0f%%',title='Climate zones to which constumers belong' , explode=explode)"
   ]
  },
  {
   "cell_type": "code",
   "execution_count": 94,
   "id": "b9e8db14-68ca-431c-88e5-313b18a94cdb",
   "metadata": {},
   "outputs": [
    {
     "data": {
      "text/html": [
       "<div>\n",
       "<style scoped>\n",
       "    .dataframe tbody tr th:only-of-type {\n",
       "        vertical-align: middle;\n",
       "    }\n",
       "\n",
       "    .dataframe tbody tr th {\n",
       "        vertical-align: top;\n",
       "    }\n",
       "\n",
       "    .dataframe thead th {\n",
       "        text-align: right;\n",
       "    }\n",
       "</style>\n",
       "<table border=\"1\" class=\"dataframe\">\n",
       "  <thead>\n",
       "    <tr style=\"text-align: right;\">\n",
       "      <th></th>\n",
       "      <th>clientid</th>\n",
       "      <th>consumption</th>\n",
       "      <th>receivedHER</th>\n",
       "      <th>housesize</th>\n",
       "      <th>ClimateZone</th>\n",
       "    </tr>\n",
       "  </thead>\n",
       "  <tbody>\n",
       "    <tr>\n",
       "      <th>count</th>\n",
       "      <td>64158.000000</td>\n",
       "      <td>6.144600e+04</td>\n",
       "      <td>64158.000000</td>\n",
       "      <td>64158.000000</td>\n",
       "      <td>64158.000000</td>\n",
       "    </tr>\n",
       "    <tr>\n",
       "      <th>mean</th>\n",
       "      <td>1873.247982</td>\n",
       "      <td>1.421898e+06</td>\n",
       "      <td>0.134636</td>\n",
       "      <td>248.101499</td>\n",
       "      <td>2.845444</td>\n",
       "    </tr>\n",
       "    <tr>\n",
       "      <th>std</th>\n",
       "      <td>711.596839</td>\n",
       "      <td>2.129784e+07</td>\n",
       "      <td>0.341337</td>\n",
       "      <td>1659.822608</td>\n",
       "      <td>1.060622</td>\n",
       "    </tr>\n",
       "    <tr>\n",
       "      <th>min</th>\n",
       "      <td>6.000000</td>\n",
       "      <td>-1.933014e+08</td>\n",
       "      <td>0.000000</td>\n",
       "      <td>0.000000</td>\n",
       "      <td>0.000000</td>\n",
       "    </tr>\n",
       "    <tr>\n",
       "      <th>25%</th>\n",
       "      <td>1412.000000</td>\n",
       "      <td>2.080865e+05</td>\n",
       "      <td>0.000000</td>\n",
       "      <td>0.000000</td>\n",
       "      <td>3.000000</td>\n",
       "    </tr>\n",
       "    <tr>\n",
       "      <th>50%</th>\n",
       "      <td>2099.000000</td>\n",
       "      <td>3.734205e+05</td>\n",
       "      <td>0.000000</td>\n",
       "      <td>0.000000</td>\n",
       "      <td>3.000000</td>\n",
       "    </tr>\n",
       "    <tr>\n",
       "      <th>75%</th>\n",
       "      <td>2419.000000</td>\n",
       "      <td>6.492350e+05</td>\n",
       "      <td>0.000000</td>\n",
       "      <td>174.000000</td>\n",
       "      <td>3.000000</td>\n",
       "    </tr>\n",
       "    <tr>\n",
       "      <th>max</th>\n",
       "      <td>2748.000000</td>\n",
       "      <td>9.999963e+08</td>\n",
       "      <td>1.000000</td>\n",
       "      <td>29000.000000</td>\n",
       "      <td>4.000000</td>\n",
       "    </tr>\n",
       "  </tbody>\n",
       "</table>\n",
       "</div>"
      ],
      "text/plain": [
       "           clientid   consumption   receivedHER     housesize   ClimateZone\n",
       "count  64158.000000  6.144600e+04  64158.000000  64158.000000  64158.000000\n",
       "mean    1873.247982  1.421898e+06      0.134636    248.101499      2.845444\n",
       "std      711.596839  2.129784e+07      0.341337   1659.822608      1.060622\n",
       "min        6.000000 -1.933014e+08      0.000000      0.000000      0.000000\n",
       "25%     1412.000000  2.080865e+05      0.000000      0.000000      3.000000\n",
       "50%     2099.000000  3.734205e+05      0.000000      0.000000      3.000000\n",
       "75%     2419.000000  6.492350e+05      0.000000    174.000000      3.000000\n",
       "max     2748.000000  9.999963e+08      1.000000  29000.000000      4.000000"
      ]
     },
     "execution_count": 94,
     "metadata": {},
     "output_type": "execute_result"
    }
   ],
   "source": [
    "df.describe()"
   ]
  },
  {
   "cell_type": "code",
   "execution_count": 115,
   "id": "55760f29-0358-4482-aa8b-699ea1b52bc6",
   "metadata": {},
   "outputs": [
    {
     "data": {
      "text/html": [
       "<div>\n",
       "<style scoped>\n",
       "    .dataframe tbody tr th:only-of-type {\n",
       "        vertical-align: middle;\n",
       "    }\n",
       "\n",
       "    .dataframe tbody tr th {\n",
       "        vertical-align: top;\n",
       "    }\n",
       "\n",
       "    .dataframe thead th {\n",
       "        text-align: right;\n",
       "    }\n",
       "</style>\n",
       "<table border=\"1\" class=\"dataframe\">\n",
       "  <thead>\n",
       "    <tr style=\"text-align: right;\">\n",
       "      <th></th>\n",
       "      <th>clientid</th>\n",
       "      <th>consumption</th>\n",
       "      <th>receivedHER</th>\n",
       "      <th>housesize</th>\n",
       "      <th>ClimateZone</th>\n",
       "    </tr>\n",
       "  </thead>\n",
       "  <tbody>\n",
       "    <tr>\n",
       "      <th>count</th>\n",
       "      <td>55520.000000</td>\n",
       "      <td>5.348100e+04</td>\n",
       "      <td>55520.0</td>\n",
       "      <td>55520.000000</td>\n",
       "      <td>55520.000000</td>\n",
       "    </tr>\n",
       "    <tr>\n",
       "      <th>mean</th>\n",
       "      <td>1882.359492</td>\n",
       "      <td>1.554315e+06</td>\n",
       "      <td>0.0</td>\n",
       "      <td>258.836834</td>\n",
       "      <td>2.843768</td>\n",
       "    </tr>\n",
       "    <tr>\n",
       "      <th>std</th>\n",
       "      <td>700.680640</td>\n",
       "      <td>2.241158e+07</td>\n",
       "      <td>0.0</td>\n",
       "      <td>1752.638576</td>\n",
       "      <td>1.052580</td>\n",
       "    </tr>\n",
       "    <tr>\n",
       "      <th>min</th>\n",
       "      <td>6.000000</td>\n",
       "      <td>-1.933014e+08</td>\n",
       "      <td>0.0</td>\n",
       "      <td>0.000000</td>\n",
       "      <td>0.000000</td>\n",
       "    </tr>\n",
       "    <tr>\n",
       "      <th>25%</th>\n",
       "      <td>1423.000000</td>\n",
       "      <td>2.045360e+05</td>\n",
       "      <td>0.0</td>\n",
       "      <td>0.000000</td>\n",
       "      <td>3.000000</td>\n",
       "    </tr>\n",
       "    <tr>\n",
       "      <th>50%</th>\n",
       "      <td>2104.000000</td>\n",
       "      <td>3.751580e+05</td>\n",
       "      <td>0.0</td>\n",
       "      <td>0.000000</td>\n",
       "      <td>3.000000</td>\n",
       "    </tr>\n",
       "    <tr>\n",
       "      <th>75%</th>\n",
       "      <td>2416.000000</td>\n",
       "      <td>6.921230e+05</td>\n",
       "      <td>0.0</td>\n",
       "      <td>170.000000</td>\n",
       "      <td>3.000000</td>\n",
       "    </tr>\n",
       "    <tr>\n",
       "      <th>max</th>\n",
       "      <td>2748.000000</td>\n",
       "      <td>9.999597e+08</td>\n",
       "      <td>0.0</td>\n",
       "      <td>29000.000000</td>\n",
       "      <td>4.000000</td>\n",
       "    </tr>\n",
       "  </tbody>\n",
       "</table>\n",
       "</div>"
      ],
      "text/plain": [
       "           clientid   consumption  receivedHER     housesize   ClimateZone\n",
       "count  55520.000000  5.348100e+04      55520.0  55520.000000  55520.000000\n",
       "mean    1882.359492  1.554315e+06          0.0    258.836834      2.843768\n",
       "std      700.680640  2.241158e+07          0.0   1752.638576      1.052580\n",
       "min        6.000000 -1.933014e+08          0.0      0.000000      0.000000\n",
       "25%     1423.000000  2.045360e+05          0.0      0.000000      3.000000\n",
       "50%     2104.000000  3.751580e+05          0.0      0.000000      3.000000\n",
       "75%     2416.000000  6.921230e+05          0.0    170.000000      3.000000\n",
       "max     2748.000000  9.999597e+08          0.0  29000.000000      4.000000"
      ]
     },
     "execution_count": 115,
     "metadata": {},
     "output_type": "execute_result"
    }
   ],
   "source": [
    "\n",
    "# print(dfex)\n",
    "# HER = dfex[(dfex[\"receivedHER\"]== 0)].index\n",
    "# dfex.drop(HER , inplace=True)\n",
    "# dfex.describe() \n",
    "HER = df[(df[\"receivedHER\"]== 0)]\n",
    "HER.describe()"
   ]
  },
  {
   "cell_type": "code",
   "execution_count": 116,
   "id": "b69a6a96-f9ba-48f0-85ac-7730ed5f88f2",
   "metadata": {},
   "outputs": [
    {
     "data": {
      "text/html": [
       "<div>\n",
       "<style scoped>\n",
       "    .dataframe tbody tr th:only-of-type {\n",
       "        vertical-align: middle;\n",
       "    }\n",
       "\n",
       "    .dataframe tbody tr th {\n",
       "        vertical-align: top;\n",
       "    }\n",
       "\n",
       "    .dataframe thead th {\n",
       "        text-align: right;\n",
       "    }\n",
       "</style>\n",
       "<table border=\"1\" class=\"dataframe\">\n",
       "  <thead>\n",
       "    <tr style=\"text-align: right;\">\n",
       "      <th></th>\n",
       "      <th>clientid</th>\n",
       "      <th>consumption</th>\n",
       "      <th>receivedHER</th>\n",
       "      <th>housesize</th>\n",
       "      <th>ClimateZone</th>\n",
       "    </tr>\n",
       "  </thead>\n",
       "  <tbody>\n",
       "    <tr>\n",
       "      <th>count</th>\n",
       "      <td>8638.000000</td>\n",
       "      <td>7.965000e+03</td>\n",
       "      <td>8638.0</td>\n",
       "      <td>8638.000000</td>\n",
       "      <td>8638.000000</td>\n",
       "    </tr>\n",
       "    <tr>\n",
       "      <th>mean</th>\n",
       "      <td>1814.684533</td>\n",
       "      <td>5.327822e+05</td>\n",
       "      <td>1.0</td>\n",
       "      <td>179.101065</td>\n",
       "      <td>2.856217</td>\n",
       "    </tr>\n",
       "    <tr>\n",
       "      <th>std</th>\n",
       "      <td>775.605670</td>\n",
       "      <td>1.121794e+07</td>\n",
       "      <td>0.0</td>\n",
       "      <td>844.907166</td>\n",
       "      <td>1.110927</td>\n",
       "    </tr>\n",
       "    <tr>\n",
       "      <th>min</th>\n",
       "      <td>6.000000</td>\n",
       "      <td>-1.081931e+06</td>\n",
       "      <td>1.0</td>\n",
       "      <td>0.000000</td>\n",
       "      <td>0.000000</td>\n",
       "    </tr>\n",
       "    <tr>\n",
       "      <th>25%</th>\n",
       "      <td>1300.000000</td>\n",
       "      <td>2.322910e+05</td>\n",
       "      <td>1.0</td>\n",
       "      <td>0.000000</td>\n",
       "      <td>3.000000</td>\n",
       "    </tr>\n",
       "    <tr>\n",
       "      <th>50%</th>\n",
       "      <td>2067.000000</td>\n",
       "      <td>3.653650e+05</td>\n",
       "      <td>1.0</td>\n",
       "      <td>143.000000</td>\n",
       "      <td>3.000000</td>\n",
       "    </tr>\n",
       "    <tr>\n",
       "      <th>75%</th>\n",
       "      <td>2447.000000</td>\n",
       "      <td>5.143400e+05</td>\n",
       "      <td>1.0</td>\n",
       "      <td>180.000000</td>\n",
       "      <td>3.000000</td>\n",
       "    </tr>\n",
       "    <tr>\n",
       "      <th>max</th>\n",
       "      <td>2748.000000</td>\n",
       "      <td>9.999963e+08</td>\n",
       "      <td>1.0</td>\n",
       "      <td>16114.000000</td>\n",
       "      <td>4.000000</td>\n",
       "    </tr>\n",
       "  </tbody>\n",
       "</table>\n",
       "</div>"
      ],
      "text/plain": [
       "          clientid   consumption  receivedHER     housesize  ClimateZone\n",
       "count  8638.000000  7.965000e+03       8638.0   8638.000000  8638.000000\n",
       "mean   1814.684533  5.327822e+05          1.0    179.101065     2.856217\n",
       "std     775.605670  1.121794e+07          0.0    844.907166     1.110927\n",
       "min       6.000000 -1.081931e+06          1.0      0.000000     0.000000\n",
       "25%    1300.000000  2.322910e+05          1.0      0.000000     3.000000\n",
       "50%    2067.000000  3.653650e+05          1.0    143.000000     3.000000\n",
       "75%    2447.000000  5.143400e+05          1.0    180.000000     3.000000\n",
       "max    2748.000000  9.999963e+08          1.0  16114.000000     4.000000"
      ]
     },
     "execution_count": 116,
     "metadata": {},
     "output_type": "execute_result"
    }
   ],
   "source": [
    "# w = df[(df[\"receivedHER\"]== 1)].index\n",
    "# df.drop(w , inplace=True)\n",
    "# df.describe()\n",
    "w = df[(df[\"receivedHER\"]== 1)]\n",
    "w.describe()\n"
   ]
  },
  {
   "cell_type": "code",
   "execution_count": 117,
   "id": "df8ba970-d9af-41cf-9e05-d2138f0e6987",
   "metadata": {},
   "outputs": [],
   "source": [
    "# cond = HER['clientid'].isin(w['clientid'])\n",
    "# l = HER[\"cond\"]\n",
    "# HER.drop(HER[cond].index, inplace = True)\n",
    "k = HER.drop_duplicates().merge(w.drop_duplicates(), on=w.columns.to_list(), \n",
    "                   how='left', indicator=True)\n",
    "q = k.loc[k._merge=='left_only',k.columns!='_merge']"
   ]
  },
  {
   "cell_type": "code",
   "execution_count": 118,
   "id": "59382c34-7a37-4d1e-87b5-c1004b6c54f7",
   "metadata": {},
   "outputs": [
    {
     "data": {
      "text/html": [
       "<div>\n",
       "<style scoped>\n",
       "    .dataframe tbody tr th:only-of-type {\n",
       "        vertical-align: middle;\n",
       "    }\n",
       "\n",
       "    .dataframe tbody tr th {\n",
       "        vertical-align: top;\n",
       "    }\n",
       "\n",
       "    .dataframe thead th {\n",
       "        text-align: right;\n",
       "    }\n",
       "</style>\n",
       "<table border=\"1\" class=\"dataframe\">\n",
       "  <thead>\n",
       "    <tr style=\"text-align: right;\">\n",
       "      <th></th>\n",
       "      <th>clientid</th>\n",
       "      <th>consumption</th>\n",
       "      <th>receivedHER</th>\n",
       "      <th>housesize</th>\n",
       "      <th>ClimateZone</th>\n",
       "    </tr>\n",
       "  </thead>\n",
       "  <tbody>\n",
       "    <tr>\n",
       "      <th>count</th>\n",
       "      <td>55520.000000</td>\n",
       "      <td>5.348100e+04</td>\n",
       "      <td>55520.0</td>\n",
       "      <td>55520.000000</td>\n",
       "      <td>55520.000000</td>\n",
       "    </tr>\n",
       "    <tr>\n",
       "      <th>mean</th>\n",
       "      <td>1882.359492</td>\n",
       "      <td>1.554315e+06</td>\n",
       "      <td>0.0</td>\n",
       "      <td>258.836834</td>\n",
       "      <td>2.843768</td>\n",
       "    </tr>\n",
       "    <tr>\n",
       "      <th>std</th>\n",
       "      <td>700.680640</td>\n",
       "      <td>2.241158e+07</td>\n",
       "      <td>0.0</td>\n",
       "      <td>1752.638576</td>\n",
       "      <td>1.052580</td>\n",
       "    </tr>\n",
       "    <tr>\n",
       "      <th>min</th>\n",
       "      <td>6.000000</td>\n",
       "      <td>-1.933014e+08</td>\n",
       "      <td>0.0</td>\n",
       "      <td>0.000000</td>\n",
       "      <td>0.000000</td>\n",
       "    </tr>\n",
       "    <tr>\n",
       "      <th>25%</th>\n",
       "      <td>1423.000000</td>\n",
       "      <td>2.045360e+05</td>\n",
       "      <td>0.0</td>\n",
       "      <td>0.000000</td>\n",
       "      <td>3.000000</td>\n",
       "    </tr>\n",
       "    <tr>\n",
       "      <th>50%</th>\n",
       "      <td>2104.000000</td>\n",
       "      <td>3.751580e+05</td>\n",
       "      <td>0.0</td>\n",
       "      <td>0.000000</td>\n",
       "      <td>3.000000</td>\n",
       "    </tr>\n",
       "    <tr>\n",
       "      <th>75%</th>\n",
       "      <td>2416.000000</td>\n",
       "      <td>6.921230e+05</td>\n",
       "      <td>0.0</td>\n",
       "      <td>170.000000</td>\n",
       "      <td>3.000000</td>\n",
       "    </tr>\n",
       "    <tr>\n",
       "      <th>max</th>\n",
       "      <td>2748.000000</td>\n",
       "      <td>9.999597e+08</td>\n",
       "      <td>0.0</td>\n",
       "      <td>29000.000000</td>\n",
       "      <td>4.000000</td>\n",
       "    </tr>\n",
       "  </tbody>\n",
       "</table>\n",
       "</div>"
      ],
      "text/plain": [
       "           clientid   consumption  receivedHER     housesize   ClimateZone\n",
       "count  55520.000000  5.348100e+04      55520.0  55520.000000  55520.000000\n",
       "mean    1882.359492  1.554315e+06          0.0    258.836834      2.843768\n",
       "std      700.680640  2.241158e+07          0.0   1752.638576      1.052580\n",
       "min        6.000000 -1.933014e+08          0.0      0.000000      0.000000\n",
       "25%     1423.000000  2.045360e+05          0.0      0.000000      3.000000\n",
       "50%     2104.000000  3.751580e+05          0.0      0.000000      3.000000\n",
       "75%     2416.000000  6.921230e+05          0.0    170.000000      3.000000\n",
       "max     2748.000000  9.999597e+08          0.0  29000.000000      4.000000"
      ]
     },
     "execution_count": 118,
     "metadata": {},
     "output_type": "execute_result"
    }
   ],
   "source": [
    "q.describe()"
   ]
  },
  {
   "cell_type": "code",
   "execution_count": null,
   "id": "205c6a6b-e104-498f-8271-a441ff644f38",
   "metadata": {},
   "outputs": [],
   "source": []
  },
  {
   "cell_type": "code",
   "execution_count": null,
   "id": "eba04df2-57a3-45b6-aa95-f394ec4b2145",
   "metadata": {},
   "outputs": [],
   "source": [
    "# import seaborn as sns\n",
    "# import matplotlib.pyplot as plt\n",
    "# colors = sns.color_palette('pastel')[0:len(df.ClimateZone)]\n",
    "# plt.pie(df.ClimateZone,df.consumption , colors = colors, autopct='%.0f%%')\n",
    "# plt.show()"
   ]
  },
  {
   "cell_type": "code",
   "execution_count": 127,
   "id": "1032f196-b1b5-4ab0-b5de-6fe32c0a4afc",
   "metadata": {},
   "outputs": [
    {
     "data": {
      "text/plain": [
       "clientid  WeekDate  \n",
       "6         2020-12-07   1970-01-01 00:00:00.000002020\n",
       "          2020-12-14   1970-01-01 00:00:00.000002020\n",
       "          2020-12-21   1970-01-01 00:00:00.000002020\n",
       "          2020-12-28   1970-01-01 00:00:00.000002020\n",
       "          2021-01-04   1970-01-01 00:00:00.000002021\n",
       "                                    ...             \n",
       "2748      2022-04-04   1970-01-01 00:00:00.000002022\n",
       "          2022-04-11   1970-01-01 00:00:00.000002022\n",
       "          2022-04-18   1970-01-01 00:00:00.000002022\n",
       "          2022-04-25   1970-01-01 00:00:00.000002022\n",
       "          2022-05-02   1970-01-01 00:00:00.000002022\n",
       "Name: WeekDate, Length: 64158, dtype: datetime64[ns]"
      ]
     },
     "execution_count": 127,
     "metadata": {},
     "output_type": "execute_result"
    }
   ],
   "source": [
    "df[\"WeekDate\"] = pd.to_datetime( df[\"WeekDate\"] , format = \"%Y-%m-%d\")\n",
    "df[\"WeekDate\"]"
   ]
  },
  {
   "cell_type": "code",
   "execution_count": 120,
   "id": "08bf6adf-5c5e-4b7c-bf04-89ca9c762863",
   "metadata": {},
   "outputs": [
    {
     "name": "stderr",
     "output_type": "stream",
     "text": [
      "C:\\Users\\kwnst\\AppData\\Local\\Programs\\Python\\Python310\\lib\\site-packages\\pandas\\core\\frame.py:4906: SettingWithCopyWarning: \n",
      "A value is trying to be set on a copy of a slice from a DataFrame\n",
      "\n",
      "See the caveats in the documentation: https://pandas.pydata.org/pandas-docs/stable/user_guide/indexing.html#returning-a-view-versus-a-copy\n",
      "  return super().drop(\n"
     ]
    }
   ],
   "source": [
    "# k = df[(df[\"WeekDate\"]== pd.to_datetime(\"2021-12-06\"))]\n",
    "df1 = df[(df[\"clientid\"]==2447)]\n",
    "treat = df1[(df1[\"receivedHER\"]== 0)].index\n",
    "df1.drop(treat , inplace=True)"
   ]
  },
  {
   "cell_type": "code",
   "execution_count": 121,
   "id": "742f7f8a-fe32-4a58-a532-191e2803f55d",
   "metadata": {},
   "outputs": [],
   "source": [
    "df2 = df[(df[\"clientid\"]==2447)]\n",
    "# frames = [df1, df2]\n",
    "control = df2[(df2[\"receivedHER\"]== 1)].index\n",
    "df2.drop(control , inplace=True)\n"
   ]
  },
  {
   "cell_type": "code",
   "execution_count": 122,
   "id": "bcca6e02-251a-4063-b143-51dfa011536a",
   "metadata": {},
   "outputs": [
    {
     "data": {
      "image/png": "[encoded data removed]",
      "text/plain": [
       "<Figure size 576x360 with 1 Axes>"
      ]
     },
     "metadata": {
      "needs_background": "light"
     },
     "output_type": "display_data"
    }
   ],
   "source": [
    "# df1[\"receivedHER\"]= \"treatment group\"\n",
    "# df2[\"receivedHER\"]= \"control group\"\n",
    "# DF = pd.concat([df1,df2],keys=[\"treatment group\",\"control group\"])\n",
    "# object01=pd.Series(data=df1.consumption ,name=\"treatment group\")\n",
    "# object01.plot(legend=True)\n",
    "\n",
    "# object02=pd.Series(data=df2.consumption , name=\"control group\")\n",
    "# object02.plot(title=\"Comparison\" , legend=True , xlabel=\"consumption\" , ylabel=\"value\")\n",
    "\n",
    "# plt.show()\n",
    "plt.figure(figsize=(8,5))\n",
    "plt.plot(df1.WeekDate, df1.consumption, \"r.-\", label = \"after treatment\")\n",
    "plt.plot(df2.WeekDate, df2.consumption , \"b.-\", label = \"before treatment\")\n",
    "plt.title(\"compurison\")\n",
    "plt.ylabel(\"consumption\")\n",
    "plt.xlabel(\"Date\")\n",
    "plt.legend()\n",
    "plt.show()"
   ]
  },
  {
   "cell_type": "code",
   "execution_count": 103,
   "id": "92feca17-4d1c-4581-a287-8f1bbee12ae8",
   "metadata": {},
   "outputs": [
    {
     "data": {
      "text/plain": [
       "Timestamp('2022-05-02 00:00:00')"
      ]
     },
     "execution_count": 103,
     "metadata": {},
     "output_type": "execute_result"
    }
   ],
   "source": [
    "df.WeekDate.max()"
   ]
  },
  {
   "cell_type": "code",
   "execution_count": 104,
   "id": "f8a172c1-4c9e-4c8c-9562-96d285275f5c",
   "metadata": {},
   "outputs": [
    {
     "data": {
      "text/plain": [
       "Timestamp('2020-12-07 00:00:00')"
      ]
     },
     "execution_count": 104,
     "metadata": {},
     "output_type": "execute_result"
    }
   ],
   "source": [
    "df.WeekDate.min()"
   ]
  },
  {
   "cell_type": "code",
   "execution_count": 105,
   "id": "870c481d-cdf3-4900-b42e-e0163ca6bf41",
   "metadata": {},
   "outputs": [
    {
     "name": "stdout",
     "output_type": "stream",
     "text": [
      "500\n"
     ]
    }
   ],
   "source": [
    "c=0\n",
    "k=0\n",
    "for i,j in zip(df.clientid,df.receivedHER):\n",
    "     if j==1 and i!=k:\n",
    "        c=c+1\n",
    "        k=i\n",
    "print(c)"
   ]
  },
  {
   "cell_type": "code",
   "execution_count": 123,
   "id": "b9033085-e768-4b29-b664-edfacab4b6a9",
   "metadata": {},
   "outputs": [
    {
     "name": "stderr",
     "output_type": "stream",
     "text": [
      "'nstall' is not recognized as an internal or external command,\n",
      "operable program or batch file.\n"
     ]
    }
   ],
   "source": [
    "!nstall openpyxl"
   ]
  },
  {
   "cell_type": "code",
   "execution_count": 5,
   "id": "ce601a2f-9096-468b-a676-bc60508313b6",
   "metadata": {},
   "outputs": [],
   "source": [
    "# import openpyxl\n",
    "# wb = openpyxl.load_workbook('Thesis_data.xlsx')\n",
    "# ws = wb[\"Sheet1\"]"
   ]
  },
  {
   "cell_type": "code",
   "execution_count": 59,
   "id": "1871e2ea-d2a7-4b9e-a04d-1d0043439ab3",
   "metadata": {},
   "outputs": [
    {
     "data": {
      "text/plain": [
       "1970-01   2020-12-07\n",
       "1970-01   2020-12-14\n",
       "1970-01   2020-12-21\n",
       "1970-01   2020-12-28\n",
       "1970-01   2021-01-04\n",
       "             ...    \n",
       "1970-01   2022-04-04\n",
       "1970-01   2022-04-11\n",
       "1970-01   2022-04-18\n",
       "1970-01   2022-04-25\n",
       "1970-01   2022-05-02\n",
       "Name: WeekDate, Length: 64158, dtype: datetime64[ns]"
      ]
     },
     "execution_count": 59,
     "metadata": {},
     "output_type": "execute_result"
    }
   ],
   "source": []
  },
  {
   "cell_type": "code",
   "execution_count": null,
   "id": "cfa9043d-38b7-4ae1-9df1-e4220a5eb0af",
   "metadata": {},
   "outputs": [],
   "source": []
  },
  {
   "cell_type": "code",
   "execution_count": 11,
   "id": "89b3a8eb-d7ef-4783-ba8c-a4edde7038e1",
   "metadata": {},
   "outputs": [
    {
     "name": "stdout",
     "output_type": "stream",
     "text": [
      "                            OLS Regression Results                            \n",
      "==============================================================================\n",
      "Dep. Variable:            consumption   R-squared:                         nan\n",
      "Model:                            OLS   Adj. R-squared:                    nan\n",
      "Method:                 Least Squares   F-statistic:                       nan\n",
      "Date:                Tue, 20 Sep 2022   Prob (F-statistic):                nan\n",
      "Time:                        10:57:58   Log-Likelihood:                    nan\n",
      "No. Observations:               64158   AIC:                               nan\n",
      "Df Residuals:                   64156   BIC:                               nan\n",
      "Df Model:                           1                                         \n",
      "Covariance Type:            nonrobust                                         \n",
      "===============================================================================\n",
      "                  coef    std err          t      P>|t|      [0.025      0.975]\n",
      "-------------------------------------------------------------------------------\n",
      "const              nan        nan        nan        nan         nan         nan\n",
      "receivedHER        nan        nan        nan        nan         nan         nan\n",
      "==============================================================================\n",
      "Omnibus:                          nan   Durbin-Watson:                     nan\n",
      "Prob(Omnibus):                    nan   Jarque-Bera (JB):                  nan\n",
      "Skew:                             nan   Prob(JB):                          nan\n",
      "Kurtosis:                         nan   Cond. No.                         2.99\n",
      "==============================================================================\n",
      "\n",
      "Notes:\n",
      "[1] Standard Errors assume that the covariance matrix of the errors is correctly specified.\n"
     ]
    }
   ],
   "source": [
    "# y = df['consumption']\n",
    "# x = df['receivedHER']\n",
    "# x = sm.add_constant(x)\n",
    "# model = sm.OLS(y, x).fit()\n",
    "# print(model.summary())"
   ]
  },
  {
   "cell_type": "code",
   "execution_count": null,
   "id": "a8df8f92-44d5-4c7f-b6fe-1c133b003b80",
   "metadata": {},
   "outputs": [],
   "source": []
  },
  {
   "cell_type": "code",
   "execution_count": null,
   "id": "eac4ba06-6be4-4686-9772-c73b4f6ec84a",
   "metadata": {},
   "outputs": [],
   "source": []
  },
  {
   "cell_type": "code",
   "execution_count": 124,
   "id": "0eeff8cc-e1e8-4096-83e8-1b4a6663417e",
   "metadata": {},
   "outputs": [],
   "source": [
    "WeekDate = pd.Categorical(df.WeekDate)\n",
    "df = df.set_index([\"clientid\", \"WeekDate\"])\n",
    "df[\"WeekDate\"] = WeekDate"
   ]
  },
  {
   "cell_type": "code",
   "execution_count": 125,
   "id": "ecf88013-24e8-418f-b413-4240f41c3ebc",
   "metadata": {},
   "outputs": [
    {
     "name": "stderr",
     "output_type": "stream",
     "text": [
      "C:\\Users\\kwnst\\AppData\\Local\\Programs\\Python\\Python310\\lib\\site-packages\\linearmodels\\panel\\model.py:1183: MissingValueWarning: \n",
      "Inputs contain missing values. Dropping rows with missing observations.\n",
      "  super().__init__(dependent, exog, weights=weights, check_rank=check_rank)\n"
     ]
    },
    {
     "name": "stdout",
     "output_type": "stream",
     "text": [
      "                          PanelOLS Estimation Summary                           \n",
      "================================================================================\n",
      "Dep. Variable:            consumption   R-squared:                     1.085e-05\n",
      "Estimator:                   PanelOLS   R-squared (Between):             -0.0024\n",
      "No. Observations:               61446   R-squared (Within):            1.085e-05\n",
      "Date:                Tue, Oct 10 2023   R-squared (Overall):             -0.0001\n",
      "Time:                        19:35:16   Log-likelihood                -1.123e+06\n",
      "Cov. Estimator:            Unadjusted                                           \n",
      "                                        F-statistic:                      0.3286\n",
      "Entities:                         867   P-value                           0.7199\n",
      "Avg Obs:                       70.872   Distribution:                 F(2,60577)\n",
      "Min Obs:                       8.0000                                           \n",
      "Max Obs:                       74.000   F-statistic (robust):             0.3286\n",
      "                                        P-value                           0.7199\n",
      "Time periods:                      74   Distribution:                 F(2,60577)\n",
      "Avg Obs:                       830.35                                           \n",
      "Min Obs:                       153.00                                           \n",
      "Max Obs:                       861.00                                           \n",
      "                                                                                \n",
      "                               Parameter Estimates                               \n",
      "=================================================================================\n",
      "               Parameter  Std. Err.     T-stat    P-value    Lower CI    Upper CI\n",
      "---------------------------------------------------------------------------------\n",
      "receivedHER   -6.314e+04   2.71e+05    -0.2330     0.8158  -5.944e+05   4.681e+05\n",
      "WeekDate_2020  -3.04e+05  3.822e+05    -0.7953     0.4264  -1.053e+06   4.452e+05\n",
      "=================================================================================\n",
      "\n",
      "F-test for Poolability: 3.4148\n",
      "P-value: 0.0000\n",
      "Distribution: F(866,60577)\n",
      "\n",
      "Included effects: Entity\n",
      "                          PanelOLS Estimation Summary                           \n",
      "================================================================================\n",
      "Dep. Variable:            consumption   R-squared:                        0.0004\n",
      "Estimator:                   PanelOLS   R-squared (Between):             -0.1387\n",
      "No. Observations:               61446   R-squared (Within):               0.0004\n",
      "Date:                Tue, Oct 10 2023   R-squared (Overall):             -0.0066\n",
      "Time:                        19:35:17   Log-likelihood                -1.123e+06\n",
      "Cov. Estimator:            Unadjusted                                           \n",
      "                                        F-statistic:                      12.224\n",
      "Entities:                         867   P-value                           0.0000\n",
      "Avg Obs:                       70.872   Distribution:                 F(2,60577)\n",
      "Min Obs:                       8.0000                                           \n",
      "Max Obs:                       74.000   F-statistic (robust):             12.224\n",
      "                                        P-value                           0.0000\n",
      "Time periods:                      74   Distribution:                 F(2,60577)\n",
      "Avg Obs:                       830.35                                           \n",
      "Min Obs:                       153.00                                           \n",
      "Max Obs:                       861.00                                           \n",
      "                                                                                \n",
      "                               Parameter Estimates                               \n",
      "=================================================================================\n",
      "               Parameter  Std. Err.     T-stat    P-value    Lower CI    Upper CI\n",
      "---------------------------------------------------------------------------------\n",
      "receivedHER    -8.77e+05  3.182e+05    -2.7559     0.0059  -1.501e+06  -2.533e+05\n",
      "WeekDate_2021 -1.098e+06  2.222e+05    -4.9419     0.0000  -1.534e+06  -6.626e+05\n",
      "=================================================================================\n",
      "\n",
      "F-test for Poolability: 3.3869\n",
      "P-value: 0.0000\n",
      "Distribution: F(866,60577)\n",
      "\n",
      "Included effects: Entity\n",
      "                          PanelOLS Estimation Summary                           \n",
      "================================================================================\n",
      "Dep. Variable:            consumption   R-squared:                        0.0006\n",
      "Estimator:                   PanelOLS   R-squared (Between):              0.0337\n",
      "No. Observations:               61446   R-squared (Within):               0.0006\n",
      "Date:                Tue, Oct 10 2023   R-squared (Overall):              0.0023\n",
      "Time:                        19:35:17   Log-likelihood                -1.123e+06\n",
      "Cov. Estimator:            Unadjusted                                           \n",
      "                                        F-statistic:                      19.562\n",
      "Entities:                         867   P-value                           0.0000\n",
      "Avg Obs:                       70.872   Distribution:                 F(2,60577)\n",
      "Min Obs:                       8.0000                                           \n",
      "Max Obs:                       74.000   F-statistic (robust):             19.562\n",
      "                                        P-value                           0.0000\n",
      "Time periods:                      74   Distribution:                 F(2,60577)\n",
      "Avg Obs:                       830.35                                           \n",
      "Min Obs:                       153.00                                           \n",
      "Max Obs:                       861.00                                           \n",
      "                                                                                \n",
      "                               Parameter Estimates                               \n",
      "=================================================================================\n",
      "               Parameter  Std. Err.     T-stat    P-value    Lower CI    Upper CI\n",
      "---------------------------------------------------------------------------------\n",
      "receivedHER   -1.374e+06  3.436e+05    -3.9979     0.0001  -2.047e+06  -7.002e+05\n",
      "WeekDate_2022  1.607e+06   2.57e+05     6.2529     0.0000   1.103e+06   2.111e+06\n",
      "=================================================================================\n",
      "\n",
      "F-test for Poolability: 3.3723\n",
      "P-value: 0.0000\n",
      "Distribution: F(866,60577)\n",
      "\n",
      "Included effects: Entity\n"
     ]
    }
   ],
   "source": [
    "#Dummies for every year\n",
    "df[\"WeekDate\"] = pd.DatetimeIndex(df['WeekDate']).year\n",
    "df[\"WeekDate\"]\n",
    "new_df = pd.get_dummies(df, columns = [\"WeekDate\"])\n",
    "#OLS estimate with dummies\n",
    "res2020 = PanelOLS(df.consumption, new_df[[\"receivedHER\",\"WeekDate_2020\"]], entity_effects=True).fit()\n",
    "print(res2020)\n",
    "res2021 = PanelOLS(df.consumption, new_df[[\"receivedHER\",\"WeekDate_2021\"]], entity_effects=True).fit()\n",
    "print(res2021)\n",
    "res2022 = PanelOLS(df.consumption, new_df[[\"receivedHER\",\"WeekDate_2022\"]], entity_effects=True).fit()\n",
    "print(res2022)"
   ]
  },
  {
   "cell_type": "code",
   "execution_count": 65,
   "id": "eeed3f7e-70a8-46cb-91e9-a02ed34419a3",
   "metadata": {},
   "outputs": [
    {
     "data": {
      "text/html": [
       "<div>\n",
       "<style scoped>\n",
       "    .dataframe tbody tr th:only-of-type {\n",
       "        vertical-align: middle;\n",
       "    }\n",
       "\n",
       "    .dataframe tbody tr th {\n",
       "        vertical-align: top;\n",
       "    }\n",
       "\n",
       "    .dataframe thead th {\n",
       "        text-align: right;\n",
       "    }\n",
       "</style>\n",
       "<table border=\"1\" class=\"dataframe\">\n",
       "  <thead>\n",
       "    <tr style=\"text-align: right;\">\n",
       "      <th></th>\n",
       "      <th></th>\n",
       "      <th>consumption</th>\n",
       "      <th>receivedHER</th>\n",
       "      <th>housesize</th>\n",
       "      <th>ClimateZone</th>\n",
       "      <th>WeekDate_1970-01-01 00:00:00.000002020</th>\n",
       "      <th>WeekDate_1970-01-01 00:00:00.000002021</th>\n",
       "      <th>WeekDate_1970-01-01 00:00:00.000002022</th>\n",
       "    </tr>\n",
       "    <tr>\n",
       "      <th>clientid</th>\n",
       "      <th>WeekDate</th>\n",
       "      <th></th>\n",
       "      <th></th>\n",
       "      <th></th>\n",
       "      <th></th>\n",
       "      <th></th>\n",
       "      <th></th>\n",
       "      <th></th>\n",
       "    </tr>\n",
       "  </thead>\n",
       "  <tbody>\n",
       "    <tr>\n",
       "      <th rowspan=\"5\" valign=\"top\">6</th>\n",
       "      <th>2020-12-07</th>\n",
       "      <td>380122.0</td>\n",
       "      <td>0</td>\n",
       "      <td>185</td>\n",
       "      <td>3</td>\n",
       "      <td>1</td>\n",
       "      <td>0</td>\n",
       "      <td>0</td>\n",
       "    </tr>\n",
       "    <tr>\n",
       "      <th>2020-12-14</th>\n",
       "      <td>355656.0</td>\n",
       "      <td>0</td>\n",
       "      <td>185</td>\n",
       "      <td>3</td>\n",
       "      <td>1</td>\n",
       "      <td>0</td>\n",
       "      <td>0</td>\n",
       "    </tr>\n",
       "    <tr>\n",
       "      <th>2020-12-21</th>\n",
       "      <td>368145.0</td>\n",
       "      <td>0</td>\n",
       "      <td>185</td>\n",
       "      <td>3</td>\n",
       "      <td>1</td>\n",
       "      <td>0</td>\n",
       "      <td>0</td>\n",
       "    </tr>\n",
       "    <tr>\n",
       "      <th>2020-12-28</th>\n",
       "      <td>381596.0</td>\n",
       "      <td>0</td>\n",
       "      <td>185</td>\n",
       "      <td>3</td>\n",
       "      <td>1</td>\n",
       "      <td>0</td>\n",
       "      <td>0</td>\n",
       "    </tr>\n",
       "    <tr>\n",
       "      <th>2021-01-04</th>\n",
       "      <td>464906.0</td>\n",
       "      <td>0</td>\n",
       "      <td>185</td>\n",
       "      <td>3</td>\n",
       "      <td>0</td>\n",
       "      <td>1</td>\n",
       "      <td>0</td>\n",
       "    </tr>\n",
       "    <tr>\n",
       "      <th>...</th>\n",
       "      <th>...</th>\n",
       "      <td>...</td>\n",
       "      <td>...</td>\n",
       "      <td>...</td>\n",
       "      <td>...</td>\n",
       "      <td>...</td>\n",
       "      <td>...</td>\n",
       "      <td>...</td>\n",
       "    </tr>\n",
       "    <tr>\n",
       "      <th rowspan=\"5\" valign=\"top\">2748</th>\n",
       "      <th>2022-04-04</th>\n",
       "      <td>707870.0</td>\n",
       "      <td>1</td>\n",
       "      <td>196</td>\n",
       "      <td>0</td>\n",
       "      <td>0</td>\n",
       "      <td>0</td>\n",
       "      <td>1</td>\n",
       "    </tr>\n",
       "    <tr>\n",
       "      <th>2022-04-11</th>\n",
       "      <td>475432.0</td>\n",
       "      <td>1</td>\n",
       "      <td>196</td>\n",
       "      <td>0</td>\n",
       "      <td>0</td>\n",
       "      <td>0</td>\n",
       "      <td>1</td>\n",
       "    </tr>\n",
       "    <tr>\n",
       "      <th>2022-04-18</th>\n",
       "      <td>559469.0</td>\n",
       "      <td>1</td>\n",
       "      <td>196</td>\n",
       "      <td>0</td>\n",
       "      <td>0</td>\n",
       "      <td>0</td>\n",
       "      <td>1</td>\n",
       "    </tr>\n",
       "    <tr>\n",
       "      <th>2022-04-25</th>\n",
       "      <td>747556.0</td>\n",
       "      <td>1</td>\n",
       "      <td>196</td>\n",
       "      <td>0</td>\n",
       "      <td>0</td>\n",
       "      <td>0</td>\n",
       "      <td>1</td>\n",
       "    </tr>\n",
       "    <tr>\n",
       "      <th>2022-05-02</th>\n",
       "      <td>511434.0</td>\n",
       "      <td>1</td>\n",
       "      <td>196</td>\n",
       "      <td>0</td>\n",
       "      <td>0</td>\n",
       "      <td>0</td>\n",
       "      <td>1</td>\n",
       "    </tr>\n",
       "  </tbody>\n",
       "</table>\n",
       "<p>64158 rows × 7 columns</p>\n",
       "</div>"
      ],
      "text/plain": [
       "                     consumption  receivedHER  housesize  ClimateZone  \\\n",
       "clientid WeekDate                                                       \n",
       "6        2020-12-07     380122.0            0        185            3   \n",
       "         2020-12-14     355656.0            0        185            3   \n",
       "         2020-12-21     368145.0            0        185            3   \n",
       "         2020-12-28     381596.0            0        185            3   \n",
       "         2021-01-04     464906.0            0        185            3   \n",
       "...                          ...          ...        ...          ...   \n",
       "2748     2022-04-04     707870.0            1        196            0   \n",
       "         2022-04-11     475432.0            1        196            0   \n",
       "         2022-04-18     559469.0            1        196            0   \n",
       "         2022-04-25     747556.0            1        196            0   \n",
       "         2022-05-02     511434.0            1        196            0   \n",
       "\n",
       "                     WeekDate_1970-01-01 00:00:00.000002020  \\\n",
       "clientid WeekDate                                             \n",
       "6        2020-12-07                                       1   \n",
       "         2020-12-14                                       1   \n",
       "         2020-12-21                                       1   \n",
       "         2020-12-28                                       1   \n",
       "         2021-01-04                                       0   \n",
       "...                                                     ...   \n",
       "2748     2022-04-04                                       0   \n",
       "         2022-04-11                                       0   \n",
       "         2022-04-18                                       0   \n",
       "         2022-04-25                                       0   \n",
       "         2022-05-02                                       0   \n",
       "\n",
       "                     WeekDate_1970-01-01 00:00:00.000002021  \\\n",
       "clientid WeekDate                                             \n",
       "6        2020-12-07                                       0   \n",
       "         2020-12-14                                       0   \n",
       "         2020-12-21                                       0   \n",
       "         2020-12-28                                       0   \n",
       "         2021-01-04                                       1   \n",
       "...                                                     ...   \n",
       "2748     2022-04-04                                       0   \n",
       "         2022-04-11                                       0   \n",
       "         2022-04-18                                       0   \n",
       "         2022-04-25                                       0   \n",
       "         2022-05-02                                       0   \n",
       "\n",
       "                     WeekDate_1970-01-01 00:00:00.000002022  \n",
       "clientid WeekDate                                            \n",
       "6        2020-12-07                                       0  \n",
       "         2020-12-14                                       0  \n",
       "         2020-12-21                                       0  \n",
       "         2020-12-28                                       0  \n",
       "         2021-01-04                                       0  \n",
       "...                                                     ...  \n",
       "2748     2022-04-04                                       1  \n",
       "         2022-04-11                                       1  \n",
       "         2022-04-18                                       1  \n",
       "         2022-04-25                                       1  \n",
       "         2022-05-02                                       1  \n",
       "\n",
       "[64158 rows x 7 columns]"
      ]
     },
     "execution_count": 65,
     "metadata": {},
     "output_type": "execute_result"
    }
   ],
   "source": [
    "#Dummies for enery month\n",
    "# pd.DatetimeIndex(df.WeekDate).to_period(\"M\")\n",
    "k = df[\"WeekDate\"]\n",
    "ym_id = k.apply(\"{:%Y-%m}\".format).rename('WeekDate')\n",
    "df.groupby(ym_id).sum()\n",
    "new_df2 = pd.get_dummies(df, columns = ['WeekDate'])\n",
    "new_df2"
   ]
  },
  {
   "cell_type": "code",
   "execution_count": 128,
   "id": "3326a2e7-c4d8-4051-85e1-9176742fbbb4",
   "metadata": {},
   "outputs": [
    {
     "ename": "KeyError",
     "evalue": "\"['WeekDate_2021-01-04 00:00:00'] not in index\"",
     "output_type": "error",
     "traceback": [
      "\u001b[1;31m---------------------------------------------------------------------------\u001b[0m",
      "\u001b[1;31mKeyError\u001b[0m                                  Traceback (most recent call last)",
      "\u001b[1;32m~\\AppData\\Local\\Temp/ipykernel_20416/3997473822.py\u001b[0m in \u001b[0;36m<module>\u001b[1;34m\u001b[0m\n\u001b[0;32m      1\u001b[0m \u001b[1;31m#January\u001b[0m\u001b[1;33m\u001b[0m\u001b[1;33m\u001b[0m\u001b[0m\n\u001b[1;32m----> 2\u001b[1;33m \u001b[0mres1\u001b[0m \u001b[1;33m=\u001b[0m \u001b[0mPanelOLS\u001b[0m\u001b[1;33m(\u001b[0m\u001b[0mdf\u001b[0m\u001b[1;33m.\u001b[0m\u001b[0mconsumption\u001b[0m\u001b[1;33m,\u001b[0m \u001b[0mnew_df2\u001b[0m\u001b[1;33m[\u001b[0m\u001b[1;33m[\u001b[0m\u001b[1;34m\"receivedHER\"\u001b[0m\u001b[1;33m,\u001b[0m\u001b[1;34m\"WeekDate_2021-01-04 00:00:00\"\u001b[0m\u001b[1;33m]\u001b[0m\u001b[1;33m]\u001b[0m\u001b[1;33m,\u001b[0m \u001b[0mentity_effects\u001b[0m\u001b[1;33m=\u001b[0m\u001b[1;32mTrue\u001b[0m\u001b[1;33m)\u001b[0m\u001b[1;33m.\u001b[0m\u001b[0mfit\u001b[0m\u001b[1;33m(\u001b[0m\u001b[1;33m)\u001b[0m\u001b[1;33m\u001b[0m\u001b[1;33m\u001b[0m\u001b[0m\n\u001b[0m\u001b[0;32m      3\u001b[0m \u001b[0mprint\u001b[0m\u001b[1;33m(\u001b[0m\u001b[0mres1\u001b[0m\u001b[1;33m)\u001b[0m\u001b[1;33m\u001b[0m\u001b[1;33m\u001b[0m\u001b[0m\n\u001b[0;32m      4\u001b[0m \u001b[0mres2\u001b[0m \u001b[1;33m=\u001b[0m \u001b[0mPanelOLS\u001b[0m\u001b[1;33m(\u001b[0m\u001b[0mdf\u001b[0m\u001b[1;33m.\u001b[0m\u001b[0mconsumption\u001b[0m\u001b[1;33m,\u001b[0m \u001b[0mnew_df2\u001b[0m\u001b[1;33m[\u001b[0m\u001b[1;33m[\u001b[0m\u001b[1;34m\"receivedHER\"\u001b[0m\u001b[1;33m,\u001b[0m\u001b[1;34m\"WeekDate_2021-01-11 00:00:00\"\u001b[0m\u001b[1;33m]\u001b[0m\u001b[1;33m]\u001b[0m\u001b[1;33m,\u001b[0m \u001b[0mentity_effects\u001b[0m\u001b[1;33m=\u001b[0m\u001b[1;32mTrue\u001b[0m\u001b[1;33m)\u001b[0m\u001b[1;33m.\u001b[0m\u001b[0mfit\u001b[0m\u001b[1;33m(\u001b[0m\u001b[1;33m)\u001b[0m\u001b[1;33m\u001b[0m\u001b[1;33m\u001b[0m\u001b[0m\n\u001b[0;32m      5\u001b[0m \u001b[0mprint\u001b[0m\u001b[1;33m(\u001b[0m\u001b[0mres2\u001b[0m\u001b[1;33m)\u001b[0m\u001b[1;33m\u001b[0m\u001b[1;33m\u001b[0m\u001b[0m\n",
      "\u001b[1;32m~\\AppData\\Local\\Programs\\Python\\Python310\\lib\\site-packages\\pandas\\core\\frame.py\u001b[0m in \u001b[0;36m__getitem__\u001b[1;34m(self, key)\u001b[0m\n\u001b[0;32m   3462\u001b[0m             \u001b[1;32mif\u001b[0m \u001b[0mis_iterator\u001b[0m\u001b[1;33m(\u001b[0m\u001b[0mkey\u001b[0m\u001b[1;33m)\u001b[0m\u001b[1;33m:\u001b[0m\u001b[1;33m\u001b[0m\u001b[1;33m\u001b[0m\u001b[0m\n\u001b[0;32m   3463\u001b[0m                 \u001b[0mkey\u001b[0m \u001b[1;33m=\u001b[0m \u001b[0mlist\u001b[0m\u001b[1;33m(\u001b[0m\u001b[0mkey\u001b[0m\u001b[1;33m)\u001b[0m\u001b[1;33m\u001b[0m\u001b[1;33m\u001b[0m\u001b[0m\n\u001b[1;32m-> 3464\u001b[1;33m             \u001b[0mindexer\u001b[0m \u001b[1;33m=\u001b[0m \u001b[0mself\u001b[0m\u001b[1;33m.\u001b[0m\u001b[0mloc\u001b[0m\u001b[1;33m.\u001b[0m\u001b[0m_get_listlike_indexer\u001b[0m\u001b[1;33m(\u001b[0m\u001b[0mkey\u001b[0m\u001b[1;33m,\u001b[0m \u001b[0maxis\u001b[0m\u001b[1;33m=\u001b[0m\u001b[1;36m1\u001b[0m\u001b[1;33m)\u001b[0m\u001b[1;33m[\u001b[0m\u001b[1;36m1\u001b[0m\u001b[1;33m]\u001b[0m\u001b[1;33m\u001b[0m\u001b[1;33m\u001b[0m\u001b[0m\n\u001b[0m\u001b[0;32m   3465\u001b[0m \u001b[1;33m\u001b[0m\u001b[0m\n\u001b[0;32m   3466\u001b[0m         \u001b[1;31m# take() does not accept boolean indexers\u001b[0m\u001b[1;33m\u001b[0m\u001b[1;33m\u001b[0m\u001b[0m\n",
      "\u001b[1;32m~\\AppData\\Local\\Programs\\Python\\Python310\\lib\\site-packages\\pandas\\core\\indexing.py\u001b[0m in \u001b[0;36m_get_listlike_indexer\u001b[1;34m(self, key, axis)\u001b[0m\n\u001b[0;32m   1312\u001b[0m             \u001b[0mkeyarr\u001b[0m\u001b[1;33m,\u001b[0m \u001b[0mindexer\u001b[0m\u001b[1;33m,\u001b[0m \u001b[0mnew_indexer\u001b[0m \u001b[1;33m=\u001b[0m \u001b[0max\u001b[0m\u001b[1;33m.\u001b[0m\u001b[0m_reindex_non_unique\u001b[0m\u001b[1;33m(\u001b[0m\u001b[0mkeyarr\u001b[0m\u001b[1;33m)\u001b[0m\u001b[1;33m\u001b[0m\u001b[1;33m\u001b[0m\u001b[0m\n\u001b[0;32m   1313\u001b[0m \u001b[1;33m\u001b[0m\u001b[0m\n\u001b[1;32m-> 1314\u001b[1;33m         \u001b[0mself\u001b[0m\u001b[1;33m.\u001b[0m\u001b[0m_validate_read_indexer\u001b[0m\u001b[1;33m(\u001b[0m\u001b[0mkeyarr\u001b[0m\u001b[1;33m,\u001b[0m \u001b[0mindexer\u001b[0m\u001b[1;33m,\u001b[0m \u001b[0maxis\u001b[0m\u001b[1;33m)\u001b[0m\u001b[1;33m\u001b[0m\u001b[1;33m\u001b[0m\u001b[0m\n\u001b[0m\u001b[0;32m   1315\u001b[0m \u001b[1;33m\u001b[0m\u001b[0m\n\u001b[0;32m   1316\u001b[0m         if needs_i8_conversion(ax.dtype) or isinstance(\n",
      "\u001b[1;32m~\\AppData\\Local\\Programs\\Python\\Python310\\lib\\site-packages\\pandas\\core\\indexing.py\u001b[0m in \u001b[0;36m_validate_read_indexer\u001b[1;34m(self, key, indexer, axis)\u001b[0m\n\u001b[0;32m   1375\u001b[0m \u001b[1;33m\u001b[0m\u001b[0m\n\u001b[0;32m   1376\u001b[0m             \u001b[0mnot_found\u001b[0m \u001b[1;33m=\u001b[0m \u001b[0mlist\u001b[0m\u001b[1;33m(\u001b[0m\u001b[0mensure_index\u001b[0m\u001b[1;33m(\u001b[0m\u001b[0mkey\u001b[0m\u001b[1;33m)\u001b[0m\u001b[1;33m[\u001b[0m\u001b[0mmissing_mask\u001b[0m\u001b[1;33m.\u001b[0m\u001b[0mnonzero\u001b[0m\u001b[1;33m(\u001b[0m\u001b[1;33m)\u001b[0m\u001b[1;33m[\u001b[0m\u001b[1;36m0\u001b[0m\u001b[1;33m]\u001b[0m\u001b[1;33m]\u001b[0m\u001b[1;33m.\u001b[0m\u001b[0munique\u001b[0m\u001b[1;33m(\u001b[0m\u001b[1;33m)\u001b[0m\u001b[1;33m)\u001b[0m\u001b[1;33m\u001b[0m\u001b[1;33m\u001b[0m\u001b[0m\n\u001b[1;32m-> 1377\u001b[1;33m             \u001b[1;32mraise\u001b[0m \u001b[0mKeyError\u001b[0m\u001b[1;33m(\u001b[0m\u001b[1;34mf\"{not_found} not in index\"\u001b[0m\u001b[1;33m)\u001b[0m\u001b[1;33m\u001b[0m\u001b[1;33m\u001b[0m\u001b[0m\n\u001b[0m\u001b[0;32m   1378\u001b[0m \u001b[1;33m\u001b[0m\u001b[0m\n\u001b[0;32m   1379\u001b[0m \u001b[1;33m\u001b[0m\u001b[0m\n",
      "\u001b[1;31mKeyError\u001b[0m: \"['WeekDate_2021-01-04 00:00:00'] not in index\""
     ]
    }
   ],
   "source": [
    "#January\n",
    "res1 = PanelOLS(df.consumption, new_df2[[\"receivedHER\",\"WeekDate_2021-01-04 00:00:00\"]], entity_effects=True).fit()\n",
    "print(res1)\n",
    "res2 = PanelOLS(df.consumption, new_df2[[\"receivedHER\",\"WeekDate_2021-01-11 00:00:00\"]], entity_effects=True).fit()\n",
    "print(res2)\n",
    "res3 = PanelOLS(df.consumption, new_df2[[\"receivedHER\",\"WeekDate_2021-01-18 00:00:00\"]], entity_effects=True).fit()\n",
    "print(res3)\n",
    "res4 = PanelOLS(df.consumption, new_df2[[\"receivedHER\",\"WeekDate_2021-01-25 00:00:00\"]], entity_effects=True).fit()\n",
    "print(res4)\n",
    "#February\n",
    "res5 = PanelOLS(df.consumption, new_df2[[\"receivedHER\",\"WeekDate_2021-02-01 00:00:00\"]], entity_effects=True).fit()\n",
    "print(res5)\n",
    "res6 = PanelOLS(df.consumption, new_df2[[\"receivedHER\",\"WeekDate_2021-02-08 00:00:00\"]], entity_effects=True).fit()\n",
    "print(res6)\n",
    "res7 = PanelOLS(df.consumption, new_df2[[\"receivedHER\",\"WeekDate_2021-02-15 00:00:00\"]], entity_effects=True).fit()\n",
    "print(res7)\n",
    "res8 = PanelOLS(df.consumption, new_df2[[\"receivedHER\",\"WeekDate_2021-02-22 00:00:00\"]], entity_effects=True).fit()\n",
    "print(res8)"
   ]
  },
  {
   "cell_type": "code",
   "execution_count": 10,
   "id": "d62d8909-b3ff-453f-8bb8-71f64587296a",
   "metadata": {},
   "outputs": [],
   "source": [
    "#### Pooled OLS\n",
    "# exog_vars = [\"receivedHER\", \"WeekDate\",]       # we include \"year\" to get the time dummies\n",
    "# exog = sm.add_constant(df[exog_vars])   #add constant term (intercept)\n",
    "# mod = PooledOLS(df.consumption, exog)\n",
    "# pooled_res = mod.fit()\n",
    "# print(pooled_res)"
   ]
  },
  {
   "cell_type": "code",
   "execution_count": 11,
   "id": "b0733017-d428-4315-997d-47afa4dd6b4e",
   "metadata": {},
   "outputs": [],
   "source": [
    "#### Random Effects\n",
    "# mod = RandomEffects(df.consumption, exog)\n",
    "# re_res =  mod.fit(cov_type=\"clustered\")\n",
    "# print(re_res)"
   ]
  },
  {
   "cell_type": "code",
   "execution_count": 129,
   "id": "dbd998c2-1c08-477a-a056-f7380a3ae9e3",
   "metadata": {},
   "outputs": [
    {
     "name": "stdout",
     "output_type": "stream",
     "text": [
      "                          PanelOLS Estimation Summary                           \n",
      "================================================================================\n",
      "Dep. Variable:            consumption   R-squared:                        0.0002\n",
      "Estimator:                   PanelOLS   R-squared (Between):              0.0121\n",
      "No. Observations:               61446   R-squared (Within):              -0.0003\n",
      "Date:                Tue, Oct 10 2023   R-squared (Overall):              0.0002\n",
      "Time:                        19:36:16   Log-likelihood                -1.122e+06\n",
      "Cov. Estimator:             Clustered                                           \n",
      "                                        F-statistic:                      11.879\n",
      "Entities:                         867   P-value                           0.0006\n",
      "Avg Obs:                       70.872   Distribution:                 F(1,60505)\n",
      "Min Obs:                       8.0000                                           \n",
      "Max Obs:                       74.000   F-statistic (robust):             7.0905\n",
      "                                        P-value                           0.0078\n",
      "Time periods:                      74   Distribution:                 F(1,60505)\n",
      "Avg Obs:                       830.35                                           \n",
      "Min Obs:                       153.00                                           \n",
      "Max Obs:                       861.00                                           \n",
      "                                                                                \n",
      "                              Parameter Estimates                              \n",
      "===============================================================================\n",
      "             Parameter  Std. Err.     T-stat    P-value    Lower CI    Upper CI\n",
      "-------------------------------------------------------------------------------\n",
      "const        1.586e+06  1.263e+05     12.561     0.0000   1.339e+06   1.834e+06\n",
      "receivedHER -1.268e+06  4.763e+05    -2.6628     0.0078  -2.202e+06  -3.348e+05\n",
      "===============================================================================\n",
      "\n",
      "F-test for Poolability: 5.3611\n",
      "P-value: 0.0000\n",
      "Distribution: F(939,60505)\n",
      "\n",
      "Included effects: Entity, Time\n"
     ]
    }
   ],
   "source": [
    "#### Fixed Effects\n",
    "exog_vars2 = [\"receivedHER\"]\n",
    "exog2 = sm.add_constant(df[exog_vars2])\n",
    "mod = PanelOLS(df.consumption, exog2,  entity_effects=True, time_effects=True )\n",
    "fe_res = mod.fit(cov_type=\"clustered\")\n",
    "print(fe_res)\n",
    "\n"
   ]
  },
  {
   "cell_type": "code",
   "execution_count": 7,
   "id": "d6c41ae3-1572-4c5f-bbbd-eb1e48ef7708",
   "metadata": {},
   "outputs": [],
   "source": [
    "# from linearmodels.panel import compare\n",
    "# print(compare({\"FE\": fe_res, \"RE\": re_res, \"Pooled\": pooled_res}))"
   ]
  },
  {
   "cell_type": "code",
   "execution_count": 130,
   "id": "3768c293-1844-4d5b-b559-f9cf8cd3fa8d",
   "metadata": {},
   "outputs": [
    {
     "data": {
      "text/html": [
       "<div>\n",
       "<style scoped>\n",
       "    .dataframe tbody tr th:only-of-type {\n",
       "        vertical-align: middle;\n",
       "    }\n",
       "\n",
       "    .dataframe tbody tr th {\n",
       "        vertical-align: top;\n",
       "    }\n",
       "\n",
       "    .dataframe thead th {\n",
       "        text-align: right;\n",
       "    }\n",
       "</style>\n",
       "<table border=\"1\" class=\"dataframe\">\n",
       "  <thead>\n",
       "    <tr style=\"text-align: right;\">\n",
       "      <th></th>\n",
       "      <th>Unnamed: 0</th>\n",
       "      <th>clientid</th>\n",
       "      <th>WeekDate</th>\n",
       "      <th>consumption</th>\n",
       "      <th>receivedHER</th>\n",
       "      <th>housesize</th>\n",
       "      <th>ClimateZone</th>\n",
       "    </tr>\n",
       "  </thead>\n",
       "  <tbody>\n",
       "    <tr>\n",
       "      <th>0</th>\n",
       "      <td>0</td>\n",
       "      <td>6</td>\n",
       "      <td>2020-12-07</td>\n",
       "      <td>380122</td>\n",
       "      <td>0</td>\n",
       "      <td>185</td>\n",
       "      <td>3</td>\n",
       "    </tr>\n",
       "    <tr>\n",
       "      <th>1</th>\n",
       "      <td>1</td>\n",
       "      <td>6</td>\n",
       "      <td>2020-12-14</td>\n",
       "      <td>355656</td>\n",
       "      <td>0</td>\n",
       "      <td>185</td>\n",
       "      <td>3</td>\n",
       "    </tr>\n",
       "    <tr>\n",
       "      <th>2</th>\n",
       "      <td>2</td>\n",
       "      <td>6</td>\n",
       "      <td>2020-12-21</td>\n",
       "      <td>368145</td>\n",
       "      <td>0</td>\n",
       "      <td>185</td>\n",
       "      <td>3</td>\n",
       "    </tr>\n",
       "    <tr>\n",
       "      <th>3</th>\n",
       "      <td>3</td>\n",
       "      <td>6</td>\n",
       "      <td>2020-12-28</td>\n",
       "      <td>381596</td>\n",
       "      <td>0</td>\n",
       "      <td>185</td>\n",
       "      <td>3</td>\n",
       "    </tr>\n",
       "    <tr>\n",
       "      <th>4</th>\n",
       "      <td>4</td>\n",
       "      <td>6</td>\n",
       "      <td>2021-01-04</td>\n",
       "      <td>464906</td>\n",
       "      <td>0</td>\n",
       "      <td>185</td>\n",
       "      <td>3</td>\n",
       "    </tr>\n",
       "    <tr>\n",
       "      <th>...</th>\n",
       "      <td>...</td>\n",
       "      <td>...</td>\n",
       "      <td>...</td>\n",
       "      <td>...</td>\n",
       "      <td>...</td>\n",
       "      <td>...</td>\n",
       "      <td>...</td>\n",
       "    </tr>\n",
       "    <tr>\n",
       "      <th>64153</th>\n",
       "      <td>64153</td>\n",
       "      <td>2748</td>\n",
       "      <td>2022-04-04</td>\n",
       "      <td>707870</td>\n",
       "      <td>1</td>\n",
       "      <td>196</td>\n",
       "      <td>0</td>\n",
       "    </tr>\n",
       "    <tr>\n",
       "      <th>64154</th>\n",
       "      <td>64154</td>\n",
       "      <td>2748</td>\n",
       "      <td>2022-04-11</td>\n",
       "      <td>475432</td>\n",
       "      <td>1</td>\n",
       "      <td>196</td>\n",
       "      <td>0</td>\n",
       "    </tr>\n",
       "    <tr>\n",
       "      <th>64155</th>\n",
       "      <td>64155</td>\n",
       "      <td>2748</td>\n",
       "      <td>2022-04-18</td>\n",
       "      <td>559469</td>\n",
       "      <td>1</td>\n",
       "      <td>196</td>\n",
       "      <td>0</td>\n",
       "    </tr>\n",
       "    <tr>\n",
       "      <th>64156</th>\n",
       "      <td>64156</td>\n",
       "      <td>2748</td>\n",
       "      <td>2022-04-25</td>\n",
       "      <td>747556</td>\n",
       "      <td>1</td>\n",
       "      <td>196</td>\n",
       "      <td>0</td>\n",
       "    </tr>\n",
       "    <tr>\n",
       "      <th>64157</th>\n",
       "      <td>64157</td>\n",
       "      <td>2748</td>\n",
       "      <td>2022-05-02</td>\n",
       "      <td>511434</td>\n",
       "      <td>1</td>\n",
       "      <td>196</td>\n",
       "      <td>0</td>\n",
       "    </tr>\n",
       "  </tbody>\n",
       "</table>\n",
       "<p>64158 rows × 7 columns</p>\n",
       "</div>"
      ],
      "text/plain": [
       "       Unnamed: 0  clientid   WeekDate  consumption  receivedHER  housesize  \\\n",
       "0               0         6 2020-12-07       380122            0        185   \n",
       "1               1         6 2020-12-14       355656            0        185   \n",
       "2               2         6 2020-12-21       368145            0        185   \n",
       "3               3         6 2020-12-28       381596            0        185   \n",
       "4               4         6 2021-01-04       464906            0        185   \n",
       "...           ...       ...        ...          ...          ...        ...   \n",
       "64153       64153      2748 2022-04-04       707870            1        196   \n",
       "64154       64154      2748 2022-04-11       475432            1        196   \n",
       "64155       64155      2748 2022-04-18       559469            1        196   \n",
       "64156       64156      2748 2022-04-25       747556            1        196   \n",
       "64157       64157      2748 2022-05-02       511434            1        196   \n",
       "\n",
       "       ClimateZone  \n",
       "0                3  \n",
       "1                3  \n",
       "2                3  \n",
       "3                3  \n",
       "4                3  \n",
       "...            ...  \n",
       "64153            0  \n",
       "64154            0  \n",
       "64155            0  \n",
       "64156            0  \n",
       "64157            0  \n",
       "\n",
       "[64158 rows x 7 columns]"
      ]
     },
     "execution_count": 130,
     "metadata": {},
     "output_type": "execute_result"
    }
   ],
   "source": [
    "df2 = pd.read_excel('normalized.xlsx')\n",
    "df2"
   ]
  },
  {
   "cell_type": "code",
   "execution_count": null,
   "id": "f5888f09-221e-428f-8570-ac29e5f3ab48",
   "metadata": {},
   "outputs": [],
   "source": []
  },
  {
   "cell_type": "code",
   "execution_count": 131,
   "id": "d9c9fcdc-fecd-4b59-8b5a-eed142611708",
   "metadata": {},
   "outputs": [],
   "source": [
    "WeekDate = pd.Categorical(df2.WeekDate)\n",
    "df2 = df2.set_index([\"clientid\", \"WeekDate\"])\n",
    "df2[\"WeekDate\"] = WeekDate"
   ]
  },
  {
   "cell_type": "code",
   "execution_count": 133,
   "id": "5ed6b547-8158-48fa-ae9d-6e1c92aff358",
   "metadata": {},
   "outputs": [
    {
     "name": "stdout",
     "output_type": "stream",
     "text": [
      "                          PanelOLS Estimation Summary                           \n",
      "================================================================================\n",
      "Dep. Variable:            consumption   R-squared:                        0.0003\n",
      "Estimator:                   PanelOLS   R-squared (Between):              0.0139\n",
      "No. Observations:               64158   R-squared (Within):              -0.0005\n",
      "Date:                Tue, Oct 10 2023   R-squared (Overall):              0.0003\n",
      "Time:                        19:37:08   Log-likelihood                 -1.17e+06\n",
      "Cov. Estimator:             Clustered                                           \n",
      "                                        F-statistic:                      17.837\n",
      "Entities:                         867   P-value                           0.0000\n",
      "Avg Obs:                       74.000   Distribution:                 F(1,63217)\n",
      "Min Obs:                       74.000                                           \n",
      "Max Obs:                       74.000   F-statistic (robust):             11.094\n",
      "                                        P-value                           0.0009\n",
      "Time periods:                      74   Distribution:                 F(1,63217)\n",
      "Avg Obs:                       867.00                                           \n",
      "Min Obs:                       867.00                                           \n",
      "Max Obs:                       867.00                                           \n",
      "                                                                                \n",
      "                              Parameter Estimates                              \n",
      "===============================================================================\n",
      "             Parameter  Std. Err.     T-stat    P-value    Lower CI    Upper CI\n",
      "-------------------------------------------------------------------------------\n",
      "const        1.716e+06  1.235e+05     13.894     0.0000   1.474e+06   1.958e+06\n",
      "receivedHER -1.479e+06  4.439e+05    -3.3308     0.0009  -2.349e+06  -6.085e+05\n",
      "===============================================================================\n",
      "\n",
      "F-test for Poolability: 4.3504\n",
      "P-value: 0.0000\n",
      "Distribution: F(939,63217)\n",
      "\n",
      "Included effects: Entity, Time\n"
     ]
    }
   ],
   "source": [
    "#Fixed effect without nan\n",
    "exog_vars = [\"receivedHER\"]\n",
    "exog = sm.add_constant(df2[exog_vars])\n",
    "mod = PanelOLS(df2.consumption, exog,  entity_effects=True, time_effects=True )\n",
    "fe_res = mod.fit(cov_type=\"clustered\")\n",
    "print(fe_res)"
   ]
  },
  {
   "cell_type": "code",
   "execution_count": 134,
   "id": "bdce4c89-c536-42b2-9e14-f7c15f9fb97f",
   "metadata": {},
   "outputs": [
    {
     "name": "stdout",
     "output_type": "stream",
     "text": [
      "(57742, 6) (60947, 6) (62874, 6)\n"
     ]
    }
   ],
   "source": [
    "min_thresold,max_thresold = df2.consumption.quantile([0.05,0.95])\n",
    "df2_5 = df2[(df2.consumption < max_thresold) & (df2.consumption > min_thresold)]\n",
    "a = df2_5.shape\n",
    "\n",
    "min_thresold3,max_thresold3 = df2.consumption.quantile([0.025,0.975])\n",
    "df3 = df2[(df2.consumption < max_thresold3) & (df2.consumption > min_thresold3)]\n",
    "b = df3.shape\n",
    "\n",
    "min_thresold4,max_thresold4 = df2.consumption.quantile([0.01,0.99])\n",
    "df4 = df2[(df2.consumption < max_thresold4) & (df2.consumption > min_thresold4)]\n",
    "c = df4.shape\n",
    "\n",
    "print(a,b,c)"
   ]
  },
  {
   "cell_type": "code",
   "execution_count": 138,
   "id": "4bd9b543-7222-4db3-aa0e-c04b1ee01e97",
   "metadata": {},
   "outputs": [
    {
     "ename": "KeyError",
     "evalue": "\"None of ['clientid'] are in the columns\"",
     "output_type": "error",
     "traceback": [
      "\u001b[1;31m---------------------------------------------------------------------------\u001b[0m",
      "\u001b[1;31mKeyError\u001b[0m                                  Traceback (most recent call last)",
      "\u001b[1;32m~\\AppData\\Local\\Temp/ipykernel_20416/4092711187.py\u001b[0m in \u001b[0;36m<module>\u001b[1;34m\u001b[0m\n\u001b[0;32m      1\u001b[0m \u001b[0mWeekDate\u001b[0m \u001b[1;33m=\u001b[0m \u001b[0mpd\u001b[0m\u001b[1;33m.\u001b[0m\u001b[0mCategorical\u001b[0m\u001b[1;33m(\u001b[0m\u001b[0mdf2_5\u001b[0m\u001b[1;33m.\u001b[0m\u001b[0mWeekDate\u001b[0m\u001b[1;33m)\u001b[0m\u001b[1;33m\u001b[0m\u001b[1;33m\u001b[0m\u001b[0m\n\u001b[1;32m----> 2\u001b[1;33m \u001b[0mdf2_5\u001b[0m \u001b[1;33m=\u001b[0m \u001b[0mdf2_5\u001b[0m\u001b[1;33m.\u001b[0m\u001b[0mset_index\u001b[0m\u001b[1;33m(\u001b[0m\u001b[1;33m[\u001b[0m\u001b[1;34m\"clientid\"\u001b[0m\u001b[1;33m,\u001b[0m \u001b[1;34m\"WeekDate\"\u001b[0m\u001b[1;33m]\u001b[0m\u001b[1;33m)\u001b[0m\u001b[1;33m\u001b[0m\u001b[1;33m\u001b[0m\u001b[0m\n\u001b[0m\u001b[0;32m      3\u001b[0m \u001b[0mdf2_5\u001b[0m\u001b[1;33m[\u001b[0m\u001b[1;34m\"WeekDate\"\u001b[0m\u001b[1;33m]\u001b[0m \u001b[1;33m=\u001b[0m \u001b[0mWeekDate\u001b[0m\u001b[1;33m\u001b[0m\u001b[1;33m\u001b[0m\u001b[0m\n",
      "\u001b[1;32m~\\AppData\\Local\\Programs\\Python\\Python310\\lib\\site-packages\\pandas\\util\\_decorators.py\u001b[0m in \u001b[0;36mwrapper\u001b[1;34m(*args, **kwargs)\u001b[0m\n\u001b[0;32m    309\u001b[0m                     \u001b[0mstacklevel\u001b[0m\u001b[1;33m=\u001b[0m\u001b[0mstacklevel\u001b[0m\u001b[1;33m,\u001b[0m\u001b[1;33m\u001b[0m\u001b[1;33m\u001b[0m\u001b[0m\n\u001b[0;32m    310\u001b[0m                 )\n\u001b[1;32m--> 311\u001b[1;33m             \u001b[1;32mreturn\u001b[0m \u001b[0mfunc\u001b[0m\u001b[1;33m(\u001b[0m\u001b[1;33m*\u001b[0m\u001b[0margs\u001b[0m\u001b[1;33m,\u001b[0m \u001b[1;33m**\u001b[0m\u001b[0mkwargs\u001b[0m\u001b[1;33m)\u001b[0m\u001b[1;33m\u001b[0m\u001b[1;33m\u001b[0m\u001b[0m\n\u001b[0m\u001b[0;32m    312\u001b[0m \u001b[1;33m\u001b[0m\u001b[0m\n\u001b[0;32m    313\u001b[0m         \u001b[1;32mreturn\u001b[0m \u001b[0mwrapper\u001b[0m\u001b[1;33m\u001b[0m\u001b[1;33m\u001b[0m\u001b[0m\n",
      "\u001b[1;32m~\\AppData\\Local\\Programs\\Python\\Python310\\lib\\site-packages\\pandas\\core\\frame.py\u001b[0m in \u001b[0;36mset_index\u001b[1;34m(self, keys, drop, append, inplace, verify_integrity)\u001b[0m\n\u001b[0;32m   5449\u001b[0m \u001b[1;33m\u001b[0m\u001b[0m\n\u001b[0;32m   5450\u001b[0m         \u001b[1;32mif\u001b[0m \u001b[0mmissing\u001b[0m\u001b[1;33m:\u001b[0m\u001b[1;33m\u001b[0m\u001b[1;33m\u001b[0m\u001b[0m\n\u001b[1;32m-> 5451\u001b[1;33m             \u001b[1;32mraise\u001b[0m \u001b[0mKeyError\u001b[0m\u001b[1;33m(\u001b[0m\u001b[1;34mf\"None of {missing} are in the columns\"\u001b[0m\u001b[1;33m)\u001b[0m\u001b[1;33m\u001b[0m\u001b[1;33m\u001b[0m\u001b[0m\n\u001b[0m\u001b[0;32m   5452\u001b[0m \u001b[1;33m\u001b[0m\u001b[0m\n\u001b[0;32m   5453\u001b[0m         \u001b[1;32mif\u001b[0m \u001b[0minplace\u001b[0m\u001b[1;33m:\u001b[0m\u001b[1;33m\u001b[0m\u001b[1;33m\u001b[0m\u001b[0m\n",
      "\u001b[1;31mKeyError\u001b[0m: \"None of ['clientid'] are in the columns\""
     ]
    }
   ],
   "source": [
    "WeekDate = pd.Categorical(df2_5.WeekDate)\n",
    "df2_5 = df2_5.set_index([\"clientid\", \"WeekDate\"])\n",
    "df2_5[\"WeekDate\"] = WeekDate"
   ]
  },
  {
   "cell_type": "code",
   "execution_count": 137,
   "id": "af255393-6741-4ff7-a74f-f7eae4d17969",
   "metadata": {},
   "outputs": [
    {
     "name": "stdout",
     "output_type": "stream",
     "text": [
      "                          PanelOLS Estimation Summary                           \n",
      "================================================================================\n",
      "Dep. Variable:            consumption   R-squared:                        0.0004\n",
      "Estimator:                   PanelOLS   R-squared (Between):             -0.0024\n",
      "No. Observations:               57742   R-squared (Within):              -0.0015\n",
      "Date:                Tue, Oct 10 2023   R-squared (Overall):              0.0023\n",
      "Time:                        19:38:13   Log-likelihood                -7.871e+05\n",
      "Cov. Estimator:             Clustered                                           \n",
      "                                        F-statistic:                      20.379\n",
      "Entities:                         867   P-value                           0.0000\n",
      "Avg Obs:                       66.600   Distribution:                 F(1,56816)\n",
      "Min Obs:                       0.0000                                           \n",
      "Max Obs:                       74.000   F-statistic (robust):             20.377\n",
      "                                        P-value                           0.0000\n",
      "Time periods:                      74   Distribution:                 F(1,56816)\n",
      "Avg Obs:                       780.30                                           \n",
      "Min Obs:                       656.00                                           \n",
      "Max Obs:                       808.00                                           \n",
      "                                                                                \n",
      "                              Parameter Estimates                              \n",
      "===============================================================================\n",
      "             Parameter  Std. Err.     T-stat    P-value    Lower CI    Upper CI\n",
      "-------------------------------------------------------------------------------\n",
      "const        5.251e+05     1005.0     522.46     0.0000   5.231e+05   5.271e+05\n",
      "receivedHER -1.666e+04     3690.8    -4.5140     0.0000  -2.389e+04     -9426.5\n",
      "===============================================================================\n",
      "\n",
      "F-test for Poolability: 245.95\n",
      "P-value: 0.0000\n",
      "Distribution: F(924,56816)\n",
      "\n",
      "Included effects: Entity, Time\n"
     ]
    }
   ],
   "source": [
    "#Fixed effect - remove outlier 5%\n",
    "exog_vars2_5 = [\"receivedHER\"]\n",
    "exog2_5 = sm.add_constant(df2_5[exog_vars2_5])\n",
    "mod = PanelOLS(df2_5.consumption, exog2_5,  entity_effects=True, time_effects=True )\n",
    "fe_res2 = mod.fit(cov_type=\"clustered\")\n",
    "print(fe_res2)"
   ]
  },
  {
   "cell_type": "code",
   "execution_count": 49,
   "id": "41713f78-5ce0-4897-86ff-f41293096d5d",
   "metadata": {},
   "outputs": [],
   "source": [
    "WeekDate = pd.Categorical(df3.WeekDate)\n",
    "df3 = df3.set_index([\"clientid\", \"WeekDate\"])\n",
    "df3[\"WeekDate\"] = WeekDate"
   ]
  },
  {
   "cell_type": "code",
   "execution_count": 50,
   "id": "f5cb81c1-4e5d-4f60-b267-2d75a6843404",
   "metadata": {},
   "outputs": [
    {
     "name": "stdout",
     "output_type": "stream",
     "text": [
      "                          PanelOLS Estimation Summary                           \n",
      "================================================================================\n",
      "Dep. Variable:            consumption   R-squared:                      7.45e-05\n",
      "Estimator:                   PanelOLS   R-squared (Between):             -0.0029\n",
      "No. Observations:               60947   R-squared (Within):               0.0002\n",
      "Date:                Sun, Sep 11 2022   R-squared (Overall):             -0.0011\n",
      "Time:                        00:28:59   Log-likelihood                -8.506e+05\n",
      "Cov. Estimator:             Clustered                                           \n",
      "                                        F-statistic:                      4.4717\n",
      "Entities:                         856   P-value                           0.0345\n",
      "Avg Obs:                       71.200   Distribution:                 F(1,60017)\n",
      "Min Obs:                       2.0000                                           \n",
      "Max Obs:                       74.000   F-statistic (robust):             3.8398\n",
      "                                        P-value                           0.0501\n",
      "Time periods:                      74   Distribution:                 F(1,60017)\n",
      "Avg Obs:                       823.61                                           \n",
      "Min Obs:                       714.00                                           \n",
      "Max Obs:                       842.00                                           \n",
      "                                                                                \n",
      "                              Parameter Estimates                              \n",
      "===============================================================================\n",
      "             Parameter  Std. Err.     T-stat    P-value    Lower CI    Upper CI\n",
      "-------------------------------------------------------------------------------\n",
      "const         5.96e+05     1425.6     418.07     0.0000   5.932e+05   5.988e+05\n",
      "receivedHER  1.053e+04     5373.4     1.9595     0.0501     -2.4676   2.106e+04\n",
      "===============================================================================\n",
      "\n",
      "F-test for Poolability: 343.00\n",
      "P-value: 0.0000\n",
      "Distribution: F(928,60017)\n",
      "\n",
      "Included effects: Entity, Time\n"
     ]
    }
   ],
   "source": [
    "#Fixed effect - remove outlier 2.5%\n",
    "exog_vars3 = [\"receivedHER\"]\n",
    "exog3 = sm.add_constant(df3[exog_vars3])\n",
    "mod = PanelOLS(df3.consumption, exog3,  entity_effects=True, time_effects=True )\n",
    "fe_res3 = mod.fit(cov_type=\"clustered\")\n",
    "print(fe_res3)"
   ]
  },
  {
   "cell_type": "code",
   "execution_count": 66,
   "id": "b76f6398-58fb-4f1c-a694-cfcfa2c1fa61",
   "metadata": {},
   "outputs": [],
   "source": [
    "WeekDate = pd.Categorical(df4.WeekDate)\n",
    "df4 = df4.set_index([\"clientid\", \"WeekDate\"])\n",
    "df4[\"WeekDate\"] = WeekDate"
   ]
  },
  {
   "cell_type": "code",
   "execution_count": 67,
   "id": "960f70c2-cb5e-4832-83a6-438ee9c6c7e6",
   "metadata": {},
   "outputs": [
    {
     "name": "stdout",
     "output_type": "stream",
     "text": [
      "                          PanelOLS Estimation Summary                           \n",
      "================================================================================\n",
      "Dep. Variable:            consumption   R-squared:                        0.0018\n",
      "Estimator:                   PanelOLS   R-squared (Between):              0.0017\n",
      "No. Observations:               62874   R-squared (Within):              -0.0034\n",
      "Date:                Sun, Sep 11 2022   R-squared (Overall):              0.0034\n",
      "Time:                        00:40:48   Log-likelihood                -9.386e+05\n",
      "Cov. Estimator:             Clustered                                           \n",
      "                                        F-statistic:                      109.48\n",
      "Entities:                         865   P-value                           0.0000\n",
      "Avg Obs:                       72.687   Distribution:                 F(1,61935)\n",
      "Min Obs:                       5.0000                                           \n",
      "Max Obs:                       74.000   F-statistic (robust):             53.823\n",
      "                                        P-value                           0.0000\n",
      "Time periods:                      74   Distribution:                 F(1,61935)\n",
      "Avg Obs:                       849.65                                           \n",
      "Min Obs:                       767.00                                           \n",
      "Max Obs:                       859.00                                           \n",
      "                                                                                \n",
      "                              Parameter Estimates                              \n",
      "===============================================================================\n",
      "             Parameter  Std. Err.     T-stat    P-value    Lower CI    Upper CI\n",
      "-------------------------------------------------------------------------------\n",
      "const        7.825e+05     4719.9     165.78     0.0000   7.732e+05   7.917e+05\n",
      "receivedHER  -1.35e+05  1.839e+04    -7.3364     0.0000   -1.71e+05   -9.89e+04\n",
      "===============================================================================\n",
      "\n",
      "F-test for Poolability: 279.96\n",
      "P-value: 0.0000\n",
      "Distribution: F(937,61935)\n",
      "\n",
      "Included effects: Entity, Time\n"
     ]
    }
   ],
   "source": [
    "#Fixed effect remove outlier 0.01%\n",
    "exog_vars4 = [\"receivedHER\"]\n",
    "exog4 = sm.add_constant(df4[exog_vars4])\n",
    "mod = PanelOLS(df4.consumption, exog4,  entity_effects=True, time_effects=True )\n",
    "fe_res4 = mod.fit(cov_type=\"clustered\")\n",
    "print(fe_res4)"
   ]
  },
  {
   "cell_type": "code",
   "execution_count": 45,
   "id": "2b3a662e-ddb7-4e3a-841d-9d4bf520ee82",
   "metadata": {},
   "outputs": [
    {
     "name": "stdout",
     "output_type": "stream",
     "text": [
      "Consumption diff: -130062.37129756348\n",
      "consumption diff with control group: -1144982.2596104676\n",
      "Consumption diff_in_diff: -645408.7840738683\n"
     ]
    }
   ],
   "source": [
    "new_data=df.query(\"ClimateZone==4\")  #control Alabama\n",
    "ttt=df.query(\"ClimateZone==3\")      #treatment Arkansas\n",
    "new_data = new_data.append(ttt) # edo mporo na valo tin entoli tou ttt kai svino to del\n",
    "del(ttt)\n",
    "# new_data[\"receivedHER\"] =new_data[\"WeekDate\"]> pd.to_datetime(\"2020-12-07\")\n",
    "con_before = new_data.query(\"receivedHER==1 & ClimateZone==4\")[\"consumption\"].mean()\n",
    "con_after = new_data.query(\"receivedHER==1 & ClimateZone==3\")[\"consumption\"].mean()\n",
    "print('Consumption diff:', con_after - con_before)\n",
    "\n",
    "\n",
    "control_con_after = new_data.query(\"receivedHER==0 & ClimateZone==3\")[\"consumption\"].mean()\n",
    "print('consumption diff with control group:',  con_after - control_con_after)\n",
    "\n",
    "control_con_before = new_data.query(\"receivedHER==0 & ClimateZone==4\")[\"consumption\"].mean()\n",
    "print('Consumption diff_in_diff:',(con_after - con_before)-(control_con_after-control_con_before))"
   ]
  },
  {
   "cell_type": "code",
   "execution_count": 47,
   "id": "fae4fa76-2d63-4589-824d-7432a5ca9686",
   "metadata": {},
   "outputs": [
    {
     "data": {
      "image/png": "[encoded data removed]",
      "text/plain": [
       "<Figure size 720x1440 with 1 Axes>"
      ]
     },
     "metadata": {
      "needs_background": "light"
     },
     "output_type": "display_data"
    }
   ],
   "source": [
    "#Diagramm of the differences in climate zone \n",
    "plt.figure(figsize=(10,20))\n",
    "plt.subplot(311)\n",
    "plt.plot([\"Before\", \"After\"], [control_con_before,control_con_after], label=\"Climate Zone 4\", lw=2)\n",
    "plt.plot([\"Before\", \"After\"], [con_before, con_after], label=\"Climate Zone 3\", lw=2)\n",
    "plt.plot([\"Before\", \"After\"], [con_before, con_before+(control_con_after-control_con_before)],\n",
    "         label=\"Counterfactual\", lw=2, color=\"C2\", ls=\"-.\")\n",
    "plt.ylabel(\"Consumption\")\n",
    "plt.legend();\n",
    "\n"
   ]
  },
  {
   "cell_type": "code",
   "execution_count": 64,
   "id": "7114e595-6f46-407e-9540-fc040d1a020c",
   "metadata": {},
   "outputs": [
    {
     "data": {
      "text/plain": [
       "14.787750872939991"
      ]
     },
     "execution_count": 64,
     "metadata": {},
     "output_type": "execute_result"
    }
   ],
   "source": [
    "import math\n",
    "\n",
    "# math.log(3029301.9289835165)\n",
    "k = data3.query(\"housesize==1000  & receivedHER==0\")[\"consumption\"].mean()\n",
    "math.log(k)"
   ]
  },
  {
   "cell_type": "code",
   "execution_count": 17,
   "id": "b36b0840-01dc-4dcf-8fcc-731c33057ea7",
   "metadata": {},
   "outputs": [
    {
     "name": "stderr",
     "output_type": "stream",
     "text": [
      "C:\\Users\\kwnst\\AppData\\Local\\Programs\\Python\\Python310\\lib\\site-packages\\linearmodels\\panel\\model.py:854: MissingValueWarning: \n",
      "Inputs contain missing values. Dropping rows with missing observations.\n",
      "  super().__init__(dependent, exog, weights=weights, check_rank=check_rank)\n"
     ]
    },
    {
     "name": "stdout",
     "output_type": "stream",
     "text": [
      "                          PooledOLS Estimation Summary                          \n",
      "================================================================================\n",
      "Dep. Variable:            consumption   R-squared:                        0.0356\n",
      "Estimator:                  PooledOLS   R-squared (Between):              1.0000\n",
      "No. Observations:               61446   R-squared (Within):               0.0310\n",
      "Date:                Tue, Aug 30 2022   R-squared (Overall):              0.0356\n",
      "Time:                        14:15:18   Log-likelihood                -1.123e+06\n",
      "Cov. Estimator:            Unadjusted                                           \n",
      "                                        F-statistic:                      32.328\n",
      "Entities:                           2   P-value                           0.0000\n",
      "Avg Obs:                    3.072e+04   Distribution:                F(70,61376)\n",
      "Min Obs:                       7965.0                                           \n",
      "Max Obs:                    5.348e+04   F-statistic (robust):             32.328\n",
      "                                        P-value                           0.0000\n",
      "Time periods:                      74   Distribution:                F(70,61376)\n",
      "Avg Obs:                       830.35                                           \n",
      "Min Obs:                       153.00                                           \n",
      "Max Obs:                       861.00                                           \n",
      "                                                                                \n",
      "                                  Parameter Estimates                                  \n",
      "=======================================================================================\n",
      "                     Parameter  Std. Err.     T-stat    P-value    Lower CI    Upper CI\n",
      "---------------------------------------------------------------------------------------\n",
      "2021-01-18 00:00:00   7.75e+04  7.986e+05     0.0970     0.9227  -1.488e+06   1.643e+06\n",
      "2021-01-25 00:00:00  2.408e+05  7.999e+05     0.3010     0.7634  -1.327e+06   1.809e+06\n",
      "2021-02-01 00:00:00   3.79e+05  8.003e+05     0.4735     0.6359   -1.19e+06   1.948e+06\n",
      "2021-02-08 00:00:00  4.011e+05  8.003e+05     0.5012     0.6162  -1.168e+06    1.97e+06\n",
      "2021-02-15 00:00:00  1.369e+05  8.003e+05     0.1711     0.8642  -1.432e+06   1.706e+06\n",
      "2021-02-22 00:00:00 -1.272e+05   7.76e+05    -0.1639     0.8698  -1.648e+06   1.394e+06\n",
      "2021-03-01 00:00:00 -4.345e+04   7.76e+05    -0.0560     0.9553  -1.564e+06   1.478e+06\n",
      "2021-03-08 00:00:00     4785.6   7.76e+05     0.0062     0.9951  -1.516e+06   1.526e+06\n",
      "2021-03-15 00:00:00 -7.145e+04   7.76e+05    -0.0921     0.9266  -1.592e+06    1.45e+06\n",
      "2021-03-22 00:00:00  -1.75e+05   7.76e+05    -0.2255     0.8216  -1.696e+06   1.346e+06\n",
      "2021-03-29 00:00:00 -2.343e+05   7.76e+05    -0.3019     0.7627  -1.755e+06   1.287e+06\n",
      "2021-04-05 00:00:00  -1.75e+05   7.76e+05    -0.2255     0.8216  -1.696e+06   1.346e+06\n",
      "2021-04-12 00:00:00 -2.013e+05   7.76e+05    -0.2594     0.7953  -1.722e+06    1.32e+06\n",
      "2021-04-19 00:00:00 -2.452e+05   7.76e+05    -0.3159     0.7521  -1.766e+06   1.276e+06\n",
      "2021-04-26 00:00:00 -2.634e+05   7.76e+05    -0.3394     0.7343  -1.784e+06   1.258e+06\n",
      "2021-05-03 00:00:00 -2.464e+05   7.76e+05    -0.3176     0.7508  -1.767e+06   1.275e+06\n",
      "2021-05-10 00:00:00 -4.052e+05   7.76e+05    -0.5221     0.6016  -1.926e+06   1.116e+06\n",
      "2021-05-17 00:00:00 -3.676e+05  7.772e+05    -0.4730     0.6362  -1.891e+06   1.156e+06\n",
      "2021-05-24 00:00:00 -3.704e+05  7.772e+05    -0.4766     0.6337  -1.894e+06   1.153e+06\n",
      "2021-05-31 00:00:00  3.069e+06  7.772e+05     3.9483     0.0001   1.545e+06   4.592e+06\n",
      "2021-06-07 00:00:00 -4.271e+05  7.768e+05    -0.5499     0.5824   -1.95e+06   1.095e+06\n",
      "2021-06-14 00:00:00 -4.152e+05  7.768e+05    -0.5345     0.5930  -1.938e+06   1.107e+06\n",
      "2021-06-21 00:00:00 -4.783e+05  7.768e+05    -0.6157     0.5381  -2.001e+06   1.044e+06\n",
      "2021-06-28 00:00:00 -4.462e+05  7.768e+05    -0.5744     0.5657  -1.969e+06   1.076e+06\n",
      "2021-07-05 00:00:00 -4.655e+05  7.772e+05    -0.5989     0.5492  -1.989e+06   1.058e+06\n",
      "2021-07-12 00:00:00  5.391e+06  7.791e+05     6.9195     0.0000   3.864e+06   6.918e+06\n",
      "2021-07-19 00:00:00  6.677e+05  7.768e+05     0.8596     0.3900  -8.548e+05    2.19e+06\n",
      "2021-07-26 00:00:00 -4.806e+05  7.764e+05    -0.6190     0.5359  -2.002e+06   1.041e+06\n",
      "2021-08-02 00:00:00 -4.637e+05  7.764e+05    -0.5972     0.5504  -1.985e+06   1.058e+06\n",
      "2021-08-09 00:00:00 -4.072e+05  7.768e+05    -0.5242     0.6001   -1.93e+06   1.115e+06\n",
      "2021-08-16 00:00:00 -3.879e+05  7.768e+05    -0.4993     0.6176   -1.91e+06   1.135e+06\n",
      "2021-08-23 00:00:00 -3.876e+05  7.768e+05    -0.4990     0.6178   -1.91e+06   1.135e+06\n",
      "2021-08-30 00:00:00 -3.481e+05  7.768e+05    -0.4481     0.6541  -1.871e+06   1.174e+06\n",
      "2021-09-06 00:00:00 -3.911e+05  7.772e+05    -0.5032     0.6149  -1.914e+06   1.132e+06\n",
      "2021-09-13 00:00:00 -3.588e+05  7.772e+05    -0.4616     0.6444  -1.882e+06   1.165e+06\n",
      "2021-09-20 00:00:00 -3.349e+05  7.772e+05    -0.4309     0.6665  -1.858e+06   1.188e+06\n",
      "2021-09-27 00:00:00 -3.383e+05  7.772e+05    -0.4352     0.6634  -1.862e+06   1.185e+06\n",
      "2021-10-04 00:00:00 -3.092e+05  7.772e+05    -0.3979     0.6907  -1.833e+06   1.214e+06\n",
      "2021-10-11 00:00:00 -2.497e+05  7.772e+05    -0.3213     0.7480  -1.773e+06   1.274e+06\n",
      "2021-10-18 00:00:00 -4.245e+05  7.772e+05    -0.5462     0.5849  -1.948e+06   1.099e+06\n",
      "2021-10-25 00:00:00 -2.383e+05  7.772e+05    -0.3066     0.7591  -1.762e+06   1.285e+06\n",
      "2021-11-01 00:00:00 -2.143e+05  7.772e+05    -0.2757     0.7828  -1.738e+06   1.309e+06\n",
      "2021-11-08 00:00:00  -1.25e+05  7.772e+05    -0.1608     0.8723  -1.648e+06   1.398e+06\n",
      "2021-11-15 00:00:00 -1.194e+05  7.772e+05    -0.1537     0.8779  -1.643e+06   1.404e+06\n",
      "2021-11-22 00:00:00     1711.0  7.772e+05     0.0022     0.9982  -1.522e+06   1.525e+06\n",
      "2021-11-29 00:00:00  2.506e+05  7.776e+05     0.3222     0.7473  -1.273e+06   1.775e+06\n",
      "2021-12-06 00:00:00  1.089e+06   7.86e+05     1.3855     0.1659  -4.516e+05    2.63e+06\n",
      "2021-12-13 00:00:00  8.929e+05  7.846e+05     1.1380     0.2551  -6.449e+05   2.431e+06\n",
      "2021-12-20 00:00:00   1.09e+06  7.853e+05     1.3879     0.1652  -4.493e+05   2.629e+06\n",
      "2021-12-27 00:00:00  8.686e+05  7.854e+05     1.1059     0.2688  -6.708e+05   2.408e+06\n",
      "2022-01-03 00:00:00  3.146e+06  7.985e+05     3.9393     0.0001   1.581e+06   4.711e+06\n",
      "2022-01-10 00:00:00  8.891e+05   7.85e+05     1.1326     0.2574  -6.495e+05   2.428e+06\n",
      "2022-01-17 00:00:00  8.943e+05  7.849e+05     1.1393     0.2546  -6.442e+05   2.433e+06\n",
      "2022-01-24 00:00:00  8.251e+05  7.842e+05     1.0522     0.2927  -7.119e+05   2.362e+06\n",
      "2022-01-31 00:00:00  8.662e+05  7.842e+05     1.1047     0.2693  -6.707e+05   2.403e+06\n",
      "2022-02-07 00:00:00   5.24e+07  1.725e+06     30.371     0.0000   4.902e+07   5.579e+07\n",
      "2022-02-14 00:00:00  7.071e+05   7.92e+05     0.8928     0.3720  -8.452e+05   2.259e+06\n",
      "2022-02-21 00:00:00  1.488e+06  8.006e+05     1.8584     0.0631  -8.137e+04   3.057e+06\n",
      "2022-02-28 00:00:00  5.142e+07  1.701e+06     30.226     0.0000   4.809e+07   5.476e+07\n",
      "2022-03-07 00:00:00  1.185e+06  8.062e+05     1.4695     0.1417  -3.955e+05   2.765e+06\n",
      "2022-03-14 00:00:00  1.261e+06  8.009e+05     1.5745     0.1154  -3.088e+05   2.831e+06\n",
      "2022-03-21 00:00:00  1.071e+06  8.006e+05     1.3379     0.1809  -4.981e+05    2.64e+06\n",
      "2022-03-28 00:00:00  1.237e+06  8.009e+05     1.5449     0.1224  -3.325e+05   2.807e+06\n",
      "2022-04-04 00:00:00   1.28e+06  8.009e+05     1.5980     0.1100  -2.899e+05    2.85e+06\n",
      "2022-04-11 00:00:00  1.078e+06  8.009e+05     1.3459     0.1783  -4.918e+05   2.648e+06\n",
      "2022-04-18 00:00:00  8.329e+05  8.009e+05     1.0399     0.2984  -7.369e+05   2.403e+06\n",
      "2022-04-25 00:00:00    9.9e+05  8.009e+05     1.2361     0.2164  -5.798e+05    2.56e+06\n",
      "2022-05-02 00:00:00  8.643e+05  8.009e+05     1.0791     0.2805  -7.055e+05   2.434e+06\n",
      "0                    1.197e+06  3.022e+05     3.9605     0.0001   6.045e+05   1.789e+06\n",
      "1                   -1.485e+06  4.472e+05    -3.3195     0.0009  -2.361e+06   -6.08e+05\n",
      "=======================================================================================\n"
     ]
    },
    {
     "ename": "FactorEvaluationError",
     "evalue": "Unable to evaluate factor `receivedHER`. [KeyError: 'receivedHER']",
     "output_type": "error",
     "traceback": [
      "\u001b[1;31m---------------------------------------------------------------------------\u001b[0m",
      "\u001b[1;31mKeyError\u001b[0m                                  Traceback (most recent call last)",
      "\u001b[1;32m~\\AppData\\Local\\Programs\\Python\\Python310\\lib\\site-packages\\formulaic\\materializers\\base.py\u001b[0m in \u001b[0;36m_evaluate_factor\u001b[1;34m(self, factor, spec, drop_rows)\u001b[0m\n\u001b[0;32m    444\u001b[0m                 \u001b[1;32mif\u001b[0m \u001b[0mfactor\u001b[0m\u001b[1;33m.\u001b[0m\u001b[0meval_method\u001b[0m\u001b[1;33m.\u001b[0m\u001b[0mvalue\u001b[0m \u001b[1;33m==\u001b[0m \u001b[1;34m\"lookup\"\u001b[0m\u001b[1;33m:\u001b[0m\u001b[1;33m\u001b[0m\u001b[1;33m\u001b[0m\u001b[0m\n\u001b[1;32m--> 445\u001b[1;33m                     \u001b[0mvalue\u001b[0m \u001b[1;33m=\u001b[0m \u001b[0mself\u001b[0m\u001b[1;33m.\u001b[0m\u001b[0m_lookup\u001b[0m\u001b[1;33m(\u001b[0m\u001b[0mfactor\u001b[0m\u001b[1;33m.\u001b[0m\u001b[0mexpr\u001b[0m\u001b[1;33m)\u001b[0m\u001b[1;33m\u001b[0m\u001b[1;33m\u001b[0m\u001b[0m\n\u001b[0m\u001b[0;32m    446\u001b[0m                 \u001b[1;32melif\u001b[0m \u001b[0mfactor\u001b[0m\u001b[1;33m.\u001b[0m\u001b[0meval_method\u001b[0m\u001b[1;33m.\u001b[0m\u001b[0mvalue\u001b[0m \u001b[1;33m==\u001b[0m \u001b[1;34m\"python\"\u001b[0m\u001b[1;33m:\u001b[0m\u001b[1;33m\u001b[0m\u001b[1;33m\u001b[0m\u001b[0m\n",
      "\u001b[1;32m~\\AppData\\Local\\Programs\\Python\\Python310\\lib\\site-packages\\formulaic\\materializers\\base.py\u001b[0m in \u001b[0;36m_lookup\u001b[1;34m(self, name)\u001b[0m\n\u001b[0;32m    504\u001b[0m     \u001b[1;32mdef\u001b[0m \u001b[0m_lookup\u001b[0m\u001b[1;33m(\u001b[0m\u001b[0mself\u001b[0m\u001b[1;33m,\u001b[0m \u001b[0mname\u001b[0m\u001b[1;33m)\u001b[0m\u001b[1;33m:\u001b[0m\u001b[1;33m\u001b[0m\u001b[1;33m\u001b[0m\u001b[0m\n\u001b[1;32m--> 505\u001b[1;33m         \u001b[1;32mreturn\u001b[0m \u001b[0mself\u001b[0m\u001b[1;33m.\u001b[0m\u001b[0mlayered_context\u001b[0m\u001b[1;33m[\u001b[0m\u001b[0mname\u001b[0m\u001b[1;33m]\u001b[0m\u001b[1;33m\u001b[0m\u001b[1;33m\u001b[0m\u001b[0m\n\u001b[0m\u001b[0;32m    506\u001b[0m \u001b[1;33m\u001b[0m\u001b[0m\n",
      "\u001b[1;32m~\\AppData\\Local\\Programs\\Python\\Python310\\lib\\site-packages\\formulaic\\utils\\layered_mapping.py\u001b[0m in \u001b[0;36m__getitem__\u001b[1;34m(self, key)\u001b[0m\n\u001b[0;32m     33\u001b[0m                 \u001b[1;32mreturn\u001b[0m \u001b[0mlayer\u001b[0m\u001b[1;33m[\u001b[0m\u001b[0mkey\u001b[0m\u001b[1;33m]\u001b[0m\u001b[1;33m\u001b[0m\u001b[1;33m\u001b[0m\u001b[0m\n\u001b[1;32m---> 34\u001b[1;33m         \u001b[1;32mraise\u001b[0m \u001b[0mKeyError\u001b[0m\u001b[1;33m(\u001b[0m\u001b[0mkey\u001b[0m\u001b[1;33m)\u001b[0m\u001b[1;33m\u001b[0m\u001b[1;33m\u001b[0m\u001b[0m\n\u001b[0m\u001b[0;32m     35\u001b[0m \u001b[1;33m\u001b[0m\u001b[0m\n",
      "\u001b[1;31mKeyError\u001b[0m: 'receivedHER'",
      "\nDuring handling of the above exception, another exception occurred:\n",
      "\u001b[1;31mFactorEvaluationError\u001b[0m                     Traceback (most recent call last)",
      "\u001b[1;32m~\\AppData\\Local\\Temp/ipykernel_17696/2173176033.py\u001b[0m in \u001b[0;36m<module>\u001b[1;34m\u001b[0m\n\u001b[0;32m     25\u001b[0m \u001b[1;33m\u001b[0m\u001b[0m\n\u001b[0;32m     26\u001b[0m \u001b[1;33m\u001b[0m\u001b[0m\n\u001b[1;32m---> 27\u001b[1;33m \u001b[0mmod\u001b[0m\u001b[1;33m=\u001b[0m\u001b[0mPanelOLS\u001b[0m\u001b[1;33m.\u001b[0m\u001b[0mfrom_formula\u001b[0m\u001b[1;33m(\u001b[0m\u001b[1;34m'consumption ~  receivedHER + EntityEffects + TimeEffects'\u001b[0m \u001b[1;33m,\u001b[0m \u001b[0mdata\u001b[0m\u001b[1;33m=\u001b[0m\u001b[0mnew_data2\u001b[0m\u001b[1;33m)\u001b[0m\u001b[1;33m\u001b[0m\u001b[1;33m\u001b[0m\u001b[0m\n\u001b[0m\u001b[0;32m     28\u001b[0m \u001b[0mprint\u001b[0m\u001b[1;33m(\u001b[0m\u001b[0mmod\u001b[0m\u001b[1;33m.\u001b[0m\u001b[0mfit\u001b[0m\u001b[1;33m(\u001b[0m\u001b[0mcov_type\u001b[0m\u001b[1;33m=\u001b[0m\u001b[1;34m'robust'\u001b[0m\u001b[1;33m)\u001b[0m\u001b[1;33m)\u001b[0m\u001b[1;33m\u001b[0m\u001b[1;33m\u001b[0m\u001b[0m\n",
      "\u001b[1;32m~\\AppData\\Local\\Programs\\Python\\Python310\\lib\\site-packages\\linearmodels\\panel\\model.py\u001b[0m in \u001b[0;36mfrom_formula\u001b[1;34m(cls, formula, data, weights, other_effects, singletons, drop_absorbed, check_rank)\u001b[0m\n\u001b[0;32m   1382\u001b[0m         \u001b[0mentity_effect\u001b[0m \u001b[1;33m=\u001b[0m \u001b[0mparser\u001b[0m\u001b[1;33m.\u001b[0m\u001b[0mentity_effect\u001b[0m\u001b[1;33m\u001b[0m\u001b[1;33m\u001b[0m\u001b[0m\n\u001b[0;32m   1383\u001b[0m         \u001b[0mtime_effect\u001b[0m \u001b[1;33m=\u001b[0m \u001b[0mparser\u001b[0m\u001b[1;33m.\u001b[0m\u001b[0mtime_effect\u001b[0m\u001b[1;33m\u001b[0m\u001b[1;33m\u001b[0m\u001b[0m\n\u001b[1;32m-> 1384\u001b[1;33m         \u001b[0mdependent\u001b[0m\u001b[1;33m,\u001b[0m \u001b[0mexog\u001b[0m \u001b[1;33m=\u001b[0m \u001b[0mparser\u001b[0m\u001b[1;33m.\u001b[0m\u001b[0mdata\u001b[0m\u001b[1;33m\u001b[0m\u001b[1;33m\u001b[0m\u001b[0m\n\u001b[0m\u001b[0;32m   1385\u001b[0m         mod = cls(\n\u001b[0;32m   1386\u001b[0m             \u001b[0mdependent\u001b[0m\u001b[1;33m,\u001b[0m\u001b[1;33m\u001b[0m\u001b[1;33m\u001b[0m\u001b[0m\n",
      "\u001b[1;32m~\\AppData\\Local\\Programs\\Python\\Python310\\lib\\site-packages\\linearmodels\\panel\\model.py\u001b[0m in \u001b[0;36mdata\u001b[1;34m(self)\u001b[0m\n\u001b[0;32m    198\u001b[0m         \u001b[1;34m\"\"\"Returns a tuple containing the dependent, exog, endog\"\"\"\u001b[0m\u001b[1;33m\u001b[0m\u001b[1;33m\u001b[0m\u001b[0m\n\u001b[0;32m    199\u001b[0m         \u001b[0mself\u001b[0m\u001b[1;33m.\u001b[0m\u001b[0m_context\u001b[0m \u001b[1;33m+=\u001b[0m \u001b[1;36m1\u001b[0m\u001b[1;33m\u001b[0m\u001b[1;33m\u001b[0m\u001b[0m\n\u001b[1;32m--> 200\u001b[1;33m         \u001b[0mout\u001b[0m \u001b[1;33m=\u001b[0m \u001b[0mself\u001b[0m\u001b[1;33m.\u001b[0m\u001b[0mdependent\u001b[0m\u001b[1;33m,\u001b[0m \u001b[0mself\u001b[0m\u001b[1;33m.\u001b[0m\u001b[0mexog\u001b[0m\u001b[1;33m\u001b[0m\u001b[1;33m\u001b[0m\u001b[0m\n\u001b[0m\u001b[0;32m    201\u001b[0m         \u001b[0mself\u001b[0m\u001b[1;33m.\u001b[0m\u001b[0m_context\u001b[0m \u001b[1;33m-=\u001b[0m \u001b[1;36m1\u001b[0m\u001b[1;33m\u001b[0m\u001b[1;33m\u001b[0m\u001b[0m\n\u001b[0;32m    202\u001b[0m         \u001b[1;32mreturn\u001b[0m \u001b[0mout\u001b[0m\u001b[1;33m\u001b[0m\u001b[1;33m\u001b[0m\u001b[0m\n",
      "\u001b[1;32m~\\AppData\\Local\\Programs\\Python\\Python310\\lib\\site-packages\\linearmodels\\panel\\model.py\u001b[0m in \u001b[0;36mexog\u001b[1;34m(self)\u001b[0m\n\u001b[0;32m    218\u001b[0m         \u001b[1;34m\"\"\"DataFrame containing the exogenous variables\"\"\"\u001b[0m\u001b[1;33m\u001b[0m\u001b[1;33m\u001b[0m\u001b[0m\n\u001b[0;32m    219\u001b[0m         return DataFrame(\n\u001b[1;32m--> 220\u001b[1;33m             model_matrix(\n\u001b[0m\u001b[0;32m    221\u001b[0m                 \u001b[0mself\u001b[0m\u001b[1;33m.\u001b[0m\u001b[0m_rhs\u001b[0m\u001b[1;33m,\u001b[0m\u001b[1;33m\u001b[0m\u001b[1;33m\u001b[0m\u001b[0m\n\u001b[0;32m    222\u001b[0m                 \u001b[0mself\u001b[0m\u001b[1;33m.\u001b[0m\u001b[0m_data\u001b[0m\u001b[1;33m.\u001b[0m\u001b[0mdataframe\u001b[0m\u001b[1;33m,\u001b[0m\u001b[1;33m\u001b[0m\u001b[1;33m\u001b[0m\u001b[0m\n",
      "\u001b[1;32m~\\AppData\\Local\\Programs\\Python\\Python310\\lib\\site-packages\\formulaic\\sugar.py\u001b[0m in \u001b[0;36mmodel_matrix\u001b[1;34m(spec, data, context, **kwargs)\u001b[0m\n\u001b[0;32m     55\u001b[0m     \u001b[1;32melif\u001b[0m \u001b[1;32mnot\u001b[0m \u001b[0misinstance\u001b[0m\u001b[1;33m(\u001b[0m\u001b[0mspec\u001b[0m\u001b[1;33m,\u001b[0m \u001b[0mModelSpec\u001b[0m\u001b[1;33m)\u001b[0m\u001b[1;33m:\u001b[0m\u001b[1;33m\u001b[0m\u001b[1;33m\u001b[0m\u001b[0m\n\u001b[0;32m     56\u001b[0m         \u001b[0mspec\u001b[0m \u001b[1;33m=\u001b[0m \u001b[0mFormula\u001b[0m\u001b[1;33m.\u001b[0m\u001b[0mfrom_spec\u001b[0m\u001b[1;33m(\u001b[0m\u001b[0mspec\u001b[0m\u001b[1;33m)\u001b[0m\u001b[1;33m\u001b[0m\u001b[1;33m\u001b[0m\u001b[0m\n\u001b[1;32m---> 57\u001b[1;33m     \u001b[1;32mreturn\u001b[0m \u001b[0mspec\u001b[0m\u001b[1;33m.\u001b[0m\u001b[0mget_model_matrix\u001b[0m\u001b[1;33m(\u001b[0m\u001b[0mdata\u001b[0m\u001b[1;33m,\u001b[0m \u001b[0mcontext\u001b[0m\u001b[1;33m=\u001b[0m\u001b[0mcontext\u001b[0m\u001b[1;33m,\u001b[0m \u001b[1;33m**\u001b[0m\u001b[0mkwargs\u001b[0m\u001b[1;33m)\u001b[0m\u001b[1;33m\u001b[0m\u001b[1;33m\u001b[0m\u001b[0m\n\u001b[0m",
      "\u001b[1;32m~\\AppData\\Local\\Programs\\Python\\Python310\\lib\\site-packages\\formulaic\\formula.py\u001b[0m in \u001b[0;36mget_model_matrix\u001b[1;34m(self, data, context, materializer, ensure_full_rank, **kwargs)\u001b[0m\n\u001b[0;32m     75\u001b[0m                 \u001b[1;34m\"Materializers must be subclasses of `formulaic.materializers.FormulaMaterializer`.\"\u001b[0m\u001b[1;33m\u001b[0m\u001b[1;33m\u001b[0m\u001b[0m\n\u001b[0;32m     76\u001b[0m             )\n\u001b[1;32m---> 77\u001b[1;33m         return materializer(data, context=context or {}).get_model_matrix(\n\u001b[0m\u001b[0;32m     78\u001b[0m             \u001b[0mself\u001b[0m\u001b[1;33m,\u001b[0m \u001b[0mensure_full_rank\u001b[0m\u001b[1;33m=\u001b[0m\u001b[0mensure_full_rank\u001b[0m\u001b[1;33m,\u001b[0m \u001b[1;33m**\u001b[0m\u001b[0mkwargs\u001b[0m\u001b[1;33m\u001b[0m\u001b[1;33m\u001b[0m\u001b[0m\n\u001b[0;32m     79\u001b[0m         )\n",
      "\u001b[1;32m~\\AppData\\Local\\Programs\\Python\\Python310\\lib\\site-packages\\formulaic\\materializers\\base.py\u001b[0m in \u001b[0;36mget_model_matrix\u001b[1;34m(self, spec, ensure_full_rank, na_action, output)\u001b[0m\n\u001b[0;32m    155\u001b[0m         \u001b[0mdrop_rows\u001b[0m \u001b[1;33m=\u001b[0m \u001b[0mset\u001b[0m\u001b[1;33m(\u001b[0m\u001b[1;33m)\u001b[0m\u001b[1;33m\u001b[0m\u001b[1;33m\u001b[0m\u001b[0m\n\u001b[0;32m    156\u001b[0m         \u001b[1;32mfor\u001b[0m \u001b[0mfactor\u001b[0m \u001b[1;32min\u001b[0m \u001b[0mfactors\u001b[0m\u001b[1;33m:\u001b[0m\u001b[1;33m\u001b[0m\u001b[1;33m\u001b[0m\u001b[0m\n\u001b[1;32m--> 157\u001b[1;33m             \u001b[0mself\u001b[0m\u001b[1;33m.\u001b[0m\u001b[0m_evaluate_factor\u001b[0m\u001b[1;33m(\u001b[0m\u001b[0mfactor\u001b[0m\u001b[1;33m,\u001b[0m \u001b[0mfactor_evaluation_model_spec\u001b[0m\u001b[1;33m,\u001b[0m \u001b[0mdrop_rows\u001b[0m\u001b[1;33m)\u001b[0m\u001b[1;33m\u001b[0m\u001b[1;33m\u001b[0m\u001b[0m\n\u001b[0m\u001b[0;32m    158\u001b[0m         \u001b[0mdrop_rows\u001b[0m \u001b[1;33m=\u001b[0m \u001b[0msorted\u001b[0m\u001b[1;33m(\u001b[0m\u001b[0mdrop_rows\u001b[0m\u001b[1;33m)\u001b[0m\u001b[1;33m\u001b[0m\u001b[1;33m\u001b[0m\u001b[0m\n\u001b[0;32m    159\u001b[0m \u001b[1;33m\u001b[0m\u001b[0m\n",
      "\u001b[1;32m~\\AppData\\Local\\Programs\\Python\\Python310\\lib\\site-packages\\formulaic\\materializers\\base.py\u001b[0m in \u001b[0;36m_evaluate_factor\u001b[1;34m(self, factor, spec, drop_rows)\u001b[0m\n\u001b[0;32m    458\u001b[0m                 \u001b[1;32mraise\u001b[0m\u001b[1;33m\u001b[0m\u001b[1;33m\u001b[0m\u001b[0m\n\u001b[0;32m    459\u001b[0m             \u001b[1;32mexcept\u001b[0m \u001b[0mException\u001b[0m \u001b[1;32mas\u001b[0m \u001b[0me\u001b[0m\u001b[1;33m:\u001b[0m\u001b[1;33m\u001b[0m\u001b[1;33m\u001b[0m\u001b[0m\n\u001b[1;32m--> 460\u001b[1;33m                 raise FactorEvaluationError(\n\u001b[0m\u001b[0;32m    461\u001b[0m                     \u001b[1;34mf\"Unable to evaluate factor `{factor}`. [{type(e).__name__}: {e}]\"\u001b[0m\u001b[1;33m\u001b[0m\u001b[1;33m\u001b[0m\u001b[0m\n\u001b[0;32m    462\u001b[0m                 )\n",
      "\u001b[1;31mFactorEvaluationError\u001b[0m: Unable to evaluate factor `receivedHER`. [KeyError: 'receivedHER']"
     ]
    }
   ],
   "source": [
    "new_data2 =pd.read_excel('Thesis_data.xlsx')\n",
    "new_data2= new_data2.dropna()\n",
    "year = pd.Categorical(new_data2.WeekDate)\n",
    "new_data2 = new_data2.set_index([\"receivedHER\", \"WeekDate\"])\n",
    "\n",
    "new_data3 =pd.read_excel('Thesis_data.xlsx')\n",
    "new_data4 =pd.get_dummies(new_data3.WeekDate)\n",
    "# print(new_data4)\n",
    "new_data4.drop(columns= pd.to_datetime(\"2021-12-06\"))     \n",
    "\n",
    "new_data5 =pd.get_dummies(new_data3.receivedHER)\n",
    "new_data5.drop(columns=1) \n",
    "new_data3=new_data3.join([new_data4, new_data5])\n",
    "year = pd.Categorical(new_data3.WeekDate)\n",
    "new_data3 = new_data3.set_index([\"receivedHER\", \"WeekDate\"])\n",
    "\n",
    "\n",
    "exog=new_data3.iloc[:, 10:86:1]\n",
    "#const=np.ones(len(exog)-1)\n",
    "#exog = exog.join(const)\n",
    "mod = PooledOLS(new_data3.consumption, exog, check_rank=False)\n",
    "pooled_res = mod.fit()\n",
    "print(pooled_res)\n",
    "\n",
    "\n",
    "\n",
    "mod=PanelOLS.from_formula('consumption ~  receivedHER + EntityEffects + TimeEffects' , data=new_data2)\n",
    "print(mod.fit(cov_type='robust'))\n"
   ]
  },
  {
   "cell_type": "code",
   "execution_count": 72,
   "id": "910d630d-ac91-403e-a2ee-ecb227381ed2",
   "metadata": {},
   "outputs": [],
   "source": [
    "# data=df.query(\"receivedHER==0\") #control group\n",
    "# tt=df.query(\" receivedHER==1\")      #treatment group\n",
    "# new_data = new_data.append(tt) # edo mporo na valo tin entoli tou ttt kai svino to del\n",
    "# del(tt)\n",
    "# # data[\"receivedHER\"] = data[\"WeekDate\"] > pd.to_datetime(\"2020-12-07\")\n",
    "# # data[\"receivedHER\"] =data[\"receivedHER\"].astype(int)\n",
    "\n",
    "\n",
    "# consumption_before2 = data.query(\"receivedHER==1\")[\"consumption\"].mean()\n",
    "# print(consumption_before2)\n",
    "# consumption_after2 = data.query(\"receivedHER==0\")[\"consumption\"].mean()\n",
    "# print(consumption_after2)\n",
    "# print('consumption diff:', consumption_after2 - consumption_before2)\n"
   ]
  },
  {
   "cell_type": "code",
   "execution_count": 106,
   "id": "085fe68c-900c-4298-a7d8-40203f9033b9",
   "metadata": {},
   "outputs": [],
   "source": []
  },
  {
   "cell_type": "code",
   "execution_count": 89,
   "id": "942ed4f7-dc76-4c20-abe8-fe61e075096d",
   "metadata": {},
   "outputs": [
    {
     "data": {
      "text/plain": [
       "29000"
      ]
     },
     "execution_count": 89,
     "metadata": {},
     "output_type": "execute_result"
    }
   ],
   "source": [
    "df.housesize.max()"
   ]
  },
  {
   "cell_type": "code",
   "execution_count": 48,
   "id": "3142a1f6-36c8-4b85-be28-4a168b7ecbde",
   "metadata": {},
   "outputs": [
    {
     "name": "stdout",
     "output_type": "stream",
     "text": [
      "consumption diff: 798505.4125\n"
     ]
    }
   ],
   "source": [
    "data3=df.query(\"housesize==147\") #control group\n",
    "data3 = df.append(df.query(\"housesize==1000\")) #treatment group\n",
    " \n",
    "# data3[\"receivedHER\"] = data3[\"WeekDate\"] > pd.to_datetime(\"2020-12-07\")\n",
    "# data3[\"receivedHER\"] =data3[\"receivedHER\"].astype(int)\n",
    "\n",
    "consumption_before3 = data3.query(\"housesize==147 & receivedHER==1\")[\"consumption\"].mean()\n",
    "# print(consumption_before3)\n",
    "consumption_after3 = data3.query(\"housesize==1000  & receivedHER==1\")[\"consumption\"].mean()\n",
    "# print(consumption_after3)\n",
    "print('consumption diff:', consumption_after3 - consumption_before3)"
   ]
  },
  {
   "cell_type": "code",
   "execution_count": 49,
   "id": "4c9f982e-1fd4-4aca-a005-d689edde834a",
   "metadata": {},
   "outputs": [
    {
     "name": "stdout",
     "output_type": "stream",
     "text": [
      "consumption diff with control group: 784600.7932692308\n",
      "consumption diff_in_diff: 3029301.9289835165\n"
     ]
    }
   ],
   "source": [
    "control_consumption_after3 = data3.query(\"housesize==147 & receivedHER==0\")[\"consumption\"].mean()\n",
    "print('consumption diff with control group:', consumption_after3 - control_consumption_after3 )\n",
    "\n",
    "control_consumption_before3 = data3.query(\"housesize==1000 & receivedHER==0\")[\"consumption\"].mean()\n",
    "print('consumption diff_in_diff:',(consumption_after3 - consumption_before3)-(control_consumption_after3 - control_consumption_before3))"
   ]
  },
  {
   "cell_type": "code",
   "execution_count": 60,
   "id": "6706f47d-083d-408d-9ea6-c6bc29c046f2",
   "metadata": {},
   "outputs": [
    {
     "data": {
      "image/png": "[encoded data removed]",
      "text/plain": [
       "<Figure size 720x1440 with 1 Axes>"
      ]
     },
     "metadata": {
      "needs_background": "light"
     },
     "output_type": "display_data"
    }
   ],
   "source": [
    "plt.figure(figsize=(10,20))\n",
    "plt.subplot(311)\n",
    "plt.plot([\"Before\", \"After\"], [control_consumption_before3, control_consumption_after3], label=\"House size 147\", lw=2)\n",
    "plt.plot([\"Before\", \"After\"], [consumption_before3, consumption_after3], label=\"House size 1000\", lw=2)\n",
    "plt.plot([\"Before\", \"After\"], [consumption_before3, consumption_before3+(control_consumption_after3-control_consumption_before3)],\n",
    "         label=\"Counterfactual\", lw=2, color=\"C2\", ls=\"-.\")\n",
    "plt.ylabel(\"Consumption between an average house size and a large house size\")\n",
    "plt.legend();"
   ]
  },
  {
   "cell_type": "code",
   "execution_count": 9,
   "id": "7cbaa084-0dde-4089-8552-170b143ca64c",
   "metadata": {},
   "outputs": [],
   "source": [
    "# new_data[\"state_dummy\"] =new_data[\"housesize\"]== 147\n",
    "# new_data[\"state_dummy\"] =new_data[\"state_dummy\"].astype(int)\n",
    "\n",
    "# smf.ols('consumption ~ state_dummy*receivedHER', data=new_data).fit().summary()"
   ]
  },
  {
   "cell_type": "code",
   "execution_count": null,
   "id": "550d6f73-391d-4684-9956-38fd88ba78b4",
   "metadata": {},
   "outputs": [],
   "source": []
  },
  {
   "cell_type": "code",
   "execution_count": null,
   "id": "f538bc3f-f675-420c-a0e9-cfd0ed38dd1a",
   "metadata": {},
   "outputs": [],
   "source": []
  }
 ],
 "metadata": {
  "kernelspec": {
   "display_name": "Python 3 (ipykernel)",
   "language": "python",
   "name": "python3"
  },
  "language_info": {
   "codemirror_mode": {
    "name": "ipython",
    "version": 3
   },
   "file_extension": ".py",
   "mimetype": "text/x-python",
   "name": "python",
   "nbconvert_exporter": "python",
   "pygments_lexer": "ipython3",
   "version": "3.10.0"
  }
 },
 "nbformat": 4,
 "nbformat_minor": 5
}
