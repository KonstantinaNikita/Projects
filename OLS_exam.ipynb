{
 "cells": [
  {
   "cell_type": "code",
   "execution_count": null,
   "id": "232b212e-3d25-410b-925b-cafae8480b03",
   "metadata": {},
   "outputs": [],
   "source": [
    "!pip install pandas\n",
    "!pip install pylab\n",
    "!pip install numpy\n",
    "!pip install scipy\n",
    "!pip install sklearn\n",
    "!pip install matplotlib\n",
    "!pip install python-math\n",
    "!pip install statsmodels\n",
    "!pip install plotly"
   ]
  },
  {
   "cell_type": "code",
   "execution_count": null,
   "id": "9f886ad4-c8b7-40a1-9718-1525ab72fc8c",
   "metadata": {},
   "outputs": [],
   "source": [
    "import pandas as pd\n",
    "import pylab as pl\n",
    "import numpy as np\n",
    "import scipy.optimize as opt\n",
    "from sklearn import preprocessing\n",
    "from sklearn.model_selection import train_test_split\n",
    "%matplotlib inline \n",
    "import matplotlib.pyplot as plt\n",
    "import math"
   ]
  },
  {
   "cell_type": "code",
   "execution_count": null,
   "id": "349a790a-311d-4802-91f1-c25ce84402dc",
   "metadata": {},
   "outputs": [],
   "source": [
    "df = pd.read_excel(\"data.xlsx\" , \"data\")\n",
    "df"
   ]
  },
  {
   "cell_type": "code",
   "execution_count": null,
   "id": "2d346169-ff9f-4d16-bd8c-072ccfcfd033",
   "metadata": {},
   "outputs": [],
   "source": [
    "df.describe()"
   ]
  },
  {
   "cell_type": "code",
   "execution_count": null,
   "id": "afdbc676-3b84-410a-a170-d2702e0e5aaa",
   "metadata": {},
   "outputs": [],
   "source": [
    "import matplotlib.colors as mcolors\n",
    "colors = list(mcolors.CSS4_COLORS.keys())[10:]\n",
    "def draw_histograms(dataframe, features, rows, cols):\n",
    "    fig=plt.figure(figsize=(10,10))\n",
    "    for i, feature in enumerate(features):\n",
    "        ax=fig.add_subplot(rows,cols,i+1)\n",
    "        dataframe[feature].hist(bins=20,ax=ax,facecolor=colors[i])\n",
    "        ax.set_title(feature+\" Histogram\",color=colors[35])\n",
    "        ax.set_yscale('log')\n",
    "    fig.tight_layout() \n",
    "    plt.savefig('Histograms.png')\n",
    "    plt.show()\n",
    "draw_histograms(df,df.columns,4,2)"
   ]
  },
  {
   "cell_type": "code",
   "execution_count": null,
   "id": "2317525d-3d28-43b9-9bd9-1cd84253a1af",
   "metadata": {},
   "outputs": [],
   "source": [
    "df['USDEUR'].plot(kind = 'kde', subplots = True , figsize = (10,6))"
   ]
  },
  {
   "cell_type": "code",
   "execution_count": null,
   "id": "5c70bc4d-5c50-41b5-95a4-bf8836bac5a1",
   "metadata": {},
   "outputs": [],
   "source": [
    "df['USDEUR'].plot(subplots = True , figsize = (10,6))"
   ]
  },
  {
   "cell_type": "code",
   "execution_count": null,
   "id": "6ca8c1f2-023b-4ba3-8187-632817f13b5d",
   "metadata": {},
   "outputs": [],
   "source": [
    "new_def = df.copy()\n",
    "# print(new_def)\n",
    "new_X = new_def.drop(columns=['USDEUR', 'Date'])\n",
    "\n",
    "X = new_X.fillna(new_X.mean()) #replace NaNs with the mean value\n",
    "\n",
    "y = df['USDEUR'].copy()\n",
    "y = y.fillna(y.mean())"
   ]
  },
  {
   "cell_type": "code",
   "execution_count": null,
   "id": "768659bc-5319-47bb-9334-8226babca1db",
   "metadata": {},
   "outputs": [],
   "source": [
    "## A second way to solution the problem with NaN ##\n",
    "## Go one place back ##\n",
    "\n",
    "# for i in range (len(df.index)-1):\n",
    "#     df.loc[i,'BTC'] = df.iloc[i+1]['BTC']\n",
    "\n",
    "# df = df.drop(len(df.index)-1)\n",
    "# print(df)"
   ]
  },
  {
   "cell_type": "code",
   "execution_count": null,
   "id": "3e2edbd9-2407-4b77-9f12-160ffa1d65a0",
   "metadata": {},
   "outputs": [],
   "source": []
  },
  {
   "cell_type": "code",
   "execution_count": null,
   "id": "0c98d6c2-6d04-4785-bda8-dcaf1646b745",
   "metadata": {},
   "outputs": [],
   "source": [
    "\n"
   ]
  },
  {
   "cell_type": "code",
   "execution_count": null,
   "id": "97663f44-cce7-4140-9f37-b8dd58d514b4",
   "metadata": {},
   "outputs": [],
   "source": []
  },
  {
   "cell_type": "code",
   "execution_count": null,
   "id": "18c62342-68ac-4e4c-9592-5e85ffd54276",
   "metadata": {},
   "outputs": [],
   "source": [
    "X_train, X_test, y_train, y_test = train_test_split( X, y, test_size=0.2, random_state=4)\n",
    "print ('Train set:', X_train.shape,  y_train.shape)\n",
    "print ('Test set:', X_test.shape,  y_test.shape)"
   ]
  },
  {
   "cell_type": "code",
   "execution_count": null,
   "id": "5625236b-ecde-4cb3-85dc-dadb970c9c56",
   "metadata": {},
   "outputs": [],
   "source": [
    "mean_X_train=np.mean(X_train)\n",
    "std_X_train=np.std(X_train)\n",
    "X_train = (X_train - mean_X_train)/std_X_train\n",
    "\n",
    "\n",
    "mean_y_train=np.mean(y_train)\n",
    "std_y_train=np.std(y_train)\n",
    "y_train=(y_train-mean_y_train)/std_y_train\n",
    "y_train\n",
    "\n",
    "\n",
    "## apply same transformation to test data\n",
    "X_test = (X_test-mean_X_train)/std_X_train  # remove mean and standard deviation from test\n",
    "y_test = (y_test-mean_y_train)/std_y_train\n",
    "X_train"
   ]
  },
  {
   "cell_type": "code",
   "execution_count": null,
   "id": "dc8a26af-574c-4aa5-9749-c6da7cb1591e",
   "metadata": {},
   "outputs": [],
   "source": [
    "from sklearn import linear_model\n",
    "from sklearn.metrics import mean_squared_error, r2_score\n",
    "import math\n",
    "regr = linear_model.LinearRegression()\n",
    "regr.fit (X_train, y_train)\n",
    "print ('Intercept: %.2f' %regr.intercept_)\n",
    "print ('Coefficients: ', regr.coef_)\n",
    "y_hat_in = regr.predict(X_train)\n",
    "\n",
    "print(\"Coefficient of determination: %.2f\" % r2_score(y_train, y_hat_in))\n",
    "print(\"Residual sum of squares: %.3f\"\n",
    "      % np.mean((y_hat_in - y_train) ** 2))\n",
    "print(\"Root Mean Square (in-sample): %.3f\"\n",
    "      % math.sqrt(np.mean((y_hat_in - y_train)**2)))\n",
    "\n",
    "\n",
    "y_hat_out = regr.predict(X_test)\n",
    "print(\"Residual sum of squares: %.3f\"\n",
    "      % np.mean((y_hat_out - y_test) ** 2))\n",
    "print(\"Root Mean Square (in-sample): %.3f\"\n",
    "      % math.sqrt(np.mean((y_hat_out - y_test)**2)))"
   ]
  },
  {
   "cell_type": "code",
   "execution_count": null,
   "id": "0720256b-a6f3-4669-9c1e-409d6d7d2e16",
   "metadata": {},
   "outputs": [],
   "source": [
    "import matplotlib.pyplot as plt\n",
    "plt.plot(y_hat_out)\n",
    "plt.show()\n"
   ]
  },
  {
   "cell_type": "code",
   "execution_count": null,
   "id": "464ea49f-26b8-464d-88a4-23d4ced33811",
   "metadata": {},
   "outputs": [],
   "source": [
    "import seaborn as sns\n",
    "Oilprice_graph = sns.regplot(x='OilPrice', y='USDEUR', data = df , color = 'green')\n"
   ]
  },
  {
   "cell_type": "code",
   "execution_count": null,
   "id": "00d7a39e-256c-467e-9c39-dce5e44f54f1",
   "metadata": {},
   "outputs": [],
   "source": [
    " GBP_graph = sns.regplot(x='USDGBP', y='USDEUR', data = df , color = 'blue')"
   ]
  },
  {
   "cell_type": "code",
   "execution_count": null,
   "id": "a2edde53-3dc4-4107-a28b-761abfc255ff",
   "metadata": {},
   "outputs": [],
   "source": [
    "btc_graph = sns.regplot(x='BTC', y='USDEUR', data = df , color = 'purple')"
   ]
  },
  {
   "cell_type": "code",
   "execution_count": null,
   "id": "6a259044-b280-4c83-b1f0-7b6fa0901a80",
   "metadata": {},
   "outputs": [],
   "source": [
    "NGP_graph = sns.regplot(x='NaturalGasPrices', y='USDEUR', data = df , color = 'red')"
   ]
  },
  {
   "cell_type": "code",
   "execution_count": null,
   "id": "07a491e4-9634-4207-97ea-a9446ec0d8de",
   "metadata": {},
   "outputs": [],
   "source": [
    "Gold_graph = sns.regplot(x='Gold', y='USDEUR', data = df , color = 'orange')"
   ]
  },
  {
   "cell_type": "code",
   "execution_count": null,
   "id": "62eb8410-2931-42b4-b64f-d2af4ba2144a",
   "metadata": {},
   "outputs": [],
   "source": [
    "Dj_graph = sns.regplot(x='DowJones', y='USDEUR', data = df , color = 'brown')"
   ]
  },
  {
   "cell_type": "code",
   "execution_count": null,
   "id": "1f76b929-feea-4f45-8093-b25bde9d2b1c",
   "metadata": {},
   "outputs": [],
   "source": [
    "X_train, X_test, y_train, y_test = train_test_split( X, y, test_size=0.1, random_state=4)\n",
    "print ('Train set:', X_train.shape,  y_train.shape)\n",
    "print ('Test set:', X_test.shape,  y_test.shape)"
   ]
  },
  {
   "cell_type": "code",
   "execution_count": null,
   "id": "7a60e088-c390-4636-a4ab-ddbf244b13ff",
   "metadata": {},
   "outputs": [],
   "source": [
    "mean_X_train=np.mean(X_train)\n",
    "std_X_train=np.std(X_train)\n",
    "X_train = (X_train - mean_X_train)/std_X_train\n",
    "\n",
    "\n",
    "mean_y_train=np.mean(y_train)\n",
    "std_y_train=np.std(y_train)\n",
    "y_train=(y_train-mean_y_train)/std_y_train\n",
    "y_train\n",
    "\n",
    "\n",
    "## apply same transformation to test data\n",
    "X_test = (X_test-mean_X_train)/std_X_train  # remove mean and standard deviation from test\n",
    "y_test = (y_test-mean_y_train)/std_y_train\n",
    "X_train"
   ]
  },
  {
   "cell_type": "code",
   "execution_count": null,
   "id": "d9a74cd9-8d4b-42f4-9229-ff5ab2b0e75a",
   "metadata": {},
   "outputs": [],
   "source": [
    "from sklearn import linear_model\n",
    "from sklearn.metrics import mean_squared_error, r2_score\n",
    "import math\n",
    "regr = linear_model.LinearRegression()\n",
    "regr.fit (X_train, y_train)\n",
    "print ('Intercept: %.2f' %regr.intercept_)\n",
    "print ('Coefficients: ', regr.coef_)\n",
    "y_hat_in = regr.predict(X_train)\n",
    "\n",
    "print(\"Coefficient of determination: %.2f\" % r2_score(y_train, y_hat_in))\n",
    "print(\"Residual sum of squares: %.3f\"\n",
    "      % np.mean((y_hat_in - y_train) ** 2))\n",
    "print(\"Root Mean Square (in-sample): %.3f\"\n",
    "      % math.sqrt(np.mean((y_hat_in - y_train)**2)))\n",
    "\n",
    "\n",
    "y_hat_out = regr.predict(X_test)\n",
    "print(\"Residual sum of squares: %.3f\"\n",
    "      % np.mean((y_hat_out - y_test) ** 2))\n",
    "print(\"Root Mean Square (in-sample): %.3f\"\n",
    "      % math.sqrt(np.mean((y_hat_out - y_test)**2)))"
   ]
  },
  {
   "cell_type": "code",
   "execution_count": null,
   "id": "9cf6590a-c678-4a61-b4ec-4f05b5d1b984",
   "metadata": {},
   "outputs": [],
   "source": [
    "import matplotlib.pyplot as plt\n",
    "plt.plot(y_hat_out)\n",
    "plt.show()"
   ]
  },
  {
   "cell_type": "code",
   "execution_count": null,
   "id": "2298f70d-e4ba-4a6d-b542-829aec01540e",
   "metadata": {},
   "outputs": [],
   "source": []
  }
 ],
 "metadata": {
  "kernelspec": {
   "display_name": "Python 3 (ipykernel)",
   "language": "python",
   "name": "python3"
  },
  "language_info": {
   "codemirror_mode": {
    "name": "ipython",
    "version": 3
   },
   "file_extension": ".py",
   "mimetype": "text/x-python",
   "name": "python",
   "nbconvert_exporter": "python",
   "pygments_lexer": "ipython3",
   "version": "3.10.0"
  }
 },
 "nbformat": 4,
 "nbformat_minor": 5
}
