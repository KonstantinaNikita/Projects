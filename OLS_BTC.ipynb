{
 "cells": [
  {
   "cell_type": "code",
   "execution_count": 1,
   "id": "05568486-cc28-4174-9cce-6bca28f9c646",
   "metadata": {},
   "outputs": [
    {
     "name": "stdout",
     "output_type": "stream",
     "text": [
      "Requirement already satisfied: pandas in c:\\users\\kwnst\\appdata\\local\\programs\\python\\python310\\lib\\site-packages (1.3.5)\n",
      "Requirement already satisfied: python-dateutil>=2.7.3 in c:\\users\\kwnst\\appdata\\local\\programs\\python\\python310\\lib\\site-packages (from pandas) (2.8.2)\n",
      "Requirement already satisfied: pytz>=2017.3 in c:\\users\\kwnst\\appdata\\local\\programs\\python\\python310\\lib\\site-packages (from pandas) (2021.3)\n",
      "Requirement already satisfied: numpy>=1.21.0 in c:\\users\\kwnst\\appdata\\local\\programs\\python\\python310\\lib\\site-packages (from pandas) (1.22.0)\n",
      "Requirement already satisfied: six>=1.5 in c:\\users\\kwnst\\appdata\\local\\programs\\python\\python310\\lib\\site-packages (from python-dateutil>=2.7.3->pandas) (1.16.0)\n"
     ]
    },
    {
     "name": "stderr",
     "output_type": "stream",
     "text": [
      "WARNING: You are using pip version 21.2.3; however, version 22.2.2 is available.\n",
      "You should consider upgrading via the 'C:\\Users\\kwnst\\AppData\\Local\\Programs\\Python\\Python310\\python.exe -m pip install --upgrade pip' command.\n",
      "ERROR: Could not find a version that satisfies the requirement pylab (from versions: none)\n",
      "ERROR: No matching distribution found for pylab\n",
      "WARNING: You are using pip version 21.2.3; however, version 22.2.2 is available.\n",
      "You should consider upgrading via the 'C:\\Users\\kwnst\\AppData\\Local\\Programs\\Python\\Python310\\python.exe -m pip install --upgrade pip' command.\n"
     ]
    },
    {
     "name": "stdout",
     "output_type": "stream",
     "text": [
      "Requirement already satisfied: numpy in c:\\users\\kwnst\\appdata\\local\\programs\\python\\python310\\lib\\site-packages (1.22.0)\n"
     ]
    },
    {
     "name": "stderr",
     "output_type": "stream",
     "text": [
      "WARNING: You are using pip version 21.2.3; however, version 22.2.2 is available.\n",
      "You should consider upgrading via the 'C:\\Users\\kwnst\\AppData\\Local\\Programs\\Python\\Python310\\python.exe -m pip install --upgrade pip' command.\n"
     ]
    },
    {
     "name": "stdout",
     "output_type": "stream",
     "text": [
      "Requirement already satisfied: scipy in c:\\users\\kwnst\\appdata\\local\\programs\\python\\python310\\lib\\site-packages (1.8.0)\n",
      "Requirement already satisfied: numpy<1.25.0,>=1.17.3 in c:\\users\\kwnst\\appdata\\local\\programs\\python\\python310\\lib\\site-packages (from scipy) (1.22.0)\n"
     ]
    },
    {
     "name": "stderr",
     "output_type": "stream",
     "text": [
      "WARNING: You are using pip version 21.2.3; however, version 22.2.2 is available.\n",
      "You should consider upgrading via the 'C:\\Users\\kwnst\\AppData\\Local\\Programs\\Python\\Python310\\python.exe -m pip install --upgrade pip' command.\n"
     ]
    },
    {
     "name": "stdout",
     "output_type": "stream",
     "text": [
      "Requirement already satisfied: sklearn in c:\\users\\kwnst\\appdata\\local\\programs\\python\\python310\\lib\\site-packages (0.0)\n",
      "Requirement already satisfied: scikit-learn in c:\\users\\kwnst\\appdata\\local\\programs\\python\\python310\\lib\\site-packages (from sklearn) (1.0.2)\n",
      "Requirement already satisfied: scipy>=1.1.0 in c:\\users\\kwnst\\appdata\\local\\programs\\python\\python310\\lib\\site-packages (from scikit-learn->sklearn) (1.8.0)\n",
      "Requirement already satisfied: numpy>=1.14.6 in c:\\users\\kwnst\\appdata\\local\\programs\\python\\python310\\lib\\site-packages (from scikit-learn->sklearn) (1.22.0)\n",
      "Requirement already satisfied: threadpoolctl>=2.0.0 in c:\\users\\kwnst\\appdata\\local\\programs\\python\\python310\\lib\\site-packages (from scikit-learn->sklearn) (3.1.0)\n",
      "Requirement already satisfied: joblib>=0.11 in c:\\users\\kwnst\\appdata\\local\\programs\\python\\python310\\lib\\site-packages (from scikit-learn->sklearn) (1.1.0)\n"
     ]
    },
    {
     "name": "stderr",
     "output_type": "stream",
     "text": [
      "WARNING: You are using pip version 21.2.3; however, version 22.2.2 is available.\n",
      "You should consider upgrading via the 'C:\\Users\\kwnst\\AppData\\Local\\Programs\\Python\\Python310\\python.exe -m pip install --upgrade pip' command.\n"
     ]
    },
    {
     "name": "stdout",
     "output_type": "stream",
     "text": [
      "Requirement already satisfied: matplotlib in c:\\users\\kwnst\\appdata\\local\\programs\\python\\python310\\lib\\site-packages (3.5.1)\n",
      "Requirement already satisfied: kiwisolver>=1.0.1 in c:\\users\\kwnst\\appdata\\local\\programs\\python\\python310\\lib\\site-packages (from matplotlib) (1.3.2)\n",
      "Requirement already satisfied: pyparsing>=2.2.1 in c:\\users\\kwnst\\appdata\\local\\programs\\python\\python310\\lib\\site-packages (from matplotlib) (2.4.7)\n",
      "Requirement already satisfied: python-dateutil>=2.7 in c:\\users\\kwnst\\appdata\\local\\programs\\python\\python310\\lib\\site-packages (from matplotlib) (2.8.2)\n",
      "Requirement already satisfied: numpy>=1.17 in c:\\users\\kwnst\\appdata\\local\\programs\\python\\python310\\lib\\site-packages (from matplotlib) (1.22.0)\n",
      "Requirement already satisfied: fonttools>=4.22.0 in c:\\users\\kwnst\\appdata\\local\\programs\\python\\python310\\lib\\site-packages (from matplotlib) (4.28.5)\n",
      "Requirement already satisfied: packaging>=20.0 in c:\\users\\kwnst\\appdata\\local\\programs\\python\\python310\\lib\\site-packages (from matplotlib) (21.3)\n",
      "Requirement already satisfied: pillow>=6.2.0 in c:\\users\\kwnst\\appdata\\local\\programs\\python\\python310\\lib\\site-packages (from matplotlib) (9.0.0)\n",
      "Requirement already satisfied: cycler>=0.10 in c:\\users\\kwnst\\appdata\\local\\programs\\python\\python310\\lib\\site-packages (from matplotlib) (0.11.0)\n",
      "Requirement already satisfied: six>=1.5 in c:\\users\\kwnst\\appdata\\local\\programs\\python\\python310\\lib\\site-packages (from python-dateutil>=2.7->matplotlib) (1.16.0)\n"
     ]
    },
    {
     "name": "stderr",
     "output_type": "stream",
     "text": [
      "WARNING: You are using pip version 21.2.3; however, version 22.2.2 is available.\n",
      "You should consider upgrading via the 'C:\\Users\\kwnst\\AppData\\Local\\Programs\\Python\\Python310\\python.exe -m pip install --upgrade pip' command.\n"
     ]
    },
    {
     "name": "stdout",
     "output_type": "stream",
     "text": [
      "Requirement already satisfied: python-math in c:\\users\\kwnst\\appdata\\local\\programs\\python\\python310\\lib\\site-packages (0.0.1)\n"
     ]
    },
    {
     "name": "stderr",
     "output_type": "stream",
     "text": [
      "WARNING: You are using pip version 21.2.3; however, version 22.2.2 is available.\n",
      "You should consider upgrading via the 'C:\\Users\\kwnst\\AppData\\Local\\Programs\\Python\\Python310\\python.exe -m pip install --upgrade pip' command.\n"
     ]
    },
    {
     "name": "stdout",
     "output_type": "stream",
     "text": [
      "Requirement already satisfied: statsmodels in c:\\users\\kwnst\\appdata\\local\\programs\\python\\python310\\lib\\site-packages (0.13.2)"
     ]
    },
    {
     "name": "stderr",
     "output_type": "stream",
     "text": [
      "WARNING: You are using pip version 21.2.3; however, version 22.2.2 is available.\n"
     ]
    },
    {
     "name": "stdout",
     "output_type": "stream",
     "text": [
      "\n",
      "Requirement already satisfied: numpy>=1.17 in c:\\users\\kwnst\\appdata\\local\\programs\\python\\python310\\lib\\site-packages (from statsmodels) (1.22.0)\n",
      "Requirement already satisfied: scipy>=1.3 in c:\\users\\kwnst\\appdata\\local\\programs\\python\\python310\\lib\\site-packages (from statsmodels) (1.8.0)\n",
      "Requirement already satisfied: patsy>=0.5.2 in c:\\users\\kwnst\\appdata\\local\\programs\\python\\python310\\lib\\site-packages (from statsmodels) (0.5.2)\n",
      "Requirement already satisfied: pandas>=0.25 in c:\\users\\kwnst\\appdata\\local\\programs\\python\\python310\\lib\\site-packages (from statsmodels) (1.3.5)\n",
      "Requirement already satisfied: packaging>=21.3 in c:\\users\\kwnst\\appdata\\local\\programs\\python\\python310\\lib\\site-packages (from statsmodels) (21.3)\n",
      "Requirement already satisfied: pyparsing!=3.0.5,>=2.0.2 in c:\\users\\kwnst\\appdata\\local\\programs\\python\\python310\\lib\\site-packages (from packaging>=21.3->statsmodels) (2.4.7)\n",
      "Requirement already satisfied: python-dateutil>=2.7.3 in c:\\users\\kwnst\\appdata\\local\\programs\\python\\python310\\lib\\site-packages (from pandas>=0.25->statsmodels) (2.8.2)\n",
      "Requirement already satisfied: pytz>=2017.3 in c:\\users\\kwnst\\appdata\\local\\programs\\python\\python310\\lib\\site-packages (from pandas>=0.25->statsmodels) (2021.3)\n",
      "Requirement already satisfied: six in c:\\users\\kwnst\\appdata\\local\\programs\\python\\python310\\lib\\site-packages (from patsy>=0.5.2->statsmodels) (1.16.0)\n"
     ]
    },
    {
     "name": "stderr",
     "output_type": "stream",
     "text": [
      "You should consider upgrading via the 'C:\\Users\\kwnst\\AppData\\Local\\Programs\\Python\\Python310\\python.exe -m pip install --upgrade pip' command.\n"
     ]
    },
    {
     "name": "stdout",
     "output_type": "stream",
     "text": [
      "Requirement already satisfied: plotly in c:\\users\\kwnst\\appdata\\local\\programs\\python\\python310\\lib\\site-packages (5.8.0)"
     ]
    },
    {
     "name": "stderr",
     "output_type": "stream",
     "text": [
      "WARNING: You are using pip version 21.2.3; however, version 22.2.2 is available.\n",
      "You should consider upgrading via the 'C:\\Users\\kwnst\\AppData\\Local\\Programs\\Python\\Python310\\python.exe -m pip install --upgrade pip' command.\n"
     ]
    },
    {
     "name": "stdout",
     "output_type": "stream",
     "text": [
      "\n",
      "Requirement already satisfied: tenacity>=6.2.0 in c:\\users\\kwnst\\appdata\\local\\programs\\python\\python310\\lib\\site-packages (from plotly) (8.0.1)\n"
     ]
    }
   ],
   "source": [
    "!pip install pandas\n",
    "!pip install pylab\n",
    "!pip install numpy\n",
    "!pip install scipy\n",
    "!pip install sklearn\n",
    "!pip install matplotlib\n",
    "!pip install python-math\n",
    "!pip install statsmodels\n",
    "!pip install plotly"
   ]
  },
  {
   "cell_type": "code",
   "execution_count": 2,
   "id": "82dabf4c-55ea-4da2-889a-db55fa24c7f6",
   "metadata": {},
   "outputs": [],
   "source": [
    "import pandas as pd\n",
    "import pylab as pl\n",
    "import numpy as np\n",
    "import scipy.optimize as opt\n",
    "from sklearn import preprocessing\n",
    "from sklearn.model_selection import train_test_split\n",
    "%matplotlib inline \n",
    "import matplotlib.pyplot as plt\n",
    "import math"
   ]
  },
  {
   "cell_type": "code",
   "execution_count": 3,
   "id": "dbb6d443-88b7-4e8b-8de0-6a7ec85d12a0",
   "metadata": {},
   "outputs": [
    {
     "data": {
      "text/html": [
       "<div>\n",
       "<style scoped>\n",
       "    .dataframe tbody tr th:only-of-type {\n",
       "        vertical-align: middle;\n",
       "    }\n",
       "\n",
       "    .dataframe tbody tr th {\n",
       "        vertical-align: top;\n",
       "    }\n",
       "\n",
       "    .dataframe thead th {\n",
       "        text-align: right;\n",
       "    }\n",
       "</style>\n",
       "<table border=\"1\" class=\"dataframe\">\n",
       "  <thead>\n",
       "    <tr style=\"text-align: right;\">\n",
       "      <th></th>\n",
       "      <th>Date</th>\n",
       "      <th>eur/usd</th>\n",
       "      <th>gbp/usb</th>\n",
       "      <th>yen/usd</th>\n",
       "      <th>BTC</th>\n",
       "    </tr>\n",
       "  </thead>\n",
       "  <tbody>\n",
       "    <tr>\n",
       "      <th>0</th>\n",
       "      <td>2022-01-09</td>\n",
       "      <td>0.9609</td>\n",
       "      <td>1.0778</td>\n",
       "      <td>144.73</td>\n",
       "      <td>19110.5</td>\n",
       "    </tr>\n",
       "    <tr>\n",
       "      <th>1</th>\n",
       "      <td>2022-01-08</td>\n",
       "      <td>1.0057</td>\n",
       "      <td>1.1622</td>\n",
       "      <td>138.96</td>\n",
       "      <td>20043.9</td>\n",
       "    </tr>\n",
       "    <tr>\n",
       "      <th>2</th>\n",
       "      <td>2022-01-07</td>\n",
       "      <td>1.0218</td>\n",
       "      <td>1.2166</td>\n",
       "      <td>133.19</td>\n",
       "      <td>23303.4</td>\n",
       "    </tr>\n",
       "    <tr>\n",
       "      <th>3</th>\n",
       "      <td>2022-01-06</td>\n",
       "      <td>1.0482</td>\n",
       "      <td>1.2175</td>\n",
       "      <td>135.73</td>\n",
       "      <td>19926.6</td>\n",
       "    </tr>\n",
       "    <tr>\n",
       "      <th>4</th>\n",
       "      <td>2022-01-05</td>\n",
       "      <td>1.0733</td>\n",
       "      <td>1.2600</td>\n",
       "      <td>128.68</td>\n",
       "      <td>31793.4</td>\n",
       "    </tr>\n",
       "    <tr>\n",
       "      <th>5</th>\n",
       "      <td>2022-01-04</td>\n",
       "      <td>1.0541</td>\n",
       "      <td>1.2571</td>\n",
       "      <td>129.83</td>\n",
       "      <td>37650.0</td>\n",
       "    </tr>\n",
       "    <tr>\n",
       "      <th>6</th>\n",
       "      <td>2022-01-03</td>\n",
       "      <td>1.1065</td>\n",
       "      <td>1.3133</td>\n",
       "      <td>121.66</td>\n",
       "      <td>45525.0</td>\n",
       "    </tr>\n",
       "    <tr>\n",
       "      <th>7</th>\n",
       "      <td>2022-01-02</td>\n",
       "      <td>1.1219</td>\n",
       "      <td>1.3419</td>\n",
       "      <td>114.99</td>\n",
       "      <td>43188.2</td>\n",
       "    </tr>\n",
       "    <tr>\n",
       "      <th>8</th>\n",
       "      <td>2022-01-01</td>\n",
       "      <td>1.1233</td>\n",
       "      <td>1.3445</td>\n",
       "      <td>115.10</td>\n",
       "      <td>38498.6</td>\n",
       "    </tr>\n",
       "    <tr>\n",
       "      <th>9</th>\n",
       "      <td>2021-01-12</td>\n",
       "      <td>1.1368</td>\n",
       "      <td>1.3529</td>\n",
       "      <td>115.08</td>\n",
       "      <td>46219.5</td>\n",
       "    </tr>\n",
       "  </tbody>\n",
       "</table>\n",
       "</div>"
      ],
      "text/plain": [
       "        Date  eur/usd  gbp/usb  yen/usd      BTC\n",
       "0 2022-01-09   0.9609   1.0778   144.73  19110.5\n",
       "1 2022-01-08   1.0057   1.1622   138.96  20043.9\n",
       "2 2022-01-07   1.0218   1.2166   133.19  23303.4\n",
       "3 2022-01-06   1.0482   1.2175   135.73  19926.6\n",
       "4 2022-01-05   1.0733   1.2600   128.68  31793.4\n",
       "5 2022-01-04   1.0541   1.2571   129.83  37650.0\n",
       "6 2022-01-03   1.1065   1.3133   121.66  45525.0\n",
       "7 2022-01-02   1.1219   1.3419   114.99  43188.2\n",
       "8 2022-01-01   1.1233   1.3445   115.10  38498.6\n",
       "9 2021-01-12   1.1368   1.3529   115.08  46219.5"
      ]
     },
     "execution_count": 3,
     "metadata": {},
     "output_type": "execute_result"
    }
   ],
   "source": [
    "df = pd.read_excel(\"bitcoin.xlsx\")\n",
    "df.head(10)"
   ]
  },
  {
   "cell_type": "code",
   "execution_count": 4,
   "id": "d5c44dda-abc9-4d1b-98aa-f037c89088fd",
   "metadata": {},
   "outputs": [
    {
     "data": {
      "text/plain": [
       "array([<AxesSubplot:ylabel='Density'>], dtype=object)"
      ]
     },
     "execution_count": 4,
     "metadata": {},
     "output_type": "execute_result"
    },
    {
     "data": {
      "image/png": "[encoded data removed]",
      "text/plain": [
       "<Figure size 720x432 with 1 Axes>"
      ]
     },
     "metadata": {
      "needs_background": "light"
     },
     "output_type": "display_data"
    }
   ],
   "source": [
    "df['BTC'].plot(kind = 'kde', subplots = True , figsize = (10,6))"
   ]
  },
  {
   "cell_type": "code",
   "execution_count": 5,
   "id": "b2ca8510-5cdd-4d82-8b8c-a1d0e80d297e",
   "metadata": {},
   "outputs": [
    {
     "data": {
      "text/plain": [
       "array([<AxesSubplot:>], dtype=object)"
      ]
     },
     "execution_count": 5,
     "metadata": {},
     "output_type": "execute_result"
    },
    {
     "data": {
      "image/png": "[encoded data removed]",
      "text/plain": [
       "<Figure size 720x432 with 1 Axes>"
      ]
     },
     "metadata": {
      "needs_background": "light"
     },
     "output_type": "display_data"
    }
   ],
   "source": [
    "df['eur/usd'].plot(subplots = True , figsize = (10,6))"
   ]
  },
  {
   "cell_type": "code",
   "execution_count": 7,
   "id": "99fcb1b3-83af-4466-842b-82cc0f0f8900",
   "metadata": {},
   "outputs": [
    {
     "data": {
      "text/plain": [
       "array([<AxesSubplot:>], dtype=object)"
      ]
     },
     "execution_count": 7,
     "metadata": {},
     "output_type": "execute_result"
    },
    {
     "data": {
      "image/png": "[encoded data removed]",
      "text/plain": [
       "<Figure size 720x432 with 1 Axes>"
      ]
     },
     "metadata": {
      "needs_background": "light"
     },
     "output_type": "display_data"
    }
   ],
   "source": [
    "df['gbp/usb'].plot(subplots = True , figsize = (10,6))\n"
   ]
  },
  {
   "cell_type": "code",
   "execution_count": 8,
   "id": "2cb3550a-5e93-4fe3-bced-3ed1d24f0077",
   "metadata": {},
   "outputs": [
    {
     "data": {
      "text/plain": [
       "array([<AxesSubplot:>], dtype=object)"
      ]
     },
     "execution_count": 8,
     "metadata": {},
     "output_type": "execute_result"
    },
    {
     "data": {
      "image/png": "[encoded data removed]",
      "text/plain": [
       "<Figure size 720x432 with 1 Axes>"
      ]
     },
     "metadata": {
      "needs_background": "light"
     },
     "output_type": "display_data"
    }
   ],
   "source": [
    "df['yen/usd'].plot(subplots = True , figsize = (10,6))"
   ]
  },
  {
   "cell_type": "code",
   "execution_count": 6,
   "id": "7cf50989-87d5-4ee4-879e-a2355d5d1cc4",
   "metadata": {},
   "outputs": [],
   "source": [
    "X = df.copy()\n",
    "X = X.drop(columns=['BTC', 'Date'])\n",
    "\n",
    "y = df['BTC'].copy()"
   ]
  },
  {
   "cell_type": "code",
   "execution_count": 7,
   "id": "8031f5b8-668b-4265-88a3-b81af1827b38",
   "metadata": {},
   "outputs": [
    {
     "name": "stdout",
     "output_type": "stream",
     "text": [
      "Train set: (35, 3) (35,)\n",
      "Test set: (9, 3) (9,)\n"
     ]
    }
   ],
   "source": [
    "X_train, X_test, y_train, y_test = train_test_split( X, y, test_size=0.2, random_state=4)\n",
    "print ('Train set:', X_train.shape,  y_train.shape)\n",
    "print ('Test set:', X_test.shape,  y_test.shape)"
   ]
  },
  {
   "cell_type": "code",
   "execution_count": 8,
   "id": "97ce02da-071c-4209-9c11-74d1e8382d8a",
   "metadata": {},
   "outputs": [
    {
     "data": {
      "text/html": [
       "<div>\n",
       "<style scoped>\n",
       "    .dataframe tbody tr th:only-of-type {\n",
       "        vertical-align: middle;\n",
       "    }\n",
       "\n",
       "    .dataframe tbody tr th {\n",
       "        vertical-align: top;\n",
       "    }\n",
       "\n",
       "    .dataframe thead th {\n",
       "        text-align: right;\n",
       "    }\n",
       "</style>\n",
       "<table border=\"1\" class=\"dataframe\">\n",
       "  <thead>\n",
       "    <tr style=\"text-align: right;\">\n",
       "      <th></th>\n",
       "      <th>eur/usd</th>\n",
       "      <th>gbp/usb</th>\n",
       "      <th>yen/usd</th>\n",
       "    </tr>\n",
       "  </thead>\n",
       "  <tbody>\n",
       "    <tr>\n",
       "      <th>11</th>\n",
       "      <td>0.542532</td>\n",
       "      <td>1.151556</td>\n",
       "      <td>0.097920</td>\n",
       "    </tr>\n",
       "    <tr>\n",
       "      <th>27</th>\n",
       "      <td>-0.030985</td>\n",
       "      <td>-0.769757</td>\n",
       "      <td>-0.486413</td>\n",
       "    </tr>\n",
       "    <tr>\n",
       "      <th>35</th>\n",
       "      <td>-0.171757</td>\n",
       "      <td>0.034755</td>\n",
       "      <td>-0.476802</td>\n",
       "    </tr>\n",
       "    <tr>\n",
       "      <th>12</th>\n",
       "      <td>0.577290</td>\n",
       "      <td>0.825884</td>\n",
       "      <td>-0.164453</td>\n",
       "    </tr>\n",
       "    <tr>\n",
       "      <th>22</th>\n",
       "      <td>1.180352</td>\n",
       "      <td>0.601334</td>\n",
       "      <td>-0.837205</td>\n",
       "    </tr>\n",
       "    <tr>\n",
       "      <th>25</th>\n",
       "      <td>1.194255</td>\n",
       "      <td>0.672715</td>\n",
       "      <td>-0.681511</td>\n",
       "    </tr>\n",
       "    <tr>\n",
       "      <th>20</th>\n",
       "      <td>1.541841</td>\n",
       "      <td>1.167914</td>\n",
       "      <td>-0.797801</td>\n",
       "    </tr>\n",
       "    <tr>\n",
       "      <th>42</th>\n",
       "      <td>-0.055316</td>\n",
       "      <td>0.170080</td>\n",
       "      <td>-0.205780</td>\n",
       "    </tr>\n",
       "    <tr>\n",
       "      <th>13</th>\n",
       "      <td>0.970062</td>\n",
       "      <td>1.245242</td>\n",
       "      <td>-0.284588</td>\n",
       "    </tr>\n",
       "    <tr>\n",
       "      <th>10</th>\n",
       "      <td>0.151498</td>\n",
       "      <td>0.562670</td>\n",
       "      <td>0.014306</td>\n",
       "    </tr>\n",
       "    <tr>\n",
       "      <th>41</th>\n",
       "      <td>-0.058792</td>\n",
       "      <td>0.170080</td>\n",
       "      <td>-0.150998</td>\n",
       "    </tr>\n",
       "    <tr>\n",
       "      <th>34</th>\n",
       "      <td>-0.406377</td>\n",
       "      <td>0.024346</td>\n",
       "      <td>-0.333602</td>\n",
       "    </tr>\n",
       "    <tr>\n",
       "      <th>26</th>\n",
       "      <td>0.912711</td>\n",
       "      <td>0.254844</td>\n",
       "      <td>-0.682472</td>\n",
       "    </tr>\n",
       "    <tr>\n",
       "      <th>17</th>\n",
       "      <td>1.336765</td>\n",
       "      <td>1.334467</td>\n",
       "      <td>-0.356668</td>\n",
       "    </tr>\n",
       "    <tr>\n",
       "      <th>39</th>\n",
       "      <td>0.207111</td>\n",
       "      <td>-0.332555</td>\n",
       "      <td>-0.490258</td>\n",
       "    </tr>\n",
       "    <tr>\n",
       "      <th>32</th>\n",
       "      <td>-0.270819</td>\n",
       "      <td>0.419910</td>\n",
       "      <td>-0.442204</td>\n",
       "    </tr>\n",
       "    <tr>\n",
       "      <th>14</th>\n",
       "      <td>1.079552</td>\n",
       "      <td>1.463844</td>\n",
       "      <td>-0.315342</td>\n",
       "    </tr>\n",
       "    <tr>\n",
       "      <th>2</th>\n",
       "      <td>-1.791507</td>\n",
       "      <td>-1.116248</td>\n",
       "      <td>1.942220</td>\n",
       "    </tr>\n",
       "    <tr>\n",
       "      <th>24</th>\n",
       "      <td>0.815387</td>\n",
       "      <td>-0.000935</td>\n",
       "      <td>-0.723798</td>\n",
       "    </tr>\n",
       "    <tr>\n",
       "      <th>37</th>\n",
       "      <td>-0.451564</td>\n",
       "      <td>-1.131119</td>\n",
       "      <td>-0.643068</td>\n",
       "    </tr>\n",
       "    <tr>\n",
       "      <th>29</th>\n",
       "      <td>-0.510653</td>\n",
       "      <td>-0.482750</td>\n",
       "      <td>-0.558494</td>\n",
       "    </tr>\n",
       "    <tr>\n",
       "      <th>6</th>\n",
       "      <td>-0.319481</td>\n",
       "      <td>0.321763</td>\n",
       "      <td>0.834102</td>\n",
       "    </tr>\n",
       "    <tr>\n",
       "      <th>38</th>\n",
       "      <td>-0.303840</td>\n",
       "      <td>-1.129632</td>\n",
       "      <td>-0.407605</td>\n",
       "    </tr>\n",
       "    <tr>\n",
       "      <th>33</th>\n",
       "      <td>-0.067481</td>\n",
       "      <td>0.509135</td>\n",
       "      <td>-0.420099</td>\n",
       "    </tr>\n",
       "    <tr>\n",
       "      <th>21</th>\n",
       "      <td>1.675661</td>\n",
       "      <td>1.124788</td>\n",
       "      <td>-0.936196</td>\n",
       "    </tr>\n",
       "    <tr>\n",
       "      <th>0</th>\n",
       "      <td>-2.849905</td>\n",
       "      <td>-3.180321</td>\n",
       "      <td>3.051300</td>\n",
       "    </tr>\n",
       "    <tr>\n",
       "      <th>3</th>\n",
       "      <td>-1.332693</td>\n",
       "      <td>-1.102864</td>\n",
       "      <td>2.186333</td>\n",
       "    </tr>\n",
       "    <tr>\n",
       "      <th>36</th>\n",
       "      <td>-0.609715</td>\n",
       "      <td>-0.936311</td>\n",
       "      <td>-0.472958</td>\n",
       "    </tr>\n",
       "    <tr>\n",
       "      <th>30</th>\n",
       "      <td>-0.382046</td>\n",
       "      <td>-0.741503</td>\n",
       "      <td>-0.523895</td>\n",
       "    </tr>\n",
       "    <tr>\n",
       "      <th>9</th>\n",
       "      <td>0.207111</td>\n",
       "      <td>0.910648</td>\n",
       "      <td>0.201716</td>\n",
       "    </tr>\n",
       "    <tr>\n",
       "      <th>8</th>\n",
       "      <td>-0.027509</td>\n",
       "      <td>0.785733</td>\n",
       "      <td>0.203638</td>\n",
       "    </tr>\n",
       "    <tr>\n",
       "      <th>23</th>\n",
       "      <td>0.691994</td>\n",
       "      <td>0.036242</td>\n",
       "      <td>-0.801645</td>\n",
       "    </tr>\n",
       "    <tr>\n",
       "      <th>40</th>\n",
       "      <td>-0.142212</td>\n",
       "      <td>-0.424754</td>\n",
       "      <td>-0.453737</td>\n",
       "    </tr>\n",
       "    <tr>\n",
       "      <th>1</th>\n",
       "      <td>-2.071313</td>\n",
       "      <td>-1.925222</td>\n",
       "      <td>2.496760</td>\n",
       "    </tr>\n",
       "    <tr>\n",
       "      <th>5</th>\n",
       "      <td>-1.230156</td>\n",
       "      <td>-0.513979</td>\n",
       "      <td>1.619300</td>\n",
       "    </tr>\n",
       "  </tbody>\n",
       "</table>\n",
       "</div>"
      ],
      "text/plain": [
       "     eur/usd   gbp/usb   yen/usd\n",
       "11  0.542532  1.151556  0.097920\n",
       "27 -0.030985 -0.769757 -0.486413\n",
       "35 -0.171757  0.034755 -0.476802\n",
       "12  0.577290  0.825884 -0.164453\n",
       "22  1.180352  0.601334 -0.837205\n",
       "25  1.194255  0.672715 -0.681511\n",
       "20  1.541841  1.167914 -0.797801\n",
       "42 -0.055316  0.170080 -0.205780\n",
       "13  0.970062  1.245242 -0.284588\n",
       "10  0.151498  0.562670  0.014306\n",
       "41 -0.058792  0.170080 -0.150998\n",
       "34 -0.406377  0.024346 -0.333602\n",
       "26  0.912711  0.254844 -0.682472\n",
       "17  1.336765  1.334467 -0.356668\n",
       "39  0.207111 -0.332555 -0.490258\n",
       "32 -0.270819  0.419910 -0.442204\n",
       "14  1.079552  1.463844 -0.315342\n",
       "2  -1.791507 -1.116248  1.942220\n",
       "24  0.815387 -0.000935 -0.723798\n",
       "37 -0.451564 -1.131119 -0.643068\n",
       "29 -0.510653 -0.482750 -0.558494\n",
       "6  -0.319481  0.321763  0.834102\n",
       "38 -0.303840 -1.129632 -0.407605\n",
       "33 -0.067481  0.509135 -0.420099\n",
       "21  1.675661  1.124788 -0.936196\n",
       "0  -2.849905 -3.180321  3.051300\n",
       "3  -1.332693 -1.102864  2.186333\n",
       "36 -0.609715 -0.936311 -0.472958\n",
       "30 -0.382046 -0.741503 -0.523895\n",
       "9   0.207111  0.910648  0.201716\n",
       "8  -0.027509  0.785733  0.203638\n",
       "23  0.691994  0.036242 -0.801645\n",
       "40 -0.142212 -0.424754 -0.453737\n",
       "1  -2.071313 -1.925222  2.496760\n",
       "5  -1.230156 -0.513979  1.619300"
      ]
     },
     "execution_count": 8,
     "metadata": {},
     "output_type": "execute_result"
    }
   ],
   "source": [
    "mean_X_train=np.mean(X_train)\n",
    "std_X_train=np.std(X_train)\n",
    "X_train = (X_train - mean_X_train)/std_X_train\n",
    "\n",
    "\n",
    "mean_y_train=np.mean(y_train)\n",
    "std_y_train=np.std(y_train)\n",
    "y_train=(y_train-mean_y_train)/std_y_train\n",
    "y_train\n",
    "\n",
    "\n",
    "## apply same transformation to test data\n",
    "X_test = (X_test-mean_X_train)/std_X_train  # remove mean and standard deviation from test\n",
    "y_test = (y_test-mean_y_train)/std_y_train\n",
    "X_train"
   ]
  },
  {
   "cell_type": "code",
   "execution_count": 9,
   "id": "7c68a5ef-e198-4f25-b604-d942f868373b",
   "metadata": {},
   "outputs": [
    {
     "name": "stdout",
     "output_type": "stream",
     "text": [
      "Intercept: -0.00\n",
      "Coefficients:  [0.36660008 0.75860203 0.93879224]\n",
      "Coefficient of determination: 0.65\n",
      "Residual sum of squares: 0.352\n",
      "Root Mean Square (in-sample): 0.593\n",
      "Residual sum of squares: 0.521\n",
      "Root Mean Square (in-sample): 0.722\n"
     ]
    }
   ],
   "source": [
    "from sklearn import linear_model\n",
    "from sklearn.metrics import mean_squared_error, r2_score\n",
    "import math\n",
    "regr = linear_model.LinearRegression()\n",
    "regr.fit (X_train, y_train)\n",
    "print ('Intercept: %.2f' %regr.intercept_)\n",
    "print ('Coefficients: ', regr.coef_)\n",
    "y_hat_in = regr.predict(X_train)\n",
    "\n",
    "print(\"Coefficient of determination: %.2f\" % r2_score(y_train, y_hat_in))\n",
    "print(\"Residual sum of squares: %.3f\"\n",
    "      % np.mean((y_hat_in - y_train) ** 2))\n",
    "print(\"Root Mean Square (in-sample): %.3f\"\n",
    "      % math.sqrt(np.mean((y_hat_in - y_train)**2)))\n",
    "\n",
    "\n",
    "y_hat_out = regr.predict(X_test)\n",
    "print(\"Residual sum of squares: %.3f\"\n",
    "      % np.mean((y_hat_out - y_test) ** 2))\n",
    "print(\"Root Mean Square (in-sample): %.3f\"\n",
    "      % math.sqrt(np.mean((y_hat_out - y_test)**2)))"
   ]
  },
  {
   "cell_type": "code",
   "execution_count": 15,
   "id": "3f4f2634-52e5-4d6d-9266-1af5e50c8b89",
   "metadata": {},
   "outputs": [
    {
     "data": {
      "image/png": "[encoded data removed]",
      "text/plain": [
       "<Figure size 432x288 with 1 Axes>"
      ]
     },
     "metadata": {
      "needs_background": "light"
     },
     "output_type": "display_data"
    }
   ],
   "source": [
    "import matplotlib.pyplot as plt\n",
    "plt.plot(y_hat_out)\n",
    "plt.show()\n"
   ]
  },
  {
   "cell_type": "code",
   "execution_count": 10,
   "id": "2f8d1214-0610-401b-8d1a-2e67bfa28c10",
   "metadata": {},
   "outputs": [
    {
     "data": {
      "image/png": "[encoded data removed]",
      "text/plain": [
       "<Figure size 432x288 with 1 Axes>"
      ]
     },
     "metadata": {
      "needs_background": "light"
     },
     "output_type": "display_data"
    }
   ],
   "source": [
    "import seaborn as sns\n",
    "Oilprice_graph = sns.regplot(x='eur/usd', y='BTC', data = df , color = 'green')\n"
   ]
  },
  {
   "cell_type": "code",
   "execution_count": 11,
   "id": "fe17d9e5-3204-4eda-a281-dd191eccd89f",
   "metadata": {},
   "outputs": [
    {
     "data": {
      "image/png": "[encoded data removed]",
      "text/plain": [
       "<Figure size 432x288 with 1 Axes>"
      ]
     },
     "metadata": {
      "needs_background": "light"
     },
     "output_type": "display_data"
    }
   ],
   "source": [
    "btc_graph = sns.regplot(x='gbp/usb', y='BTC', data = df , color = 'purple')"
   ]
  },
  {
   "cell_type": "code",
   "execution_count": 13,
   "id": "3f391079-8c65-4abc-9980-3d4886a3a89a",
   "metadata": {},
   "outputs": [
    {
     "data": {
      "image/png": "[encoded data removed]",
      "text/plain": [
       "<Figure size 432x288 with 1 Axes>"
      ]
     },
     "metadata": {
      "needs_background": "light"
     },
     "output_type": "display_data"
    }
   ],
   "source": [
    " GBP_graph = sns.regplot(x='yen/usd', y='BTC', data = df , color = 'blue')"
   ]
  },
  {
   "cell_type": "code",
   "execution_count": 19,
   "id": "9976795b-c6d3-4cf0-bd8d-9645b6621168",
   "metadata": {},
   "outputs": [
    {
     "name": "stdout",
     "output_type": "stream",
     "text": [
      "Train set: (39, 3) (39,)\n",
      "Test set: (5, 3) (5,)\n"
     ]
    }
   ],
   "source": [
    "X_train, X_test, y_train, y_test = train_test_split( X, y, test_size=0.1, random_state=4)\n",
    "print ('Train set:', X_train.shape,  y_train.shape)\n",
    "print ('Test set:', X_test.shape,  y_test.shape)"
   ]
  },
  {
   "cell_type": "code",
   "execution_count": 20,
   "id": "2f095393-f9c1-4c4e-b8da-4b25e2b7b96b",
   "metadata": {},
   "outputs": [
    {
     "data": {
      "text/html": [
       "<div>\n",
       "<style scoped>\n",
       "    .dataframe tbody tr th:only-of-type {\n",
       "        vertical-align: middle;\n",
       "    }\n",
       "\n",
       "    .dataframe tbody tr th {\n",
       "        vertical-align: top;\n",
       "    }\n",
       "\n",
       "    .dataframe thead th {\n",
       "        text-align: right;\n",
       "    }\n",
       "</style>\n",
       "<table border=\"1\" class=\"dataframe\">\n",
       "  <thead>\n",
       "    <tr style=\"text-align: right;\">\n",
       "      <th></th>\n",
       "      <th>eur/usd</th>\n",
       "      <th>gbp/usb</th>\n",
       "      <th>yen/usd</th>\n",
       "    </tr>\n",
       "  </thead>\n",
       "  <tbody>\n",
       "    <tr>\n",
       "      <th>19</th>\n",
       "      <td>1.313104</td>\n",
       "      <td>1.313659</td>\n",
       "      <td>-0.618260</td>\n",
       "    </tr>\n",
       "    <tr>\n",
       "      <th>16</th>\n",
       "      <td>1.571461</td>\n",
       "      <td>1.708668</td>\n",
       "      <td>-0.320293</td>\n",
       "    </tr>\n",
       "    <tr>\n",
       "      <th>7</th>\n",
       "      <td>-0.149776</td>\n",
       "      <td>0.582110</td>\n",
       "      <td>0.228327</td>\n",
       "    </tr>\n",
       "    <tr>\n",
       "      <th>18</th>\n",
       "      <td>0.721108</td>\n",
       "      <td>1.095478</td>\n",
       "      <td>-0.203523</td>\n",
       "    </tr>\n",
       "    <tr>\n",
       "      <th>11</th>\n",
       "      <td>0.435376</td>\n",
       "      <td>0.969988</td>\n",
       "      <td>0.128670</td>\n",
       "    </tr>\n",
       "    <tr>\n",
       "      <th>27</th>\n",
       "      <td>-0.129244</td>\n",
       "      <td>-0.872433</td>\n",
       "      <td>-0.483370</td>\n",
       "    </tr>\n",
       "    <tr>\n",
       "      <th>35</th>\n",
       "      <td>-0.267833</td>\n",
       "      <td>-0.100955</td>\n",
       "      <td>-0.473303</td>\n",
       "    </tr>\n",
       "    <tr>\n",
       "      <th>12</th>\n",
       "      <td>0.469596</td>\n",
       "      <td>0.657689</td>\n",
       "      <td>-0.146144</td>\n",
       "    </tr>\n",
       "    <tr>\n",
       "      <th>22</th>\n",
       "      <td>1.063302</td>\n",
       "      <td>0.442360</td>\n",
       "      <td>-0.850794</td>\n",
       "    </tr>\n",
       "    <tr>\n",
       "      <th>25</th>\n",
       "      <td>1.076990</td>\n",
       "      <td>0.510809</td>\n",
       "      <td>-0.687718</td>\n",
       "    </tr>\n",
       "    <tr>\n",
       "      <th>20</th>\n",
       "      <td>1.419184</td>\n",
       "      <td>0.985674</td>\n",
       "      <td>-0.809522</td>\n",
       "    </tr>\n",
       "    <tr>\n",
       "      <th>42</th>\n",
       "      <td>-0.153198</td>\n",
       "      <td>0.028813</td>\n",
       "      <td>-0.189430</td>\n",
       "    </tr>\n",
       "    <tr>\n",
       "      <th>13</th>\n",
       "      <td>0.856275</td>\n",
       "      <td>1.059827</td>\n",
       "      <td>-0.271974</td>\n",
       "    </tr>\n",
       "    <tr>\n",
       "      <th>10</th>\n",
       "      <td>0.050408</td>\n",
       "      <td>0.405283</td>\n",
       "      <td>0.041092</td>\n",
       "    </tr>\n",
       "    <tr>\n",
       "      <th>41</th>\n",
       "      <td>-0.156620</td>\n",
       "      <td>0.028813</td>\n",
       "      <td>-0.132051</td>\n",
       "    </tr>\n",
       "    <tr>\n",
       "      <th>34</th>\n",
       "      <td>-0.498814</td>\n",
       "      <td>-0.110937</td>\n",
       "      <td>-0.323313</td>\n",
       "    </tr>\n",
       "    <tr>\n",
       "      <th>26</th>\n",
       "      <td>0.799813</td>\n",
       "      <td>0.110096</td>\n",
       "      <td>-0.688725</td>\n",
       "    </tr>\n",
       "    <tr>\n",
       "      <th>17</th>\n",
       "      <td>1.217290</td>\n",
       "      <td>1.145389</td>\n",
       "      <td>-0.347473</td>\n",
       "    </tr>\n",
       "    <tr>\n",
       "      <th>39</th>\n",
       "      <td>0.105159</td>\n",
       "      <td>-0.453183</td>\n",
       "      <td>-0.487396</td>\n",
       "    </tr>\n",
       "    <tr>\n",
       "      <th>32</th>\n",
       "      <td>-0.365358</td>\n",
       "      <td>0.268385</td>\n",
       "      <td>-0.437064</td>\n",
       "    </tr>\n",
       "    <tr>\n",
       "      <th>14</th>\n",
       "      <td>0.964066</td>\n",
       "      <td>1.269453</td>\n",
       "      <td>-0.304187</td>\n",
       "    </tr>\n",
       "    <tr>\n",
       "      <th>2</th>\n",
       "      <td>-1.862457</td>\n",
       "      <td>-1.204697</td>\n",
       "      <td>2.060419</td>\n",
       "    </tr>\n",
       "    <tr>\n",
       "      <th>24</th>\n",
       "      <td>0.703999</td>\n",
       "      <td>-0.135180</td>\n",
       "      <td>-0.732010</td>\n",
       "    </tr>\n",
       "    <tr>\n",
       "      <th>37</th>\n",
       "      <td>-0.543299</td>\n",
       "      <td>-1.218957</td>\n",
       "      <td>-0.647452</td>\n",
       "    </tr>\n",
       "    <tr>\n",
       "      <th>29</th>\n",
       "      <td>-0.601472</td>\n",
       "      <td>-0.597211</td>\n",
       "      <td>-0.558868</td>\n",
       "    </tr>\n",
       "    <tr>\n",
       "      <th>6</th>\n",
       "      <td>-0.413265</td>\n",
       "      <td>0.174267</td>\n",
       "      <td>0.899759</td>\n",
       "    </tr>\n",
       "    <tr>\n",
       "      <th>38</th>\n",
       "      <td>-0.397866</td>\n",
       "      <td>-1.217531</td>\n",
       "      <td>-0.400825</td>\n",
       "    </tr>\n",
       "    <tr>\n",
       "      <th>33</th>\n",
       "      <td>-0.165174</td>\n",
       "      <td>0.353946</td>\n",
       "      <td>-0.413911</td>\n",
       "    </tr>\n",
       "    <tr>\n",
       "      <th>21</th>\n",
       "      <td>1.550929</td>\n",
       "      <td>0.944320</td>\n",
       "      <td>-0.954479</td>\n",
       "    </tr>\n",
       "    <tr>\n",
       "      <th>0</th>\n",
       "      <td>-2.904438</td>\n",
       "      <td>-3.184016</td>\n",
       "      <td>3.222085</td>\n",
       "    </tr>\n",
       "    <tr>\n",
       "      <th>3</th>\n",
       "      <td>-1.410761</td>\n",
       "      <td>-1.191862</td>\n",
       "      <td>2.316106</td>\n",
       "    </tr>\n",
       "    <tr>\n",
       "      <th>36</th>\n",
       "      <td>-0.698997</td>\n",
       "      <td>-1.032148</td>\n",
       "      <td>-0.469277</td>\n",
       "    </tr>\n",
       "    <tr>\n",
       "      <th>30</th>\n",
       "      <td>-0.474860</td>\n",
       "      <td>-0.845339</td>\n",
       "      <td>-0.522629</td>\n",
       "    </tr>\n",
       "    <tr>\n",
       "      <th>9</th>\n",
       "      <td>0.105159</td>\n",
       "      <td>0.738972</td>\n",
       "      <td>0.237387</td>\n",
       "    </tr>\n",
       "    <tr>\n",
       "      <th>8</th>\n",
       "      <td>-0.125822</td>\n",
       "      <td>0.619186</td>\n",
       "      <td>0.239400</td>\n",
       "    </tr>\n",
       "    <tr>\n",
       "      <th>23</th>\n",
       "      <td>0.582520</td>\n",
       "      <td>-0.099529</td>\n",
       "      <td>-0.813549</td>\n",
       "    </tr>\n",
       "    <tr>\n",
       "      <th>40</th>\n",
       "      <td>-0.238746</td>\n",
       "      <td>-0.541596</td>\n",
       "      <td>-0.449144</td>\n",
       "    </tr>\n",
       "    <tr>\n",
       "      <th>1</th>\n",
       "      <td>-2.137924</td>\n",
       "      <td>-1.980453</td>\n",
       "      <td>2.641252</td>\n",
       "    </tr>\n",
       "    <tr>\n",
       "      <th>5</th>\n",
       "      <td>-1.309814</td>\n",
       "      <td>-0.627157</td>\n",
       "      <td>1.722186</td>\n",
       "    </tr>\n",
       "  </tbody>\n",
       "</table>\n",
       "</div>"
      ],
      "text/plain": [
       "     eur/usd   gbp/usb   yen/usd\n",
       "19  1.313104  1.313659 -0.618260\n",
       "16  1.571461  1.708668 -0.320293\n",
       "7  -0.149776  0.582110  0.228327\n",
       "18  0.721108  1.095478 -0.203523\n",
       "11  0.435376  0.969988  0.128670\n",
       "27 -0.129244 -0.872433 -0.483370\n",
       "35 -0.267833 -0.100955 -0.473303\n",
       "12  0.469596  0.657689 -0.146144\n",
       "22  1.063302  0.442360 -0.850794\n",
       "25  1.076990  0.510809 -0.687718\n",
       "20  1.419184  0.985674 -0.809522\n",
       "42 -0.153198  0.028813 -0.189430\n",
       "13  0.856275  1.059827 -0.271974\n",
       "10  0.050408  0.405283  0.041092\n",
       "41 -0.156620  0.028813 -0.132051\n",
       "34 -0.498814 -0.110937 -0.323313\n",
       "26  0.799813  0.110096 -0.688725\n",
       "17  1.217290  1.145389 -0.347473\n",
       "39  0.105159 -0.453183 -0.487396\n",
       "32 -0.365358  0.268385 -0.437064\n",
       "14  0.964066  1.269453 -0.304187\n",
       "2  -1.862457 -1.204697  2.060419\n",
       "24  0.703999 -0.135180 -0.732010\n",
       "37 -0.543299 -1.218957 -0.647452\n",
       "29 -0.601472 -0.597211 -0.558868\n",
       "6  -0.413265  0.174267  0.899759\n",
       "38 -0.397866 -1.217531 -0.400825\n",
       "33 -0.165174  0.353946 -0.413911\n",
       "21  1.550929  0.944320 -0.954479\n",
       "0  -2.904438 -3.184016  3.222085\n",
       "3  -1.410761 -1.191862  2.316106\n",
       "36 -0.698997 -1.032148 -0.469277\n",
       "30 -0.474860 -0.845339 -0.522629\n",
       "9   0.105159  0.738972  0.237387\n",
       "8  -0.125822  0.619186  0.239400\n",
       "23  0.582520 -0.099529 -0.813549\n",
       "40 -0.238746 -0.541596 -0.449144\n",
       "1  -2.137924 -1.980453  2.641252\n",
       "5  -1.309814 -0.627157  1.722186"
      ]
     },
     "execution_count": 20,
     "metadata": {},
     "output_type": "execute_result"
    }
   ],
   "source": [
    "mean_X_train=np.mean(X_train)\n",
    "std_X_train=np.std(X_train)\n",
    "X_train = (X_train - mean_X_train)/std_X_train\n",
    "\n",
    "\n",
    "mean_y_train=np.mean(y_train)\n",
    "std_y_train=np.std(y_train)\n",
    "y_train=(y_train-mean_y_train)/std_y_train\n",
    "y_train\n",
    "\n",
    "\n",
    "## apply same transformation to test data\n",
    "X_test = (X_test-mean_X_train)/std_X_train  # remove mean and standard deviation from test\n",
    "y_test = (y_test-mean_y_train)/std_y_train\n",
    "X_train"
   ]
  },
  {
   "cell_type": "code",
   "execution_count": 21,
   "id": "a856b090-da05-44af-94da-c2681f1b1bd1",
   "metadata": {},
   "outputs": [
    {
     "name": "stdout",
     "output_type": "stream",
     "text": [
      "Intercept: -0.00\n",
      "Coefficients:  [0.24457218 0.83227266 0.81580003]\n",
      "Coefficient of determination: 0.66\n",
      "Residual sum of squares: 0.339\n",
      "Root Mean Square (in-sample): 0.583\n",
      "Residual sum of squares: 0.501\n",
      "Root Mean Square (in-sample): 0.708\n"
     ]
    }
   ],
   "source": [
    "from sklearn import linear_model\n",
    "from sklearn.metrics import mean_squared_error, r2_score\n",
    "import math\n",
    "regr = linear_model.LinearRegression()\n",
    "regr.fit (X_train, y_train)\n",
    "print ('Intercept: %.2f' %regr.intercept_)\n",
    "print ('Coefficients: ', regr.coef_)\n",
    "y_hat_in = regr.predict(X_train)\n",
    "\n",
    "print(\"Coefficient of determination: %.2f\" % r2_score(y_train, y_hat_in))\n",
    "print(\"Residual sum of squares: %.3f\"\n",
    "      % np.mean((y_hat_in - y_train) ** 2))\n",
    "print(\"Root Mean Square (in-sample): %.3f\"\n",
    "      % math.sqrt(np.mean((y_hat_in - y_train)**2)))\n",
    "\n",
    "\n",
    "y_hat_out = regr.predict(X_test)\n",
    "print(\"Residual sum of squares: %.3f\"\n",
    "      % np.mean((y_hat_out - y_test) ** 2))\n",
    "print(\"Root Mean Square (in-sample): %.3f\"\n",
    "      % math.sqrt(np.mean((y_hat_out - y_test)**2)))"
   ]
  },
  {
   "cell_type": "code",
   "execution_count": 22,
   "id": "60b5d5af-c696-4db7-91ad-06f9b31de118",
   "metadata": {},
   "outputs": [
    {
     "data": {
      "image/png": "[encoded data removed]",
      "text/plain": [
       "<Figure size 432x288 with 1 Axes>"
      ]
     },
     "metadata": {
      "needs_background": "light"
     },
     "output_type": "display_data"
    }
   ],
   "source": [
    "import matplotlib.pyplot as plt\n",
    "plt.plot(y_hat_out)\n",
    "plt.show()"
   ]
  },
  {
   "cell_type": "code",
   "execution_count": null,
   "id": "2f14c25d-4ffa-4055-a805-6bd124fe269f",
   "metadata": {},
   "outputs": [],
   "source": []
  }
 ],
 "metadata": {
  "kernelspec": {
   "display_name": "Python 3 (ipykernel)",
   "language": "python",
   "name": "python3"
  },
  "language_info": {
   "codemirror_mode": {
    "name": "ipython",
    "version": 3
   },
   "file_extension": ".py",
   "mimetype": "text/x-python",
   "name": "python",
   "nbconvert_exporter": "python",
   "pygments_lexer": "ipython3",
   "version": "3.10.0"
  }
 },
 "nbformat": 4,
 "nbformat_minor": 5
}
